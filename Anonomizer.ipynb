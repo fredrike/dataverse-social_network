{
 "cells": [
  {
   "cell_type": "code",
   "execution_count": null,
   "metadata": {
    "ExecuteTime": {
     "end_time": "2018-12-13T14:39:13.892541Z",
     "start_time": "2018-12-13T14:39:13.873024Z"
    },
    "code_folding": [],
    "collapsed": true
   },
   "outputs": [],
   "source": [
    "import numpy as np\n",
    "import pandas as pd\n",
    "\n",
    "SOURCE_PATH = \"crawled_data/\"\n",
    "DEST_PATH = \"anonomized_data/\"\n",
    "\n",
    "def anonomizePage(page, post_map):\n",
    "    print(page)\n",
    "    df = pd.read_csv(SOURCE_PATH + \"%d-users.csv.gz\" % page)\n",
    "    df['fb_id-a'] = df[col].map({\n",
    "        r['index']: i\n",
    "        for i, r in df['fb_id'].value_counts().reset_index().iterrows()\n",
    "    })\n",
    "    df['post_id-a'] = df['post_id'].map(post_map)\n",
    "    (df.dropna().sort_values(['fb_id-a']).to_csv(\n",
    "        DEST_PATH + \"%d.csv\" % page,\n",
    "        float_format=\"%d\",\n",
    "        columns=['post_id-a', 'fb_id-a', 'type'],\n",
    "        header=['post', 'user', 'type'],\n",
    "        index=False))\n",
    "\n",
    "def anonomizeInteractions(interactions):\n",
    "    post_map = interactions['post_id'].drop_duplicates().reset_index(drop=True)\n",
    "    post_map = pd.Series(post_map.index.values, index=post_map)\n",
    "    interactions['post_id'] = interactions['post_id'].map(post_map)\n",
    "    interactions.to_csv(DEST_PATH + '00__combinedPageInteractions.csv',\n",
    "                     float_format=\"%d\", index=False)\n",
    "    return post_map"
   ]
  },
  {
   "cell_type": "code",
   "execution_count": null,
   "metadata": {
    "ExecuteTime": {
     "end_time": "2018-12-13T14:19:27.344027Z",
     "start_time": "2018-12-13T14:19:20.000371Z"
    },
    "collapsed": false
   },
   "outputs": [],
   "source": [
    "interactions = pd.read_csv(SOURCE_PATH + 'combinedPageInteractions.csv.bz2', parse_dates=[7])\n",
    "post_map = anonomizeInteractions(interactions)\n",
    "pages = interactions.page_id.unique()\n",
    "print(len(pages))\n",
    "\n",
    "for page in pages:\n",
    "    print('Anonomizes {}'.format(page))\n",
    "    anonomizePage(page, post_map)"
   ]
  }
 ],
 "metadata": {
  "anaconda-cloud": {},
  "kernelspec": {
   "display_name": "Python [default]",
   "language": "python",
   "name": "python3"
  },
  "language_info": {
   "codemirror_mode": {
    "name": "ipython",
    "version": 3
   },
   "file_extension": ".py",
   "mimetype": "text/x-python",
   "name": "python",
   "nbconvert_exporter": "python",
   "pygments_lexer": "ipython3",
   "version": "3.5.3"
  }
 },
 "nbformat": 4,
 "nbformat_minor": 1
}
