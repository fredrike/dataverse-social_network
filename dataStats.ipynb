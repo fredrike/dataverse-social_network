{
 "cells": [
  {
   "cell_type": "code",
   "execution_count": 1,
   "metadata": {
    "ExecuteTime": {
     "end_time": "2018-10-11T13:48:54.005074Z",
     "start_time": "2018-10-11T13:48:50.444063Z"
    },
    "collapsed": false,
    "deletable": true,
    "editable": true
   },
   "outputs": [],
   "source": [
    "import pandas as pd\n",
    "import numpy as np\n",
    "\n",
    "from pandas.io.json import json_normalize\n",
    "\n",
    "from IPython.core.display import display, HTML\n",
    "import locale\n",
    "locale.setlocale(locale.LC_ALL, 'en_US')\n",
    "\n",
    "from concurrent.futures import ProcessPoolExecutor\n",
    "import multiprocessing\n",
    "from tqdm import tqdm_notebook as tqdm\n",
    "\n",
    "timeout = 3600  # Timeout for building bipartite graph.\n",
    "num_processes = int(multiprocessing.cpu_count())\n",
    "\n",
    "DATA_DOI = 'doi:10.7910/DVN/DCBDEP'\n",
    "DATA_FILE = 'https://dataverse.harvard.edu/api/access/datafile/:persistentId/?persistentId={persistent_id}'\n",
    "CONTENTS_URI = 'https://dataverse.harvard.edu/api/datasets/:persistentId/versions/1/files?persistentId={}'.format(DATA_DOI)\n"
   ]
  },
  {
   "cell_type": "code",
   "execution_count": 2,
   "metadata": {
    "ExecuteTime": {
     "end_time": "2018-10-11T13:48:58.885444Z",
     "start_time": "2018-10-11T13:48:56.048954Z"
    },
    "code_folding": [
     4,
     26,
     39
    ],
    "collapsed": false,
    "deletable": true,
    "editable": true
   },
   "outputs": [],
   "source": [
    "import time\n",
    "import graph_tool as gt\n",
    "from graph_tool.stats import vertex_average\n",
    "\n",
    "def buildGraph(df, debug=False, timeout=900):\n",
    "    if debug: tic = time.time()\n",
    "    b = gt.Graph(directed=False)\n",
    "    b.add_edge_list(df[['post', 'user']].values)\n",
    "    if debug:\n",
    "        print(\"Bipartite nodes: %d, vertices: %d\" % (b.num_vertices(), b.num_edges()))\n",
    "        print(\"Average degree:\", vertex_average(b, \"total\"))\n",
    "        print(\"Time\", time.time() - tic)\n",
    "        tic = time.time()\n",
    "    user_count = df.user.value_counts()\n",
    "    p = projected_graph(b, user_count[user_count >= 2].index, timeout=timeout)\n",
    "    if debug:\n",
    "        print(\"Projection nodes: %d, vertices: %d\" % (p.num_vertices(), p.num_edges()))\n",
    "        print(\"Average degree:\", vertex_average(p, \"total\"))\n",
    "        print(\"Time\", time.time() - tic)\n",
    "    \n",
    "        degree_sequence = sorted(p.get_out_degrees(p.get_vertices()), reverse=True)\n",
    "\n",
    "    del b\n",
    "    return p\n",
    "\n",
    "\n",
    "def projected_graph(b, nodes, timeout=900):\n",
    "    tic = time.time()\n",
    "    p = gt.Graph(directed=False)\n",
    "    try:\n",
    "        for u in nodes:\n",
    "            nbrs2 = [n for nbr in b.vertex(u).all_neighbours() for n in b.vertex(nbr).all_neighbours()]\n",
    "            p.add_edge_list((u, n) for n in nbrs2)\n",
    "            if time.time() - tic > timeout: raise\n",
    "    except:\n",
    "        p = gt.Graph(directed=False)\n",
    "    return p\n",
    "\n",
    "\n",
    "def extractUserInteractions(uri):\n",
    "    df = pd.read_csv(uri, index_col=False, engine='c',\n",
    "                    dtype={'post': np.int64, 'user': np.float64, 'type': str})\n",
    "    df = df[df['type'] == 'C']\n",
    "    df.dropna(inplace=True)\n",
    "    _map = df['user'].drop_duplicates().reset_index(drop=True)\n",
    "    _map = pd.Series(_map.index.values, index=_map)\n",
    "    df['user'] = df['user'].map(_map)\n",
    "    _map = df['post'].drop_duplicates().reset_index(drop=True)\n",
    "    _map = pd.Series(_map.index.values, index=_map)\n",
    "    _map += len(df['user'].unique()) + 10\n",
    "    df['post'] = df['post'].map(_map)\n",
    "    \n",
    "    df['user'] = df['user'].astype(np.uint32, casting='safe')\n",
    "    df['post'] = df['post'].astype(np.uint32, casting='safe')\n",
    "    # print(\"Read %d interactions for the page %d\" % (len(df), page))\n",
    "    return df"
   ]
  },
  {
   "cell_type": "code",
   "execution_count": 3,
   "metadata": {
    "ExecuteTime": {
     "end_time": "2018-10-11T13:48:58.921539Z",
     "start_time": "2018-10-11T13:48:58.887752Z"
    },
    "code_folding": [
     24
    ],
    "collapsed": false,
    "deletable": true,
    "editable": true
   },
   "outputs": [],
   "source": [
    "def download_datafile(dataFile_id, overwrite=True):\n",
    "    import shutil\n",
    "    import requests\n",
    "    import os.path\n",
    "\n",
    "    url = 'https://dataverse.harvard.edu/api/access/datafile/{id}?format=original'.format(id=dataFile_id)\n",
    "    try:\n",
    "        r = requests.get(url, stream=True, allow_redirects=True, timeout=1)\n",
    "        filename = r.headers.get('content-disposition')\n",
    "        filename = filename.split(\"'\")[2] if len(filename.split(\"'\")) > 2 else filename.split('\"')[1]\n",
    "        try:\n",
    "            if overwrite or not os.path.isfile('data/{}'.format(filename)):\n",
    "                with open('data/{}'.format(filename), 'wb') as fd:\n",
    "                    shutil.copyfileobj(r.raw, fd)\n",
    "            return (filename, dataFile_id)\n",
    "        except:\n",
    "            if os.path.isfile('data/{}'.format(filename)):\n",
    "                os.remove('data/{}'.format(filename))\n",
    "    except:\n",
    "        pass\n",
    "\n",
    "    return (None, dataFile_id)\n",
    "\n",
    "\n",
    "def process_file(filename):\n",
    "    try:\n",
    "        if filename in ['00__combinedPageInteractions.csv']:\n",
    "            raise\n",
    "        df = pd.read_csv('data/' + filename, index_col=False,\n",
    "                        dtype={'post': np.int64, 'user': np.float64, 'type': str})\n",
    "        types = df.type.value_counts()\n",
    "        graph = buildGraph(df[df['type'] == 'C'].dropna(), debug=False, timeout=timeout)\n",
    "        return {filename.split('.')[0]: [len(df.post.unique()), len(df.user.unique()), \n",
    "                                         types['C'] if 'C' in types.index else 0, \n",
    "                                         types['L'] if 'L' in types.index else 0,\n",
    "                                         graph.num_edges() if graph.num_edges() else np.nan,\n",
    "                                         graph.num_vertices() if graph.num_vertices() else np.nan]}\n",
    "    except:\n",
    "        pass\n",
    "        return {filename.split('.')[0]: []}"
   ]
  },
  {
   "cell_type": "code",
   "execution_count": 4,
   "metadata": {
    "ExecuteTime": {
     "end_time": "2018-10-11T13:51:12.123477Z",
     "start_time": "2018-10-11T13:48:59.783911Z"
    },
    "code_folding": [],
    "collapsed": false,
    "deletable": true,
    "editable": true
   },
   "outputs": [
    {
     "data": {
      "application/vnd.jupyter.widget-view+json": {
       "model_id": "b62f1760fdab4938a5aa5a0429110c11"
      }
     },
     "metadata": {},
     "output_type": "display_data"
    },
    {
     "name": "stdout",
     "output_type": "stream",
     "text": [
      "\n"
     ]
    },
    {
     "data": {
      "application/vnd.jupyter.widget-view+json": {
       "model_id": "bd568d57ef3c4581aca2f84692c82122"
      }
     },
     "metadata": {},
     "output_type": "display_data"
    },
    {
     "name": "stdout",
     "output_type": "stream",
     "text": [
      "\n"
     ]
    }
   ],
   "source": [
    "files = json_normalize(data=pd.read_json(CONTENTS_URI)['data']).set_index('label')\n",
    "file_ids = files['dataFile.id']\n",
    "filenames = set()\n",
    "\n",
    "for _ in range(5):  # Try five times to download all files from Dataverse.\n",
    "    # Process the rows in chunks in parallel\n",
    "    with ProcessPoolExecutor(num_processes) as pool:\n",
    "        fn = list(tqdm(pool.map(download_datafile, file_ids, chunksize=1), total=len(file_ids)))\n",
    "    filenames = filenames.union(set(x[0] for x in fn if x[0]))\n",
    "    file_ids = [x[1] for x in fn if not x[0]]\n",
    "    if len(file_ids) == 0:\n",
    "        break\n"
   ]
  },
  {
   "cell_type": "code",
   "execution_count": 5,
   "metadata": {
    "ExecuteTime": {
     "start_time": "2018-10-11T12:52:06.710Z",
     "end_time": "2018-10-11T12:52:06.714Z"
    },
    "collapsed": false,
    "deletable": true,
    "editable": true
   },
   "outputs": [
    {
     "data": {
      "text/plain": [
       "161"
      ]
     },
     "execution_count": 5,
     "metadata": {},
     "output_type": "execute_result"
    }
   ],
   "source": [
    "len(filenames)"
   ]
  },
  {
   "cell_type": "code",
   "execution_count": 6,
   "metadata": {
    "ExecuteTime": {
     "start_time": "2018-10-11T12:52:09.157Z",
     "end_time": "2018-10-11T14:46:09.157Z"
    },
    "code_folding": [],
    "collapsed": false,
    "deletable": true,
    "editable": true,
    "scrolled": true
   },
   "outputs": [
    {
     "data": {
      "application/vnd.jupyter.widget-view+json": {
       "model_id": "61d04a2d2e0247ba874286ca58eba06e"
      }
     },
     "metadata": {},
     "output_type": "display_data"
    },
    {
     "name": "stdout",
     "output_type": "stream",
     "text": [
      "\n"
     ]
    }
   ],
   "source": [
    "with ProcessPoolExecutor(8) as pool:\n",
    "    pages = list(tqdm(pool.map(process_file, filenames, chunksize=1), total=len(filenames)))\n",
    "    \n",
    "stats = pd.DataFrame.from_dict(dict((key,d[key]) for d in pages for key in d), orient='index',\n",
    "                               columns=[\"Posts\", \"Users\", \"Comments\", \"Likes\", 'Edges', 'Nodes'])\n"
   ]
  },
  {
   "cell_type": "code",
   "execution_count": 7,
   "metadata": {
    "ExecuteTime": {
     "end_time": "2018-10-11T16:07:17.304075Z",
     "start_time": "2018-10-11T16:07:17.175967Z"
    },
    "collapsed": false,
    "deletable": true,
    "editable": true
   },
   "outputs": [],
   "source": [
    "stats.to_pickle('stats_01.pkl')"
   ]
  },
  {
   "cell_type": "code",
   "execution_count": 8,
   "metadata": {
    "ExecuteTime": {
     "end_time": "2018-10-11T16:07:19.304075Z",
     "start_time": "2018-10-11T16:07:19.175967Z"
    },
    "collapsed": false,
    "deletable": true,
    "editable": true,
    "scrolled": false
   },
   "outputs": [
    {
     "name": "stdout",
     "output_type": "stream",
     "text": [
      "161\n"
     ]
    },
    {
     "data": {
      "text/html": [
       "<table border=\"1\" class=\"dataframe\">\n",
       "  <thead>\n",
       "    <tr style=\"text-align: right;\">\n",
       "      <th>Metric</th>\n",
       "      <th>Mean</th>\n",
       "      <th>Std.</th>\n",
       "      <th>Min</th>\n",
       "      <th>$Q1$</th>\n",
       "      <th>Median</th>\n",
       "      <th>$Q3$</th>\n",
       "      <th>Max</th>\n",
       "      <th>Sum</th>\n",
       "    </tr>\n",
       "  </thead>\n",
       "  <tbody>\n",
       "    <tr>\n",
       "      <th>Posts</th>\n",
       "      <td>11,950</td>\n",
       "      <td>30,472</td>\n",
       "      <td>4</td>\n",
       "      <td>874</td>\n",
       "      <td>3,088</td>\n",
       "      <td>9,588</td>\n",
       "      <td>236,499</td>\n",
       "      <td>1,912,016</td>\n",
       "    </tr>\n",
       "    <tr>\n",
       "      <th>Users</th>\n",
       "      <td>2,544,019</td>\n",
       "      <td>11,408,810</td>\n",
       "      <td>182</td>\n",
       "      <td>26,589</td>\n",
       "      <td>180,314</td>\n",
       "      <td>897,564</td>\n",
       "      <td>113,374,887</td>\n",
       "      <td>407,043,116</td>\n",
       "    </tr>\n",
       "    <tr>\n",
       "      <th>Comments</th>\n",
       "      <td>603,743</td>\n",
       "      <td>2,580,485</td>\n",
       "      <td>37</td>\n",
       "      <td>10,638</td>\n",
       "      <td>45,592</td>\n",
       "      <td>230,205</td>\n",
       "      <td>27,550,352</td>\n",
       "      <td>96,599,002</td>\n",
       "    </tr>\n",
       "    <tr>\n",
       "      <th>Likes</th>\n",
       "      <td>7,557,290</td>\n",
       "      <td>33,899,018</td>\n",
       "      <td>384</td>\n",
       "      <td>54,923</td>\n",
       "      <td>442,424</td>\n",
       "      <td>2,589,165</td>\n",
       "      <td>308,495,988</td>\n",
       "      <td>1,209,166,428</td>\n",
       "    </tr>\n",
       "    <tr>\n",
       "      <th>Edges</th>\n",
       "      <td>26,598,994</td>\n",
       "      <td>56,070,956</td>\n",
       "      <td>41</td>\n",
       "      <td>163,362</td>\n",
       "      <td>1,775,807</td>\n",
       "      <td>16,519,553</td>\n",
       "      <td>274,925,107</td>\n",
       "      <td>3,750,458,258</td>\n",
       "    </tr>\n",
       "    <tr>\n",
       "      <th>Nodes</th>\n",
       "      <td>636,588</td>\n",
       "      <td>1,447,806</td>\n",
       "      <td>48</td>\n",
       "      <td>19,984</td>\n",
       "      <td>117,437</td>\n",
       "      <td>617,935</td>\n",
       "      <td>9,333,469</td>\n",
       "      <td>89,758,965</td>\n",
       "    </tr>\n",
       "  </tbody>\n",
       "</table>"
      ],
      "text/plain": [
       "<IPython.core.display.HTML object>"
      ]
     },
     "metadata": {},
     "output_type": "display_data"
    }
   ],
   "source": [
    "print(len(stats))\n",
    "s = (stats.drop(['00__combinedPageInteractions'], errors='ignore').describe()\n",
    "         .T[['mean','std','min','25%', '50%', '75%', 'max']])\n",
    "s.columns.name = 'Metric'\n",
    "s.index.name = None\n",
    "s['Sum'] = stats.sum()\n",
    "s.rename(index={'Number of edges': 'Edges', 'Number of nodes': 'Nodes'},\n",
    "         columns={'mean': \"Mean\",'std': 'Std.','min': 'Min','25%': '$Q1$', \n",
    "                  '50%': 'Median', '75%': '$Q3$', 'max': 'Max'},\n",
    "         inplace=True)\n",
    "\n",
    "s.to_latex('article/pageStats.tex', bold_rows=True, escape=False,\n",
    "           float_format=lambda x: \"$%s$\" % locale.format(\"%d\", x, grouping=True))\n",
    "\n",
    "from IPython.core.display import HTML, display, Latex\n",
    "display(HTML(s.to_html(float_format=lambda x: locale.format(\"%d\", x, grouping=True))))\n"
   ]
  },
  {
   "cell_type": "code",
   "execution_count": 9,
   "metadata": {
    "ExecuteTime": {
     "end_time": "2018-10-11T16:07:21.828825Z",
     "start_time": "2018-10-11T16:07:21.430690Z"
    },
    "code_folding": [],
    "collapsed": false,
    "deletable": true,
    "editable": true,
    "scrolled": false
   },
   "outputs": [
    {
     "name": "stdout",
     "output_type": "stream",
     "text": [
      "160\n"
     ]
    },
    {
     "data": {
      "text/html": [
       "<table border=\"1\" class=\"dataframe\">\n",
       "  <thead>\n",
       "    <tr style=\"text-align: right;\">\n",
       "      <th>Name</th>\n",
       "      <th>Id</th>\n",
       "      <th>Posts</th>\n",
       "      <th>Users</th>\n",
       "      <th>Comments</th>\n",
       "      <th>Likes</th>\n",
       "      <th>Edges</th>\n",
       "      <th>Nodes</th>\n",
       "    </tr>\n",
       "  </thead>\n",
       "  <tbody>\n",
       "    <tr>\n",
       "      <td>Sustainable Development Policy &amp; Practice / Po...</td>\n",
       "      <td>126385310775420</td>\n",
       "      <td>297</td>\n",
       "      <td>273</td>\n",
       "      <td>37</td>\n",
       "      <td>384</td>\n",
       "      <td>41</td>\n",
       "      <td>170</td>\n",
       "    </tr>\n",
       "    <tr>\n",
       "      <td>Ski-Akademie Schladming</td>\n",
       "      <td>266340220123141</td>\n",
       "      <td>191</td>\n",
       "      <td>949</td>\n",
       "      <td>64</td>\n",
       "      <td>1,773</td>\n",
       "      <td>50</td>\n",
       "      <td>242</td>\n",
       "    </tr>\n",
       "    <tr>\n",
       "      <td>Royal Club Consulting</td>\n",
       "      <td>203841476411447</td>\n",
       "      <td>445</td>\n",
       "      <td>182</td>\n",
       "      <td>38</td>\n",
       "      <td>1,300</td>\n",
       "      <td>52</td>\n",
       "      <td>48</td>\n",
       "    </tr>\n",
       "    <tr>\n",
       "      <td>Chaddsford Winery</td>\n",
       "      <td>493075535051</td>\n",
       "      <td>126</td>\n",
       "      <td>480</td>\n",
       "      <td>160</td>\n",
       "      <td>814</td>\n",
       "      <td>295</td>\n",
       "      <td>473</td>\n",
       "    </tr>\n",
       "    <tr>\n",
       "      <td>Say NO to Bullying</td>\n",
       "      <td>246881265345291</td>\n",
       "      <td>299</td>\n",
       "      <td>469</td>\n",
       "      <td>129</td>\n",
       "      <td>791</td>\n",
       "      <td>305</td>\n",
       "      <td>440</td>\n",
       "    </tr>\n",
       "    <tr>\n",
       "      <td>488878434469215</td>\n",
       "      <td>488878434469215</td>\n",
       "      <td>492</td>\n",
       "      <td>1,889</td>\n",
       "      <td>224</td>\n",
       "      <td>4,872</td>\n",
       "      <td>350</td>\n",
       "      <td>1,855</td>\n",
       "    </tr>\n",
       "    <tr>\n",
       "      <td>Posthotel Schladming</td>\n",
       "      <td>184073274591</td>\n",
       "      <td>142</td>\n",
       "      <td>600</td>\n",
       "      <td>162</td>\n",
       "      <td>1,806</td>\n",
       "      <td>426</td>\n",
       "      <td>588</td>\n",
       "    </tr>\n",
       "    <tr>\n",
       "      <td>Play Station, Nitendo, X Boxs  E.t.c</td>\n",
       "      <td>10237302714</td>\n",
       "      <td>86</td>\n",
       "      <td>390</td>\n",
       "      <td>143</td>\n",
       "      <td>385</td>\n",
       "      <td>1,002</td>\n",
       "      <td>401</td>\n",
       "    </tr>\n",
       "    <tr>\n",
       "      <td>Energy Saver</td>\n",
       "      <td>121219973056</td>\n",
       "      <td>669</td>\n",
       "      <td>2,909</td>\n",
       "      <td>644</td>\n",
       "      <td>6,397</td>\n",
       "      <td>1,104</td>\n",
       "      <td>2,904</td>\n",
       "    </tr>\n",
       "    <tr>\n",
       "      <td>Dourakis Winery</td>\n",
       "      <td>106096217726</td>\n",
       "      <td>253</td>\n",
       "      <td>3,048</td>\n",
       "      <td>400</td>\n",
       "      <td>7,042</td>\n",
       "      <td>1,585</td>\n",
       "      <td>2,784</td>\n",
       "    </tr>\n",
       "    <tr>\n",
       "      <td>THE nightrace Schladming official site</td>\n",
       "      <td>220818858019</td>\n",
       "      <td>223</td>\n",
       "      <td>3,085</td>\n",
       "      <td>628</td>\n",
       "      <td>4,932</td>\n",
       "      <td>3,416</td>\n",
       "      <td>3,079</td>\n",
       "    </tr>\n",
       "    <tr>\n",
       "      <td>Betty Boom</td>\n",
       "      <td>9564135890</td>\n",
       "      <td>336</td>\n",
       "      <td>657</td>\n",
       "      <td>648</td>\n",
       "      <td>3,365</td>\n",
       "      <td>3,596</td>\n",
       "      <td>632</td>\n",
       "    </tr>\n",
       "    <tr>\n",
       "      <td>24-Hour Bully Stake-Out</td>\n",
       "      <td>150499681635588</td>\n",
       "      <td>815</td>\n",
       "      <td>750</td>\n",
       "      <td>1,008</td>\n",
       "      <td>1,485</td>\n",
       "      <td>3,730</td>\n",
       "      <td>727</td>\n",
       "    </tr>\n",
       "    <tr>\n",
       "      <td>Charlie's Sub Sandwich Station</td>\n",
       "      <td>268228483234</td>\n",
       "      <td>952</td>\n",
       "      <td>1,555</td>\n",
       "      <td>1,118</td>\n",
       "      <td>3,685</td>\n",
       "      <td>4,256</td>\n",
       "      <td>1,550</td>\n",
       "    </tr>\n",
       "    <tr>\n",
       "      <td>Keep Matt Free</td>\n",
       "      <td>192646367542354</td>\n",
       "      <td>100</td>\n",
       "      <td>3,634</td>\n",
       "      <td>402</td>\n",
       "      <td>5,435</td>\n",
       "      <td>4,616</td>\n",
       "      <td>3,596</td>\n",
       "    </tr>\n",
       "    <tr>\n",
       "      <td>Cancer Research UK Relay For Life</td>\n",
       "      <td>6700961047</td>\n",
       "      <td>363</td>\n",
       "      <td>1,328</td>\n",
       "      <td>881</td>\n",
       "      <td>3,258</td>\n",
       "      <td>6,567</td>\n",
       "      <td>1,324</td>\n",
       "    </tr>\n",
       "    <tr>\n",
       "      <td>Mutt Lynch Winery</td>\n",
       "      <td>161976601328</td>\n",
       "      <td>481</td>\n",
       "      <td>3,170</td>\n",
       "      <td>1,227</td>\n",
       "      <td>7,018</td>\n",
       "      <td>6,990</td>\n",
       "      <td>3,163</td>\n",
       "    </tr>\n",
       "    <tr>\n",
       "      <td>Tiger</td>\n",
       "      <td>11132188727</td>\n",
       "      <td>361</td>\n",
       "      <td>1,579</td>\n",
       "      <td>499</td>\n",
       "      <td>2,161</td>\n",
       "      <td>8,567</td>\n",
       "      <td>1,576</td>\n",
       "    </tr>\n",
       "    <tr>\n",
       "      <td>Sharrott Winery</td>\n",
       "      <td>15554410418</td>\n",
       "      <td>663</td>\n",
       "      <td>1,585</td>\n",
       "      <td>1,463</td>\n",
       "      <td>6,880</td>\n",
       "      <td>8,765</td>\n",
       "      <td>1,556</td>\n",
       "    </tr>\n",
       "    <tr>\n",
       "      <td>日テレNEWS24公式ページ</td>\n",
       "      <td>282571518441363</td>\n",
       "      <td>2,213</td>\n",
       "      <td>26,868</td>\n",
       "      <td>3,459</td>\n",
       "      <td>138,183</td>\n",
       "      <td>9,090</td>\n",
       "      <td>26,781</td>\n",
       "    </tr>\n",
       "    <tr>\n",
       "      <td>WINERY</td>\n",
       "      <td>146839468660306</td>\n",
       "      <td>667</td>\n",
       "      <td>4,659</td>\n",
       "      <td>1,063</td>\n",
       "      <td>15,979</td>\n",
       "      <td>9,717</td>\n",
       "      <td>4,648</td>\n",
       "    </tr>\n",
       "    <tr>\n",
       "      <td>ATOMIC SKIING</td>\n",
       "      <td>132728146765723</td>\n",
       "      <td>784</td>\n",
       "      <td>22,089</td>\n",
       "      <td>1,946</td>\n",
       "      <td>58,695</td>\n",
       "      <td>9,746</td>\n",
       "      <td>22,062</td>\n",
       "    </tr>\n",
       "    <tr>\n",
       "      <td>Drink Air</td>\n",
       "      <td>310752782271834</td>\n",
       "      <td>457</td>\n",
       "      <td>2,271</td>\n",
       "      <td>1,417</td>\n",
       "      <td>5,771</td>\n",
       "      <td>10,012</td>\n",
       "      <td>2,267</td>\n",
       "    </tr>\n",
       "    <tr>\n",
       "      <td>Farmville Bonus</td>\n",
       "      <td>130833830320642</td>\n",
       "      <td>635</td>\n",
       "      <td>16,052</td>\n",
       "      <td>2,775</td>\n",
       "      <td>33,285</td>\n",
       "      <td>16,022</td>\n",
       "      <td>16,039</td>\n",
       "    </tr>\n",
       "    <tr>\n",
       "      <td>PLAY STATION 2</td>\n",
       "      <td>18651374805</td>\n",
       "      <td>589</td>\n",
       "      <td>1,877</td>\n",
       "      <td>1,302</td>\n",
       "      <td>1,671</td>\n",
       "      <td>17,224</td>\n",
       "      <td>1,876</td>\n",
       "    </tr>\n",
       "    <tr>\n",
       "      <td>Stop It Now!</td>\n",
       "      <td>16871848717</td>\n",
       "      <td>709</td>\n",
       "      <td>1,286</td>\n",
       "      <td>1,276</td>\n",
       "      <td>3,565</td>\n",
       "      <td>20,819</td>\n",
       "      <td>1,283</td>\n",
       "    </tr>\n",
       "    <tr>\n",
       "      <td>Festiwal Polskich Filmów Fabularnych</td>\n",
       "      <td>251797246747</td>\n",
       "      <td>673</td>\n",
       "      <td>5,207</td>\n",
       "      <td>2,443</td>\n",
       "      <td>14,210</td>\n",
       "      <td>22,145</td>\n",
       "      <td>5,130</td>\n",
       "    </tr>\n",
       "    <tr>\n",
       "      <td>Caring and Courageous</td>\n",
       "      <td>178435075560368</td>\n",
       "      <td>3,598</td>\n",
       "      <td>13,182</td>\n",
       "      <td>4,577</td>\n",
       "      <td>55,642</td>\n",
       "      <td>30,725</td>\n",
       "      <td>13,066</td>\n",
       "    </tr>\n",
       "    <tr>\n",
       "      <td>Friends of NRA</td>\n",
       "      <td>261098770903</td>\n",
       "      <td>1,722</td>\n",
       "      <td>68,063</td>\n",
       "      <td>4,588</td>\n",
       "      <td>112,618</td>\n",
       "      <td>57,591</td>\n",
       "      <td>68,044</td>\n",
       "    </tr>\n",
       "    <tr>\n",
       "      <td>Chateau Elan Winery &amp; Resort</td>\n",
       "      <td>19286773617</td>\n",
       "      <td>727</td>\n",
       "      <td>25,008</td>\n",
       "      <td>4,814</td>\n",
       "      <td>41,928</td>\n",
       "      <td>57,746</td>\n",
       "      <td>25,006</td>\n",
       "    </tr>\n",
       "    <tr>\n",
       "      <td>15755709838</td>\n",
       "      <td>15755709838</td>\n",
       "      <td>990</td>\n",
       "      <td>23,161</td>\n",
       "      <td>5,981</td>\n",
       "      <td>92,914</td>\n",
       "      <td>78,051</td>\n",
       "      <td>23,099</td>\n",
       "    </tr>\n",
       "    <tr>\n",
       "      <td>Drew Curtis' Fark.com</td>\n",
       "      <td>42145905998</td>\n",
       "      <td>2,499</td>\n",
       "      <td>13,603</td>\n",
       "      <td>5,775</td>\n",
       "      <td>22,681</td>\n",
       "      <td>89,410</td>\n",
       "      <td>13,602</td>\n",
       "    </tr>\n",
       "    <tr>\n",
       "      <td>Oceana</td>\n",
       "      <td>6334782252</td>\n",
       "      <td>828</td>\n",
       "      <td>78,971</td>\n",
       "      <td>6,969</td>\n",
       "      <td>180,096</td>\n",
       "      <td>99,960</td>\n",
       "      <td>78,793</td>\n",
       "    </tr>\n",
       "    <tr>\n",
       "      <td>Occupy Wall Street</td>\n",
       "      <td>258106877558909</td>\n",
       "      <td>2,608</td>\n",
       "      <td>14,227</td>\n",
       "      <td>6,600</td>\n",
       "      <td>23,867</td>\n",
       "      <td>114,195</td>\n",
       "      <td>14,223</td>\n",
       "    </tr>\n",
       "    <tr>\n",
       "      <td>Pureology Serious Colour Care</td>\n",
       "      <td>16792472126</td>\n",
       "      <td>1,865</td>\n",
       "      <td>15,936</td>\n",
       "      <td>8,428</td>\n",
       "      <td>31,866</td>\n",
       "      <td>127,279</td>\n",
       "      <td>15,932</td>\n",
       "    </tr>\n",
       "    <tr>\n",
       "      <td>Rainforest Action Network</td>\n",
       "      <td>8002590959</td>\n",
       "      <td>3,097</td>\n",
       "      <td>118,060</td>\n",
       "      <td>16,067</td>\n",
       "      <td>249,414</td>\n",
       "      <td>163,362</td>\n",
       "      <td>118,052</td>\n",
       "    </tr>\n",
       "    <tr>\n",
       "      <td>One Year Bible Blog</td>\n",
       "      <td>30775112500</td>\n",
       "      <td>3,206</td>\n",
       "      <td>50,652</td>\n",
       "      <td>16,744</td>\n",
       "      <td>339,679</td>\n",
       "      <td>176,696</td>\n",
       "      <td>50,629</td>\n",
       "    </tr>\n",
       "    <tr>\n",
       "      <td>Rumah Madani - Busana Muslim</td>\n",
       "      <td>111452573760</td>\n",
       "      <td>8,828</td>\n",
       "      <td>18,291</td>\n",
       "      <td>18,571</td>\n",
       "      <td>19,623</td>\n",
       "      <td>202,206</td>\n",
       "      <td>18,290</td>\n",
       "    </tr>\n",
       "    <tr>\n",
       "      <td>AMBER Alert</td>\n",
       "      <td>226402156107</td>\n",
       "      <td>348</td>\n",
       "      <td>90,175</td>\n",
       "      <td>8,751</td>\n",
       "      <td>143,833</td>\n",
       "      <td>220,934</td>\n",
       "      <td>90,174</td>\n",
       "    </tr>\n",
       "    <tr>\n",
       "      <td>Smilebox</td>\n",
       "      <td>6289201895</td>\n",
       "      <td>2,486</td>\n",
       "      <td>48,109</td>\n",
       "      <td>11,578</td>\n",
       "      <td>74,251</td>\n",
       "      <td>265,699</td>\n",
       "      <td>48,082</td>\n",
       "    </tr>\n",
       "    <tr>\n",
       "      <td>Intel Australia</td>\n",
       "      <td>145393495515570</td>\n",
       "      <td>983</td>\n",
       "      <td>46,882</td>\n",
       "      <td>11,219</td>\n",
       "      <td>63,032</td>\n",
       "      <td>269,099</td>\n",
       "      <td>46,878</td>\n",
       "    </tr>\n",
       "    <tr>\n",
       "      <td>Orange</td>\n",
       "      <td>7558451780</td>\n",
       "      <td>9,090</td>\n",
       "      <td>31,107</td>\n",
       "      <td>26,559</td>\n",
       "      <td>44,124</td>\n",
       "      <td>280,297</td>\n",
       "      <td>31,098</td>\n",
       "    </tr>\n",
       "    <tr>\n",
       "      <td>Pakistan Air Force</td>\n",
       "      <td>169629069729559</td>\n",
       "      <td>2,513</td>\n",
       "      <td>75,821</td>\n",
       "      <td>18,155</td>\n",
       "      <td>201,082</td>\n",
       "      <td>285,928</td>\n",
       "      <td>75,817</td>\n",
       "    </tr>\n",
       "    <tr>\n",
       "      <td>Remove and Replace Every Teapublican in 2012</td>\n",
       "      <td>152358668171541</td>\n",
       "      <td>2,408</td>\n",
       "      <td>25,755</td>\n",
       "      <td>9,773</td>\n",
       "      <td>91,126</td>\n",
       "      <td>300,812</td>\n",
       "      <td>25,722</td>\n",
       "    </tr>\n",
       "    <tr>\n",
       "      <td>Intel Malaysia</td>\n",
       "      <td>144511635581827</td>\n",
       "      <td>2,951</td>\n",
       "      <td>123,276</td>\n",
       "      <td>12,407</td>\n",
       "      <td>207,804</td>\n",
       "      <td>303,951</td>\n",
       "      <td>123,264</td>\n",
       "    </tr>\n",
       "    <tr>\n",
       "      <td>Disneynature</td>\n",
       "      <td>41120927270</td>\n",
       "      <td>413</td>\n",
       "      <td>67,000</td>\n",
       "      <td>10,875</td>\n",
       "      <td>129,282</td>\n",
       "      <td>371,780</td>\n",
       "      <td>66,979</td>\n",
       "    </tr>\n",
       "    <tr>\n",
       "      <td>kate spade new york</td>\n",
       "      <td>10737653985</td>\n",
       "      <td>1,084</td>\n",
       "      <td>104,558</td>\n",
       "      <td>18,568</td>\n",
       "      <td>278,173</td>\n",
       "      <td>398,227</td>\n",
       "      <td>104,558</td>\n",
       "    </tr>\n",
       "    <tr>\n",
       "      <td>A Little Inspiration</td>\n",
       "      <td>344267635599110</td>\n",
       "      <td>11,143</td>\n",
       "      <td>442,244</td>\n",
       "      <td>49,308</td>\n",
       "      <td>1,751,077</td>\n",
       "      <td>404,275</td>\n",
       "      <td>442,205</td>\n",
       "    </tr>\n",
       "    <tr>\n",
       "      <td>I Relate Feelings</td>\n",
       "      <td>166785736790960</td>\n",
       "      <td>2,488</td>\n",
       "      <td>219,182</td>\n",
       "      <td>28,564</td>\n",
       "      <td>1,057,158</td>\n",
       "      <td>411,090</td>\n",
       "      <td>219,156</td>\n",
       "    </tr>\n",
       "    <tr>\n",
       "      <td>Hold My Hand</td>\n",
       "      <td>157264947680409</td>\n",
       "      <td>6,696</td>\n",
       "      <td>45,548</td>\n",
       "      <td>35,242</td>\n",
       "      <td>226,703</td>\n",
       "      <td>436,092</td>\n",
       "      <td>45,546</td>\n",
       "    </tr>\n",
       "    <tr>\n",
       "      <td>What Would You Do?</td>\n",
       "      <td>10689860898</td>\n",
       "      <td>465</td>\n",
       "      <td>13,222</td>\n",
       "      <td>11,274</td>\n",
       "      <td>36,033</td>\n",
       "      <td>510,299</td>\n",
       "      <td>13,216</td>\n",
       "    </tr>\n",
       "    <tr>\n",
       "      <td>Mall of America</td>\n",
       "      <td>6898166798</td>\n",
       "      <td>7,261</td>\n",
       "      <td>87,679</td>\n",
       "      <td>27,967</td>\n",
       "      <td>146,402</td>\n",
       "      <td>536,815</td>\n",
       "      <td>87,652</td>\n",
       "    </tr>\n",
       "    <tr>\n",
       "      <td>MGM Studios</td>\n",
       "      <td>18962571991</td>\n",
       "      <td>4,230</td>\n",
       "      <td>13,356</td>\n",
       "      <td>10,548</td>\n",
       "      <td>60,500</td>\n",
       "      <td>542,289</td>\n",
       "      <td>13,351</td>\n",
       "    </tr>\n",
       "    <tr>\n",
       "      <td>Intel France</td>\n",
       "      <td>186901908014467</td>\n",
       "      <td>1,393</td>\n",
       "      <td>32,893</td>\n",
       "      <td>16,398</td>\n",
       "      <td>39,905</td>\n",
       "      <td>595,582</td>\n",
       "      <td>32,894</td>\n",
       "    </tr>\n",
       "    <tr>\n",
       "      <td>News24 Kenya</td>\n",
       "      <td>201728286564087</td>\n",
       "      <td>5,437</td>\n",
       "      <td>53,767</td>\n",
       "      <td>31,945</td>\n",
       "      <td>52,681</td>\n",
       "      <td>634,048</td>\n",
       "      <td>53,764</td>\n",
       "    </tr>\n",
       "    <tr>\n",
       "      <td>HTCampus.com</td>\n",
       "      <td>174009145975879</td>\n",
       "      <td>3,000</td>\n",
       "      <td>28,727</td>\n",
       "      <td>10,669</td>\n",
       "      <td>52,768</td>\n",
       "      <td>664,764</td>\n",
       "      <td>28,727</td>\n",
       "    </tr>\n",
       "    <tr>\n",
       "      <td>CNNMoney</td>\n",
       "      <td>6651543066</td>\n",
       "      <td>10,866</td>\n",
       "      <td>71,603</td>\n",
       "      <td>55,017</td>\n",
       "      <td>276,436</td>\n",
       "      <td>669,130</td>\n",
       "      <td>120,798</td>\n",
       "    </tr>\n",
       "    <tr>\n",
       "      <td>5676133521</td>\n",
       "      <td>5676133521</td>\n",
       "      <td>9,579</td>\n",
       "      <td>41,559</td>\n",
       "      <td>15,718</td>\n",
       "      <td>46,018</td>\n",
       "      <td>689,191</td>\n",
       "      <td>41,555</td>\n",
       "    </tr>\n",
       "    <tr>\n",
       "      <td>335574863819</td>\n",
       "      <td>335574863819</td>\n",
       "      <td>208</td>\n",
       "      <td>71,616</td>\n",
       "      <td>13,139</td>\n",
       "      <td>118,502</td>\n",
       "      <td>742,220</td>\n",
       "      <td>71,615</td>\n",
       "    </tr>\n",
       "    <tr>\n",
       "      <td>Neutrogena</td>\n",
       "      <td>7717041259</td>\n",
       "      <td>7,013</td>\n",
       "      <td>98,269</td>\n",
       "      <td>33,064</td>\n",
       "      <td>161,540</td>\n",
       "      <td>764,446</td>\n",
       "      <td>98,257</td>\n",
       "    </tr>\n",
       "    <tr>\n",
       "      <td>NDTV Goodtimes</td>\n",
       "      <td>76026867998</td>\n",
       "      <td>3,706</td>\n",
       "      <td>355,869</td>\n",
       "      <td>35,962</td>\n",
       "      <td>832,376</td>\n",
       "      <td>777,541</td>\n",
       "      <td>355,864</td>\n",
       "    </tr>\n",
       "    <tr>\n",
       "      <td>I Love My Family</td>\n",
       "      <td>148167278107</td>\n",
       "      <td>8,154</td>\n",
       "      <td>618,079</td>\n",
       "      <td>37,131</td>\n",
       "      <td>1,141,265</td>\n",
       "      <td>1,115,979</td>\n",
       "      <td>617,935</td>\n",
       "    </tr>\n",
       "    <tr>\n",
       "      <td>Disaster Response on Facebook</td>\n",
       "      <td>250083749935</td>\n",
       "      <td>1,263</td>\n",
       "      <td>79,809</td>\n",
       "      <td>14,234</td>\n",
       "      <td>94,800</td>\n",
       "      <td>1,145,415</td>\n",
       "      <td>79,790</td>\n",
       "    </tr>\n",
       "    <tr>\n",
       "      <td>Sierra Club</td>\n",
       "      <td>6204742571</td>\n",
       "      <td>592</td>\n",
       "      <td>134,387</td>\n",
       "      <td>21,284</td>\n",
       "      <td>488,466</td>\n",
       "      <td>1,188,266</td>\n",
       "      <td>134,484</td>\n",
       "    </tr>\n",
       "    <tr>\n",
       "      <td>JAPAN4YOU</td>\n",
       "      <td>99489209116</td>\n",
       "      <td>5,642</td>\n",
       "      <td>117,584</td>\n",
       "      <td>42,984</td>\n",
       "      <td>382,144</td>\n",
       "      <td>1,192,102</td>\n",
       "      <td>117,577</td>\n",
       "    </tr>\n",
       "    <tr>\n",
       "      <td>99%</td>\n",
       "      <td>295474380481252</td>\n",
       "      <td>1,361</td>\n",
       "      <td>49,500</td>\n",
       "      <td>30,334</td>\n",
       "      <td>134,141</td>\n",
       "      <td>1,217,388</td>\n",
       "      <td>49,500</td>\n",
       "    </tr>\n",
       "    <tr>\n",
       "      <td>Thich Nhat Hanh</td>\n",
       "      <td>7691064634</td>\n",
       "      <td>1,036</td>\n",
       "      <td>854,688</td>\n",
       "      <td>35,984</td>\n",
       "      <td>1,487,600</td>\n",
       "      <td>1,231,817</td>\n",
       "      <td>854,684</td>\n",
       "    </tr>\n",
       "    <tr>\n",
       "      <td>(RED)</td>\n",
       "      <td>6829493713</td>\n",
       "      <td>3,437</td>\n",
       "      <td>928,159</td>\n",
       "      <td>44,807</td>\n",
       "      <td>1,368,432</td>\n",
       "      <td>1,434,275</td>\n",
       "      <td>928,126</td>\n",
       "    </tr>\n",
       "    <tr>\n",
       "      <td>Office</td>\n",
       "      <td>178191330369</td>\n",
       "      <td>3,384</td>\n",
       "      <td>196,862</td>\n",
       "      <td>28,155</td>\n",
       "      <td>252,763</td>\n",
       "      <td>1,489,024</td>\n",
       "      <td>196,841</td>\n",
       "    </tr>\n",
       "    <tr>\n",
       "      <td>Genevieve Gorder</td>\n",
       "      <td>174431941806</td>\n",
       "      <td>1,783</td>\n",
       "      <td>41,105</td>\n",
       "      <td>19,784</td>\n",
       "      <td>97,135</td>\n",
       "      <td>1,662,387</td>\n",
       "      <td>41,096</td>\n",
       "    </tr>\n",
       "    <tr>\n",
       "      <td>Nigeria</td>\n",
       "      <td>7283976105</td>\n",
       "      <td>64</td>\n",
       "      <td>17,218</td>\n",
       "      <td>10,698</td>\n",
       "      <td>17,385</td>\n",
       "      <td>1,775,807</td>\n",
       "      <td>17,217</td>\n",
       "    </tr>\n",
       "    <tr>\n",
       "      <td>We The People</td>\n",
       "      <td>178463258907212</td>\n",
       "      <td>49,897</td>\n",
       "      <td>161,707</td>\n",
       "      <td>91,279</td>\n",
       "      <td>831,279</td>\n",
       "      <td>1,784,066</td>\n",
       "      <td>161,703</td>\n",
       "    </tr>\n",
       "    <tr>\n",
       "      <td>Diet Coke</td>\n",
       "      <td>8605796091</td>\n",
       "      <td>7,766</td>\n",
       "      <td>117,444</td>\n",
       "      <td>24,389</td>\n",
       "      <td>181,455</td>\n",
       "      <td>1,939,693</td>\n",
       "      <td>117,437</td>\n",
       "    </tr>\n",
       "    <tr>\n",
       "      <td>Clarins</td>\n",
       "      <td>98029424570</td>\n",
       "      <td>2,724</td>\n",
       "      <td>36,072</td>\n",
       "      <td>18,895</td>\n",
       "      <td>81,851</td>\n",
       "      <td>2,065,086</td>\n",
       "      <td>36,044</td>\n",
       "    </tr>\n",
       "    <tr>\n",
       "      <td>Bicky Burger</td>\n",
       "      <td>9727196242</td>\n",
       "      <td>151</td>\n",
       "      <td>1,908</td>\n",
       "      <td>2,579</td>\n",
       "      <td>1,920</td>\n",
       "      <td>2,170,128</td>\n",
       "      <td>1,892</td>\n",
       "    </tr>\n",
       "    <tr>\n",
       "      <td>Occupy Seattle</td>\n",
       "      <td>254620607914006</td>\n",
       "      <td>20,072</td>\n",
       "      <td>298,041</td>\n",
       "      <td>112,906</td>\n",
       "      <td>862,086</td>\n",
       "      <td>2,313,375</td>\n",
       "      <td>298,003</td>\n",
       "    </tr>\n",
       "    <tr>\n",
       "      <td>Human Target</td>\n",
       "      <td>83431257070</td>\n",
       "      <td>218</td>\n",
       "      <td>19,990</td>\n",
       "      <td>15,921</td>\n",
       "      <td>49,295</td>\n",
       "      <td>2,847,471</td>\n",
       "      <td>19,984</td>\n",
       "    </tr>\n",
       "    <tr>\n",
       "      <td>ONE</td>\n",
       "      <td>11055104471</td>\n",
       "      <td>4,541</td>\n",
       "      <td>553,321</td>\n",
       "      <td>55,342</td>\n",
       "      <td>1,474,206</td>\n",
       "      <td>3,227,919</td>\n",
       "      <td>553,304</td>\n",
       "    </tr>\n",
       "    <tr>\n",
       "      <td>Lifehacker</td>\n",
       "      <td>7568536355</td>\n",
       "      <td>11,638</td>\n",
       "      <td>247,459</td>\n",
       "      <td>139,009</td>\n",
       "      <td>1,049,963</td>\n",
       "      <td>3,383,984</td>\n",
       "      <td>247,445</td>\n",
       "    </tr>\n",
       "    <tr>\n",
       "      <td>Hilton HHonors</td>\n",
       "      <td>120963705931</td>\n",
       "      <td>3,178</td>\n",
       "      <td>228,520</td>\n",
       "      <td>28,670</td>\n",
       "      <td>373,519</td>\n",
       "      <td>3,400,396</td>\n",
       "      <td>228,509</td>\n",
       "    </tr>\n",
       "    <tr>\n",
       "      <td>First Bank of Nigeria Limited</td>\n",
       "      <td>218502344846561</td>\n",
       "      <td>1,402</td>\n",
       "      <td>100,883</td>\n",
       "      <td>61,248</td>\n",
       "      <td>168,091</td>\n",
       "      <td>3,452,696</td>\n",
       "      <td>100,882</td>\n",
       "    </tr>\n",
       "    <tr>\n",
       "      <td>WellDoneStuff.Com</td>\n",
       "      <td>302896416450257</td>\n",
       "      <td>3,079</td>\n",
       "      <td>1,325,457</td>\n",
       "      <td>117,839</td>\n",
       "      <td>3,085,706</td>\n",
       "      <td>3,643,824</td>\n",
       "      <td>1,325,457</td>\n",
       "    </tr>\n",
       "    <tr>\n",
       "      <td>Defenders of Wildlife</td>\n",
       "      <td>5720973755</td>\n",
       "      <td>3,755</td>\n",
       "      <td>111,035</td>\n",
       "      <td>59,268</td>\n",
       "      <td>740,886</td>\n",
       "      <td>4,049,194</td>\n",
       "      <td>111,013</td>\n",
       "    </tr>\n",
       "    <tr>\n",
       "      <td>MetLife</td>\n",
       "      <td>164505093569983</td>\n",
       "      <td>3,341</td>\n",
       "      <td>294,975</td>\n",
       "      <td>54,785</td>\n",
       "      <td>1,208,807</td>\n",
       "      <td>4,247,769</td>\n",
       "      <td>294,936</td>\n",
       "    </tr>\n",
       "    <tr>\n",
       "      <td>Liberal Democrats</td>\n",
       "      <td>5883973269</td>\n",
       "      <td>1,155</td>\n",
       "      <td>27,725</td>\n",
       "      <td>46,378</td>\n",
       "      <td>107,284</td>\n",
       "      <td>4,402,349</td>\n",
       "      <td>27,720</td>\n",
       "    </tr>\n",
       "    <tr>\n",
       "      <td>Sigur Rós</td>\n",
       "      <td>6187954123</td>\n",
       "      <td>4,455</td>\n",
       "      <td>224,333</td>\n",
       "      <td>42,050</td>\n",
       "      <td>585,551</td>\n",
       "      <td>4,499,779</td>\n",
       "      <td>224,327</td>\n",
       "    </tr>\n",
       "    <tr>\n",
       "      <td>Nat Geo Wild</td>\n",
       "      <td>196008660929</td>\n",
       "      <td>1,533</td>\n",
       "      <td>4,080,404</td>\n",
       "      <td>96,961</td>\n",
       "      <td>6,853,487</td>\n",
       "      <td>5,255,392</td>\n",
       "      <td>4,080,257</td>\n",
       "    </tr>\n",
       "    <tr>\n",
       "      <td>Amazon Books</td>\n",
       "      <td>150864087963</td>\n",
       "      <td>1,953</td>\n",
       "      <td>125,512</td>\n",
       "      <td>37,304</td>\n",
       "      <td>200,124</td>\n",
       "      <td>5,404,316</td>\n",
       "      <td>125,483</td>\n",
       "    </tr>\n",
       "    <tr>\n",
       "      <td>Liftopia</td>\n",
       "      <td>8114223318</td>\n",
       "      <td>2,879</td>\n",
       "      <td>47,001</td>\n",
       "      <td>50,065</td>\n",
       "      <td>158,699</td>\n",
       "      <td>5,996,185</td>\n",
       "      <td>46,991</td>\n",
       "    </tr>\n",
       "    <tr>\n",
       "      <td>199299723534097</td>\n",
       "      <td>199299723534097</td>\n",
       "      <td>7,237</td>\n",
       "      <td>231,256</td>\n",
       "      <td>33,437</td>\n",
       "      <td>385,775</td>\n",
       "      <td>6,104,083</td>\n",
       "      <td>231,249</td>\n",
       "    </tr>\n",
       "    <tr>\n",
       "      <td>Amazon Student</td>\n",
       "      <td>135155166518704</td>\n",
       "      <td>1,267</td>\n",
       "      <td>181,508</td>\n",
       "      <td>43,497</td>\n",
       "      <td>200,777</td>\n",
       "      <td>6,115,875</td>\n",
       "      <td>181,502</td>\n",
       "    </tr>\n",
       "    <tr>\n",
       "      <td>125787337496837</td>\n",
       "      <td>125787337496837</td>\n",
       "      <td>5,006</td>\n",
       "      <td>39,337</td>\n",
       "      <td>84,484</td>\n",
       "      <td>420,257</td>\n",
       "      <td>6,532,538</td>\n",
       "      <td>39,326</td>\n",
       "    </tr>\n",
       "    <tr>\n",
       "      <td>Sony Music Brasil</td>\n",
       "      <td>99219862934</td>\n",
       "      <td>1,333</td>\n",
       "      <td>168,946</td>\n",
       "      <td>60,921</td>\n",
       "      <td>464,592</td>\n",
       "      <td>7,070,831</td>\n",
       "      <td>168,944</td>\n",
       "    </tr>\n",
       "    <tr>\n",
       "      <td>San Francisco | The Official Guide</td>\n",
       "      <td>55139614218</td>\n",
       "      <td>4,066</td>\n",
       "      <td>735,183</td>\n",
       "      <td>116,336</td>\n",
       "      <td>2,054,348</td>\n",
       "      <td>7,658,027</td>\n",
       "      <td>735,127</td>\n",
       "    </tr>\n",
       "    <tr>\n",
       "      <td>Royal Air Force</td>\n",
       "      <td>26035834884</td>\n",
       "      <td>10,451</td>\n",
       "      <td>518,911</td>\n",
       "      <td>124,547</td>\n",
       "      <td>2,117,085</td>\n",
       "      <td>7,884,752</td>\n",
       "      <td>518,910</td>\n",
       "    </tr>\n",
       "    <tr>\n",
       "      <td>Madison Square Garden</td>\n",
       "      <td>28859306498</td>\n",
       "      <td>3,928</td>\n",
       "      <td>783,949</td>\n",
       "      <td>56,885</td>\n",
       "      <td>1,129,189</td>\n",
       "      <td>7,964,858</td>\n",
       "      <td>783,943</td>\n",
       "    </tr>\n",
       "    <tr>\n",
       "      <td>The BULLY Project</td>\n",
       "      <td>107214895991663</td>\n",
       "      <td>11,029</td>\n",
       "      <td>393,667</td>\n",
       "      <td>64,502</td>\n",
       "      <td>858,783</td>\n",
       "      <td>8,527,187</td>\n",
       "      <td>393,626</td>\n",
       "    </tr>\n",
       "    <tr>\n",
       "      <td>JAPAN AIRLINES (JAL)</td>\n",
       "      <td>195152223850783</td>\n",
       "      <td>890</td>\n",
       "      <td>495,056</td>\n",
       "      <td>84,246</td>\n",
       "      <td>3,669,911</td>\n",
       "      <td>9,132,132</td>\n",
       "      <td>673,446</td>\n",
       "    </tr>\n",
       "    <tr>\n",
       "      <td>Joss Stone</td>\n",
       "      <td>5630135837</td>\n",
       "      <td>7,714</td>\n",
       "      <td>253,053</td>\n",
       "      <td>64,049</td>\n",
       "      <td>797,799</td>\n",
       "      <td>9,282,922</td>\n",
       "      <td>253,040</td>\n",
       "    </tr>\n",
       "    <tr>\n",
       "      <td>Avaaz</td>\n",
       "      <td>8340223883</td>\n",
       "      <td>5,722</td>\n",
       "      <td>992,140</td>\n",
       "      <td>86,337</td>\n",
       "      <td>1,892,211</td>\n",
       "      <td>9,877,738</td>\n",
       "      <td>992,135</td>\n",
       "    </tr>\n",
       "    <tr>\n",
       "      <td>統一星巴克咖啡同好會</td>\n",
       "      <td>193072760827</td>\n",
       "      <td>5,006</td>\n",
       "      <td>534,199</td>\n",
       "      <td>66,006</td>\n",
       "      <td>2,660,263</td>\n",
       "      <td>10,486,973</td>\n",
       "      <td>534,103</td>\n",
       "    </tr>\n",
       "    <tr>\n",
       "      <td>Human Rights Watch</td>\n",
       "      <td>42940254353</td>\n",
       "      <td>9,617</td>\n",
       "      <td>279,116</td>\n",
       "      <td>79,762</td>\n",
       "      <td>526,260</td>\n",
       "      <td>12,682,090</td>\n",
       "      <td>676,428</td>\n",
       "    </tr>\n",
       "    <tr>\n",
       "      <td>Sprint</td>\n",
       "      <td>8389383510</td>\n",
       "      <td>67,752</td>\n",
       "      <td>402,589</td>\n",
       "      <td>421,677</td>\n",
       "      <td>569,390</td>\n",
       "      <td>14,174,319</td>\n",
       "      <td>402,588</td>\n",
       "    </tr>\n",
       "    <tr>\n",
       "      <td>California Right To Know</td>\n",
       "      <td>178713385549168</td>\n",
       "      <td>3,172</td>\n",
       "      <td>644,007</td>\n",
       "      <td>70,345</td>\n",
       "      <td>1,247,518</td>\n",
       "      <td>15,053,999</td>\n",
       "      <td>643,992</td>\n",
       "    </tr>\n",
       "    <tr>\n",
       "      <td>NBC Politics</td>\n",
       "      <td>154957517930371</td>\n",
       "      <td>2,319</td>\n",
       "      <td>76,351</td>\n",
       "      <td>43,401</td>\n",
       "      <td>148,379</td>\n",
       "      <td>16,386,238</td>\n",
       "      <td>76,351</td>\n",
       "    </tr>\n",
       "    <tr>\n",
       "      <td>*Well, if that isn't the skank calling the who...</td>\n",
       "      <td>292440510802935</td>\n",
       "      <td>5,415</td>\n",
       "      <td>532,138</td>\n",
       "      <td>132,555</td>\n",
       "      <td>2,384,824</td>\n",
       "      <td>16,519,553</td>\n",
       "      <td>532,138</td>\n",
       "    </tr>\n",
       "    <tr>\n",
       "      <td>AirAsia</td>\n",
       "      <td>18801397386</td>\n",
       "      <td>86,603</td>\n",
       "      <td>318,869</td>\n",
       "      <td>331,450</td>\n",
       "      <td>790,496</td>\n",
       "      <td>18,617,132</td>\n",
       "      <td>318,865</td>\n",
       "    </tr>\n",
       "    <tr>\n",
       "      <td>Epica</td>\n",
       "      <td>8031842923</td>\n",
       "      <td>1,353</td>\n",
       "      <td>364,197</td>\n",
       "      <td>110,159</td>\n",
       "      <td>1,813,942</td>\n",
       "      <td>20,978,670</td>\n",
       "      <td>364,175</td>\n",
       "    </tr>\n",
       "    <tr>\n",
       "      <td>Newsweek</td>\n",
       "      <td>18343191100</td>\n",
       "      <td>13,496</td>\n",
       "      <td>743,716</td>\n",
       "      <td>187,459</td>\n",
       "      <td>1,214,209</td>\n",
       "      <td>23,179,314</td>\n",
       "      <td>743,732</td>\n",
       "    </tr>\n",
       "    <tr>\n",
       "      <td>141094772576049</td>\n",
       "      <td>141094772576049</td>\n",
       "      <td>4</td>\n",
       "      <td>14,708</td>\n",
       "      <td>10,123</td>\n",
       "      <td>12,877</td>\n",
       "      <td>23,280,032</td>\n",
       "      <td>14,708</td>\n",
       "    </tr>\n",
       "    <tr>\n",
       "      <td>TurboTax</td>\n",
       "      <td>7511533723</td>\n",
       "      <td>10,492</td>\n",
       "      <td>46,976</td>\n",
       "      <td>65,687</td>\n",
       "      <td>80,095</td>\n",
       "      <td>24,554,677</td>\n",
       "      <td>46,975</td>\n",
       "    </tr>\n",
       "    <tr>\n",
       "      <td>Ted</td>\n",
       "      <td>317928348241564</td>\n",
       "      <td>2,787</td>\n",
       "      <td>309,082</td>\n",
       "      <td>81,892</td>\n",
       "      <td>506,756</td>\n",
       "      <td>26,273,169</td>\n",
       "      <td>309,082</td>\n",
       "    </tr>\n",
       "    <tr>\n",
       "      <td>humor inteligente</td>\n",
       "      <td>292974040727244</td>\n",
       "      <td>7,199</td>\n",
       "      <td>6,368,200</td>\n",
       "      <td>520,868</td>\n",
       "      <td>15,957,356</td>\n",
       "      <td>30,663,045</td>\n",
       "      <td>6,368,198</td>\n",
       "    </tr>\n",
       "    <tr>\n",
       "      <td>Love</td>\n",
       "      <td>135922659784530</td>\n",
       "      <td>11,342</td>\n",
       "      <td>1,088,422</td>\n",
       "      <td>190,854</td>\n",
       "      <td>5,808,937</td>\n",
       "      <td>31,169,556</td>\n",
       "      <td>1,088,414</td>\n",
       "    </tr>\n",
       "    <tr>\n",
       "      <td>KFC</td>\n",
       "      <td>7144906559</td>\n",
       "      <td>11,288</td>\n",
       "      <td>300,844</td>\n",
       "      <td>136,044</td>\n",
       "      <td>395,669</td>\n",
       "      <td>35,639,659</td>\n",
       "      <td>300,842</td>\n",
       "    </tr>\n",
       "    <tr>\n",
       "      <td>ThinkGeek</td>\n",
       "      <td>6399067073</td>\n",
       "      <td>21,061</td>\n",
       "      <td>822,694</td>\n",
       "      <td>225,890</td>\n",
       "      <td>4,221,585</td>\n",
       "      <td>38,781,031</td>\n",
       "      <td>822,656</td>\n",
       "    </tr>\n",
       "    <tr>\n",
       "      <td>fluid ink</td>\n",
       "      <td>121128974566421</td>\n",
       "      <td>1,486</td>\n",
       "      <td>443,794</td>\n",
       "      <td>51,213</td>\n",
       "      <td>544,276</td>\n",
       "      <td>40,680,673</td>\n",
       "      <td>443,786</td>\n",
       "    </tr>\n",
       "    <tr>\n",
       "      <td>Alanis Morissette</td>\n",
       "      <td>6002796793</td>\n",
       "      <td>513</td>\n",
       "      <td>378,711</td>\n",
       "      <td>86,702</td>\n",
       "      <td>1,164,302</td>\n",
       "      <td>43,470,693</td>\n",
       "      <td>378,697</td>\n",
       "    </tr>\n",
       "    <tr>\n",
       "      <td>HBO</td>\n",
       "      <td>113408673932</td>\n",
       "      <td>9,040</td>\n",
       "      <td>2,895,356</td>\n",
       "      <td>226,018</td>\n",
       "      <td>3,525,002</td>\n",
       "      <td>45,696,470</td>\n",
       "      <td>2,895,354</td>\n",
       "    </tr>\n",
       "    <tr>\n",
       "      <td>U.S. Soccer</td>\n",
       "      <td>32421823940</td>\n",
       "      <td>11,652</td>\n",
       "      <td>949,433</td>\n",
       "      <td>283,801</td>\n",
       "      <td>2,568,695</td>\n",
       "      <td>59,093,678</td>\n",
       "      <td>949,603</td>\n",
       "    </tr>\n",
       "    <tr>\n",
       "      <td>Royal Pains</td>\n",
       "      <td>141512340315</td>\n",
       "      <td>3,002</td>\n",
       "      <td>179,121</td>\n",
       "      <td>88,729</td>\n",
       "      <td>580,721</td>\n",
       "      <td>63,021,189</td>\n",
       "      <td>179,118</td>\n",
       "    </tr>\n",
       "    <tr>\n",
       "      <td>CBS</td>\n",
       "      <td>47360808996</td>\n",
       "      <td>17,696</td>\n",
       "      <td>5,902,787</td>\n",
       "      <td>406,045</td>\n",
       "      <td>7,604,332</td>\n",
       "      <td>85,360,187</td>\n",
       "      <td>5,904,836</td>\n",
       "    </tr>\n",
       "    <tr>\n",
       "      <td>Jennifer Hudson</td>\n",
       "      <td>7886660434</td>\n",
       "      <td>392</td>\n",
       "      <td>1,247,861</td>\n",
       "      <td>164,138</td>\n",
       "      <td>1,971,608</td>\n",
       "      <td>86,657,294</td>\n",
       "      <td>1,247,834</td>\n",
       "    </tr>\n",
       "    <tr>\n",
       "      <td>Planned Parenthood Action</td>\n",
       "      <td>8934429638</td>\n",
       "      <td>15,451</td>\n",
       "      <td>706,756</td>\n",
       "      <td>300,004</td>\n",
       "      <td>3,234,499</td>\n",
       "      <td>90,324,035</td>\n",
       "      <td>706,700</td>\n",
       "    </tr>\n",
       "    <tr>\n",
       "      <td>No, Microsoft Word, I'm pretty sure I know how...</td>\n",
       "      <td>104375499654834</td>\n",
       "      <td>12,900</td>\n",
       "      <td>1,816,142</td>\n",
       "      <td>160,176</td>\n",
       "      <td>6,801,222</td>\n",
       "      <td>91,417,242</td>\n",
       "      <td>1,816,104</td>\n",
       "    </tr>\n",
       "    <tr>\n",
       "      <td>KHUSUS MUSLIMAH</td>\n",
       "      <td>108919785796003</td>\n",
       "      <td>4,437</td>\n",
       "      <td>659,541</td>\n",
       "      <td>157,370</td>\n",
       "      <td>1,484,280</td>\n",
       "      <td>96,596,485</td>\n",
       "      <td>659,537</td>\n",
       "    </tr>\n",
       "    <tr>\n",
       "      <td>USA TODAY</td>\n",
       "      <td>13652355666</td>\n",
       "      <td>14,148</td>\n",
       "      <td>4,811,684</td>\n",
       "      <td>743,660</td>\n",
       "      <td>8,359,085</td>\n",
       "      <td>99,102,661</td>\n",
       "      <td>7,451,132</td>\n",
       "    </tr>\n",
       "    <tr>\n",
       "      <td>AT&amp;T</td>\n",
       "      <td>8576093908</td>\n",
       "      <td>186,326</td>\n",
       "      <td>1,330,859</td>\n",
       "      <td>957,877</td>\n",
       "      <td>2,251,109</td>\n",
       "      <td>103,579,794</td>\n",
       "      <td>1,330,854</td>\n",
       "    </tr>\n",
       "    <tr>\n",
       "      <td>The Office</td>\n",
       "      <td>6092929747</td>\n",
       "      <td>31,223</td>\n",
       "      <td>2,067,280</td>\n",
       "      <td>368,369</td>\n",
       "      <td>8,404,195</td>\n",
       "      <td>107,119,608</td>\n",
       "      <td>2,067,271</td>\n",
       "    </tr>\n",
       "    <tr>\n",
       "      <td>CNBC</td>\n",
       "      <td>97212224368</td>\n",
       "      <td>15,228</td>\n",
       "      <td>1,432,933</td>\n",
       "      <td>440,391</td>\n",
       "      <td>2,306,032</td>\n",
       "      <td>109,336,525</td>\n",
       "      <td>1,432,902</td>\n",
       "    </tr>\n",
       "    <tr>\n",
       "      <td>So You Think You Can Dance</td>\n",
       "      <td>9748634303</td>\n",
       "      <td>44,826</td>\n",
       "      <td>889,270</td>\n",
       "      <td>293,600</td>\n",
       "      <td>2,580,510</td>\n",
       "      <td>113,590,099</td>\n",
       "      <td>889,247</td>\n",
       "    </tr>\n",
       "    <tr>\n",
       "      <td>True Activist</td>\n",
       "      <td>129370207168068</td>\n",
       "      <td>11,048</td>\n",
       "      <td>2,851,690</td>\n",
       "      <td>289,156</td>\n",
       "      <td>6,947,506</td>\n",
       "      <td>118,156,483</td>\n",
       "      <td>2,851,630</td>\n",
       "    </tr>\n",
       "    <tr>\n",
       "      <td>Jeep</td>\n",
       "      <td>7037526514</td>\n",
       "      <td>58,633</td>\n",
       "      <td>332,389</td>\n",
       "      <td>374,401</td>\n",
       "      <td>822,363</td>\n",
       "      <td>133,215,868</td>\n",
       "      <td>332,389</td>\n",
       "    </tr>\n",
       "    <tr>\n",
       "      <td>Guns N' Roses</td>\n",
       "      <td>10901008068</td>\n",
       "      <td>1,206</td>\n",
       "      <td>922,449</td>\n",
       "      <td>374,576</td>\n",
       "      <td>2,358,218</td>\n",
       "      <td>169,237,695</td>\n",
       "      <td>922,448</td>\n",
       "    </tr>\n",
       "    <tr>\n",
       "      <td>Boston Celtics</td>\n",
       "      <td>8725012666</td>\n",
       "      <td>2,140</td>\n",
       "      <td>831,423</td>\n",
       "      <td>378,473</td>\n",
       "      <td>3,737,903</td>\n",
       "      <td>172,170,089</td>\n",
       "      <td>831,415</td>\n",
       "    </tr>\n",
       "    <tr>\n",
       "      <td>The Wall Street Journal</td>\n",
       "      <td>8304333127</td>\n",
       "      <td>29,037</td>\n",
       "      <td>9,333,312</td>\n",
       "      <td>1,636,694</td>\n",
       "      <td>20,821,158</td>\n",
       "      <td>174,310,700</td>\n",
       "      <td>9,333,469</td>\n",
       "    </tr>\n",
       "    <tr>\n",
       "      <td>Kelly Rowland</td>\n",
       "      <td>5485793674</td>\n",
       "      <td>11,715</td>\n",
       "      <td>1,912,487</td>\n",
       "      <td>242,766</td>\n",
       "      <td>5,639,775</td>\n",
       "      <td>202,443,045</td>\n",
       "      <td>1,912,480</td>\n",
       "    </tr>\n",
       "    <tr>\n",
       "      <td>Thirty Seconds to Mars</td>\n",
       "      <td>5618127822</td>\n",
       "      <td>3,050</td>\n",
       "      <td>1,768,814</td>\n",
       "      <td>411,789</td>\n",
       "      <td>12,625,270</td>\n",
       "      <td>215,750,260</td>\n",
       "      <td>1,768,796</td>\n",
       "    </tr>\n",
       "    <tr>\n",
       "      <td>The Richard Dawkins Foundation for Reason and ...</td>\n",
       "      <td>8798180154</td>\n",
       "      <td>22,589</td>\n",
       "      <td>810,320</td>\n",
       "      <td>483,200</td>\n",
       "      <td>4,417,444</td>\n",
       "      <td>249,957,338</td>\n",
       "      <td>810,287</td>\n",
       "    </tr>\n",
       "    <tr>\n",
       "      <td>Islamic Book</td>\n",
       "      <td>192169930808550</td>\n",
       "      <td>22,674</td>\n",
       "      <td>6,946,485</td>\n",
       "      <td>1,288,775</td>\n",
       "      <td>23,140,984</td>\n",
       "      <td>270,676,340</td>\n",
       "      <td>6,946,483</td>\n",
       "    </tr>\n",
       "    <tr>\n",
       "      <td>I Love Being Black</td>\n",
       "      <td>18493706927</td>\n",
       "      <td>4,804</td>\n",
       "      <td>3,660,378</td>\n",
       "      <td>687,000</td>\n",
       "      <td>16,818,408</td>\n",
       "      <td>274,925,107</td>\n",
       "      <td>3,660,359</td>\n",
       "    </tr>\n",
       "    <tr>\n",
       "      <td>SID$^\\ddagger$</td>\n",
       "      <td>17382788643</td>\n",
       "      <td>1,274</td>\n",
       "      <td>573,048</td>\n",
       "      <td>771,087</td>\n",
       "      <td>3,039,529</td>\n",
       "      <td></td>\n",
       "      <td></td>\n",
       "    </tr>\n",
       "    <tr>\n",
       "      <td>Being Conservative$^\\ddagger$</td>\n",
       "      <td>134193140910</td>\n",
       "      <td>777</td>\n",
       "      <td>1,223,614</td>\n",
       "      <td>973,422</td>\n",
       "      <td>3,899,235</td>\n",
       "      <td></td>\n",
       "      <td></td>\n",
       "    </tr>\n",
       "    <tr>\n",
       "      <td>Do Something$^\\ddagger$</td>\n",
       "      <td>7630216751</td>\n",
       "      <td>6,363</td>\n",
       "      <td>1,340,787</td>\n",
       "      <td>381,540</td>\n",
       "      <td>2,615,132</td>\n",
       "      <td></td>\n",
       "      <td></td>\n",
       "    </tr>\n",
       "    <tr>\n",
       "      <td>Katy Perry$^\\ddagger$</td>\n",
       "      <td>7126051465</td>\n",
       "      <td>167,437</td>\n",
       "      <td>2,187,154</td>\n",
       "      <td>669,443</td>\n",
       "      <td>3,683,168</td>\n",
       "      <td></td>\n",
       "      <td></td>\n",
       "    </tr>\n",
       "    <tr>\n",
       "      <td>Buffalo Wild Wings$^\\ddagger$</td>\n",
       "      <td>9418270899</td>\n",
       "      <td>30,972</td>\n",
       "      <td>2,357,805</td>\n",
       "      <td>902,121</td>\n",
       "      <td>6,147,686</td>\n",
       "      <td></td>\n",
       "      <td></td>\n",
       "    </tr>\n",
       "    <tr>\n",
       "      <td>PoliticsNation with Al Sharpton$^\\ddagger$</td>\n",
       "      <td>280920811923248</td>\n",
       "      <td>20,240</td>\n",
       "      <td>2,742,367</td>\n",
       "      <td>2,336,604</td>\n",
       "      <td>13,597,984</td>\n",
       "      <td></td>\n",
       "      <td></td>\n",
       "    </tr>\n",
       "    <tr>\n",
       "      <td>Linkin Park$^\\ddagger$</td>\n",
       "      <td>8210451787</td>\n",
       "      <td>130,079</td>\n",
       "      <td>2,871,517</td>\n",
       "      <td>1,347,061</td>\n",
       "      <td>7,170,784</td>\n",
       "      <td></td>\n",
       "      <td></td>\n",
       "    </tr>\n",
       "    <tr>\n",
       "      <td>NPR$^\\ddagger$</td>\n",
       "      <td>10643211755</td>\n",
       "      <td>9,934</td>\n",
       "      <td>2,895,078</td>\n",
       "      <td>1,324,939</td>\n",
       "      <td>9,421,852</td>\n",
       "      <td></td>\n",
       "      <td></td>\n",
       "    </tr>\n",
       "    <tr>\n",
       "      <td>MLB$^\\ddagger$</td>\n",
       "      <td>5768707450</td>\n",
       "      <td>9,171</td>\n",
       "      <td>2,946,677</td>\n",
       "      <td>2,602,902</td>\n",
       "      <td>25,145,970</td>\n",
       "      <td></td>\n",
       "      <td></td>\n",
       "    </tr>\n",
       "    <tr>\n",
       "      <td>Mr. Bean$^\\ddagger$</td>\n",
       "      <td>17774451468</td>\n",
       "      <td>526</td>\n",
       "      <td>3,017,698</td>\n",
       "      <td>553,378</td>\n",
       "      <td>4,118,601</td>\n",
       "      <td></td>\n",
       "      <td></td>\n",
       "    </tr>\n",
       "    <tr>\n",
       "      <td>LA Lakers$^\\ddagger$</td>\n",
       "      <td>144917055340</td>\n",
       "      <td>2,923</td>\n",
       "      <td>3,653,065</td>\n",
       "      <td>1,682,734</td>\n",
       "      <td>29,295,627</td>\n",
       "      <td></td>\n",
       "      <td></td>\n",
       "    </tr>\n",
       "    <tr>\n",
       "      <td>CNN$^\\ddagger$</td>\n",
       "      <td>5550296508</td>\n",
       "      <td>236,499</td>\n",
       "      <td>8,488,492</td>\n",
       "      <td>5,146,195</td>\n",
       "      <td>27,090,373</td>\n",
       "      <td></td>\n",
       "      <td></td>\n",
       "    </tr>\n",
       "    <tr>\n",
       "      <td>The Onion$^\\ddagger$</td>\n",
       "      <td>20950654496</td>\n",
       "      <td>15,799</td>\n",
       "      <td>8,599,403</td>\n",
       "      <td>1,607,502</td>\n",
       "      <td>28,284,056</td>\n",
       "      <td></td>\n",
       "      <td></td>\n",
       "    </tr>\n",
       "    <tr>\n",
       "      <td>Rush Limbaugh$^\\ddagger$</td>\n",
       "      <td>136264019722601</td>\n",
       "      <td>3,753</td>\n",
       "      <td>9,554,690</td>\n",
       "      <td>2,398,526</td>\n",
       "      <td>31,336,180</td>\n",
       "      <td></td>\n",
       "      <td></td>\n",
       "    </tr>\n",
       "    <tr>\n",
       "      <td>Le Monde.fr$^\\ddagger$</td>\n",
       "      <td>14892757589</td>\n",
       "      <td>33,425</td>\n",
       "      <td>11,698,175</td>\n",
       "      <td>2,486,620</td>\n",
       "      <td>34,929,064</td>\n",
       "      <td></td>\n",
       "      <td></td>\n",
       "    </tr>\n",
       "    <tr>\n",
       "      <td>The White House$^\\ddagger$</td>\n",
       "      <td>63811549237</td>\n",
       "      <td>6,653</td>\n",
       "      <td>32,572,109</td>\n",
       "      <td>9,236,060</td>\n",
       "      <td>78,798,291</td>\n",
       "      <td></td>\n",
       "      <td></td>\n",
       "    </tr>\n",
       "    <tr>\n",
       "      <td>The New York Times$^\\ddagger$</td>\n",
       "      <td>5281959998</td>\n",
       "      <td>44,692</td>\n",
       "      <td>33,366,481</td>\n",
       "      <td>5,023,309</td>\n",
       "      <td>82,856,846</td>\n",
       "      <td></td>\n",
       "      <td></td>\n",
       "    </tr>\n",
       "    <tr>\n",
       "      <td>The Tea Party$^\\ddagger$</td>\n",
       "      <td>133279166727577</td>\n",
       "      <td>44,430</td>\n",
       "      <td>77,084,290</td>\n",
       "      <td>27,550,352</td>\n",
       "      <td>308,495,988</td>\n",
       "      <td></td>\n",
       "      <td></td>\n",
       "    </tr>\n",
       "    <tr>\n",
       "      <td>Barack Obama$^\\ddagger$</td>\n",
       "      <td>6815841748</td>\n",
       "      <td>4,101</td>\n",
       "      <td>113,374,887</td>\n",
       "      <td>13,249,218</td>\n",
       "      <td>275,127,266</td>\n",
       "      <td></td>\n",
       "      <td></td>\n",
       "    </tr>\n",
       "  </tbody>\n",
       "</table>"
      ],
      "text/plain": [
       "<IPython.core.display.HTML object>"
      ]
     },
     "metadata": {},
     "output_type": "display_data"
    }
   ],
   "source": [
    "names = pd.read_csv(\"data/names.csv\", dtype={0: str, 1: str}).set_index('Page')\n",
    "\n",
    "s = stats.copy().drop(['00__combinedPageInteractions'], errors='ignore')\n",
    "s['Id'] = s.index\n",
    "\n",
    "s.rename(index=str, columns={'Number of edges': 'Edges', 'Number of nodes': 'Nodes'}, inplace=True)\n",
    "\n",
    "s['Edges'] = [pd.np.nan if x == 0.0 else x for x in s['Edges']]\n",
    "s['Nodes'] = [pd.np.nan if x == 0.0 else x for x in s['Nodes']]\n",
    "\n",
    "print(len(s))\n",
    "\n",
    "def name_mapping(x, latex_escape=False):\n",
    "    if type(names.loc[x.Id].Name) is float: \n",
    "        ret = str(x.Id)\n",
    "    else:\n",
    "        if latex_escape:\n",
    "            ret = (str(names.loc[x.Id].Name).replace('\\\\', '\\\\textbackslash ')\n",
    "                            .replace('_', '\\\\_')\n",
    "                            .replace('%', '\\\\%').replace('$', '\\\\$')\n",
    "                            .replace('#', '\\\\#').replace('{', '\\\\{')\n",
    "                            .replace('}', '\\\\}').replace('~', '\\\\textasciitilde ')\n",
    "                            .replace('^', '\\\\textasciicircum ')\n",
    "                            .replace('&', '\\\\&'))\n",
    "        else:\n",
    "            ret = str(names.loc[x.Id].Name)\n",
    "    \n",
    "    if pd.np.isnan(x['Edges']):\n",
    "        # print(x)\n",
    "        ret = ret + \"$^\\ddagger$\"\n",
    "\n",
    "    return ret\n",
    "\n",
    "\"\"\"Save table as latex file.\"\"\"\n",
    "s['Name'] = s.apply(lambda x: name_mapping(x, True), axis=1)\n",
    "s.fillna(np.inf).sort_values(['Edges','Nodes', 'Users']).reset_index().to_latex(\n",
    "        'article/allPages.tex',\n",
    "        escape=False, longtable=True, index=False,\n",
    "        columns=['Name', 'Id', 'Posts', 'Users', 'Comments', 'Likes','Edges','Nodes'],\n",
    "        float_format=lambda x: \"\" if x == np.inf else locale.format(\"%d\", x, grouping=True))\n",
    "\n",
    "\n",
    "s['Name'] = s.apply(name_mapping, axis=1)\n",
    "display(HTML(s.fillna(pd.np.inf).sort_values([\n",
    "                 'Edges','Nodes', 'Users'])\n",
    "             .to_html(index=False, \n",
    "                      columns=['Name', 'Id', 'Posts', 'Users', 'Comments', 'Likes','Edges','Nodes'],\n",
    "                      float_format=lambda x: \"\" if x == np.inf else locale.format(\"%d\", x, grouping=True))))\n",
    "\n"
   ]
  }
 ],
 "metadata": {
  "anaconda-cloud": {},
  "kernelspec": {
   "display_name": "Python [conda env:miniconda3]",
   "language": "python",
   "name": "conda-env-miniconda3-py"
  },
  "language_info": {
   "codemirror_mode": {
    "name": "ipython",
    "version": 3
   },
   "file_extension": ".py",
   "mimetype": "text/x-python",
   "name": "python",
   "nbconvert_exporter": "python",
   "pygments_lexer": "ipython3",
   "version": "3.5.3"
  },
  "widgets": {
   "application/vnd.jupyter.widget-state+json": {
    "state": {
     "01a1aefabcec43f2bdb1ebf802228eb5": {
      "model_module": "jupyter-js-widgets",
      "model_module_version": "~2.1.4",
      "model_name": "ProgressModel",
      "state": {
       "_model_module_version": "~2.1.4",
       "_view_module_version": "~2.1.4",
       "bar_style": "danger",
       "layout": "IPY_MODEL_62ec84711caa407799dbc79ff64cb502",
       "max": 161,
       "style": "IPY_MODEL_513485e759f54c57bbe48952272fcb31",
       "value": 97
      }
     },
     "02339eabe13443519e80bf665baec671": {
      "model_module": "jupyter-js-widgets",
      "model_module_version": "~2.1.4",
      "model_name": "ProgressModel",
      "state": {
       "_model_module_version": "~2.1.4",
       "_view_module_version": "~2.1.4",
       "bar_style": "success",
       "layout": "IPY_MODEL_845b7badeaeb45898466de78a791a1a6",
       "max": 161,
       "style": "IPY_MODEL_44cfc9ed7db74a9292066d4f82f84f94",
       "value": 161
      }
     },
     "030d5e6048474d6dba45f6fe251435c6": {
      "model_module": "jupyter-js-widgets",
      "model_module_version": "~2.1.4",
      "model_name": "HBoxModel",
      "state": {
       "_model_module_version": "~2.1.4",
       "_view_module_version": "~2.1.4",
       "children": [
        "IPY_MODEL_4eba32fe280847c38c0fc955a6124e54",
        "IPY_MODEL_101a4776b53e40b89621a476a8b03640"
       ],
       "layout": "IPY_MODEL_b75a2d7efe3048c6903571327c295b62"
      }
     },
     "03489e3b6d63492cb1fd4ab6cee854cc": {
      "model_module": "jupyter-js-widgets",
      "model_module_version": "~2.1.4",
      "model_name": "HTMLModel",
      "state": {
       "_model_module_version": "~2.1.4",
       "_view_module_version": "~2.1.4",
       "layout": "IPY_MODEL_f301d9815b284c7b8a4a7424a67b2b5c",
       "value": "100% 100/100 [00:01&lt;00:00, 94.43it/s]"
      }
     },
     "03effa88246c4d62a5726ee6b23a9985": {
      "model_module": "jupyter-js-widgets",
      "model_module_version": "~2.1.4",
      "model_name": "LayoutModel",
      "state": {
       "_model_module_version": "~2.1.4",
       "_view_module_version": "~2.1.4"
      }
     },
     "04dbbb33764c418695c1e3130d4687a1": {
      "model_module": "jupyter-js-widgets",
      "model_module_version": "~2.1.4",
      "model_name": "HBoxModel",
      "state": {
       "_model_module_version": "~2.1.4",
       "_view_module_version": "~2.1.4",
       "children": [
        "IPY_MODEL_092fc2157db14aef83734ebaddd00d23",
        "IPY_MODEL_71990aff88bc4a1698dd1fee17f2d080"
       ],
       "layout": "IPY_MODEL_d5f0aefc0eb34bb8a0a5e61ad97e62d6"
      }
     },
     "05e721d215bd47e5bd9d960b0195712f": {
      "model_module": "jupyter-js-widgets",
      "model_module_version": "~2.1.4",
      "model_name": "ProgressStyleModel",
      "state": {
       "_model_module_version": "~2.1.4",
       "_view_module_version": "~2.1.4"
      }
     },
     "0624ab48d5da4a4187722579a587f338": {
      "model_module": "jupyter-js-widgets",
      "model_module_version": "~2.1.4",
      "model_name": "ProgressModel",
      "state": {
       "_model_module_version": "~2.1.4",
       "_view_module_version": "~2.1.4",
       "bar_style": "success",
       "description": "2nd loop",
       "layout": "IPY_MODEL_f0089af563434290b7fcafe1f899e276",
       "style": "IPY_MODEL_c5fc2b2c3afc4909ae83bfc2ae221319",
       "value": 100
      }
     },
     "0628f75fc1db48d5b8926cfeb7b406a4": {
      "model_module": "jupyter-js-widgets",
      "model_module_version": "~2.1.4",
      "model_name": "HBoxModel",
      "state": {
       "_model_module_version": "~2.1.4",
       "_view_module_version": "~2.1.4",
       "children": [
        "IPY_MODEL_ff8263960bc34aff8b5642d98fe82b32",
        "IPY_MODEL_cb268e5793b04cb0a2f94148cd9e7641"
       ],
       "layout": "IPY_MODEL_2d04f02e89e3488eb919bffa00321bc5"
      }
     },
     "063ab8e4ea174e60967e5b3d67cf7e9a": {
      "model_module": "jupyter-js-widgets",
      "model_module_version": "~2.1.4",
      "model_name": "ProgressModel",
      "state": {
       "_model_module_version": "~2.1.4",
       "_view_module_version": "~2.1.4",
       "bar_style": "success",
       "layout": "IPY_MODEL_e09d450a31654ff8b46b0f9ce4d0a909",
       "max": 161,
       "style": "IPY_MODEL_0cd21143330549a4975b58de4e757fac",
       "value": 161
      }
     },
     "08aa7d70ff7341da93b9e99319d1ec2f": {
      "model_module": "jupyter-js-widgets",
      "model_module_version": "~2.1.4",
      "model_name": "ProgressModel",
      "state": {
       "_model_module_version": "~2.1.4",
       "_view_module_version": "~2.1.4",
       "bar_style": "success",
       "layout": "IPY_MODEL_72126437922743d1bf8722329ffc2f8c",
       "max": 161,
       "style": "IPY_MODEL_acc6e5b0f49d4234b5efd9ff9c228188",
       "value": 161
      }
     },
     "092fc2157db14aef83734ebaddd00d23": {
      "model_module": "jupyter-js-widgets",
      "model_module_version": "~2.1.4",
      "model_name": "ProgressModel",
      "state": {
       "_model_module_version": "~2.1.4",
       "_view_module_version": "~2.1.4",
       "layout": "IPY_MODEL_93a7ad417b664416985c6e44ae189559",
       "max": 161,
       "style": "IPY_MODEL_a57b4cad9170441b83269cba22da53d6",
       "value": 108
      }
     },
     "0bac1dd8bea74362b4f159b0ce53ec00": {
      "model_module": "jupyter-js-widgets",
      "model_module_version": "~2.1.4",
      "model_name": "ProgressStyleModel",
      "state": {
       "_model_module_version": "~2.1.4",
       "_view_module_version": "~2.1.4"
      }
     },
     "0c0d49523d52435e9992b3a813d8be87": {
      "model_module": "jupyter-js-widgets",
      "model_module_version": "~2.1.4",
      "model_name": "LayoutModel",
      "state": {
       "_model_module_version": "~2.1.4",
       "_view_module_version": "~2.1.4"
      }
     },
     "0cd21143330549a4975b58de4e757fac": {
      "model_module": "jupyter-js-widgets",
      "model_module_version": "~2.1.4",
      "model_name": "ProgressStyleModel",
      "state": {
       "_model_module_version": "~2.1.4",
       "_view_module_version": "~2.1.4"
      }
     },
     "0e957a49f41b447790877e54340e15b1": {
      "model_module": "jupyter-js-widgets",
      "model_module_version": "~2.1.4",
      "model_name": "LayoutModel",
      "state": {
       "_model_module_version": "~2.1.4",
       "_view_module_version": "~2.1.4"
      }
     },
     "101a4776b53e40b89621a476a8b03640": {
      "model_module": "jupyter-js-widgets",
      "model_module_version": "~2.1.4",
      "model_name": "HTMLModel",
      "state": {
       "_model_module_version": "~2.1.4",
       "_view_module_version": "~2.1.4",
       "layout": "IPY_MODEL_4bfaa98c898e41eb9370a71e8915eaf6",
       "value": " 13% 21/161 [35:28&lt;8:59:50, 231.36s/it]"
      }
     },
     "102cb848cb524c379d7bfdd915e3cd2f": {
      "model_module": "jupyter-js-widgets",
      "model_module_version": "~2.1.4",
      "model_name": "ProgressModel",
      "state": {
       "_model_module_version": "~2.1.4",
       "_view_module_version": "~2.1.4",
       "bar_style": "info",
       "layout": "IPY_MODEL_e1b3461c9cf54d6d8e00cdbdfbf5d69a",
       "max": 1,
       "style": "IPY_MODEL_24d116c0283645dea76fa12589009412",
       "value": 1
      }
     },
     "10a72e2134f146ccb814d72840141de1": {
      "model_module": "jupyter-js-widgets",
      "model_module_version": "~2.1.4",
      "model_name": "LayoutModel",
      "state": {
       "_model_module_version": "~2.1.4",
       "_view_module_version": "~2.1.4"
      }
     },
     "10ac932a83b24477adcd66a467c32646": {
      "model_module": "jupyter-js-widgets",
      "model_module_version": "~2.1.4",
      "model_name": "ProgressStyleModel",
      "state": {
       "_model_module_version": "~2.1.4",
       "_view_module_version": "~2.1.4"
      }
     },
     "10ae2aaf5b354e2cb79f6bbd7511559b": {
      "model_module": "jupyter-js-widgets",
      "model_module_version": "~2.1.4",
      "model_name": "ProgressStyleModel",
      "state": {
       "_model_module_version": "~2.1.4",
       "_view_module_version": "~2.1.4"
      }
     },
     "10f2150467324daa9227bd8510fa11ac": {
      "model_module": "jupyter-js-widgets",
      "model_module_version": "~2.1.4",
      "model_name": "LayoutModel",
      "state": {
       "_model_module_version": "~2.1.4",
       "_view_module_version": "~2.1.4"
      }
     },
     "1217a1e7a4ec4d81bc6a0e00caa39e61": {
      "model_module": "jupyter-js-widgets",
      "model_module_version": "~2.1.4",
      "model_name": "ProgressModel",
      "state": {
       "_model_module_version": "~2.1.4",
       "_view_module_version": "~2.1.4",
       "bar_style": "success",
       "description": "2nd loop",
       "layout": "IPY_MODEL_807d506d8ec8486b9182fd2b923a74fd",
       "style": "IPY_MODEL_10ae2aaf5b354e2cb79f6bbd7511559b",
       "value": 100
      }
     },
     "124b046365814bb9b7e62978a7d705c8": {
      "model_module": "jupyter-js-widgets",
      "model_module_version": "~2.1.4",
      "model_name": "LayoutModel",
      "state": {
       "_model_module_version": "~2.1.4",
       "_view_module_version": "~2.1.4"
      }
     },
     "1274f9fb416f4425bc180eb0c1efcfad": {
      "model_module": "jupyter-js-widgets",
      "model_module_version": "~2.1.4",
      "model_name": "LayoutModel",
      "state": {
       "_model_module_version": "~2.1.4",
       "_view_module_version": "~2.1.4"
      }
     },
     "12c8cd123b294bdf864472935095a6b4": {
      "model_module": "jupyter-js-widgets",
      "model_module_version": "~2.1.4",
      "model_name": "HBoxModel",
      "state": {
       "_model_module_version": "~2.1.4",
       "_view_module_version": "~2.1.4",
       "children": [
        "IPY_MODEL_9ff8a36efe924ae787488162b0b57f89",
        "IPY_MODEL_e84ed1cd09db4b7a83b62e0d035cb193"
       ],
       "layout": "IPY_MODEL_da5d0a4088e14d75bbea991cab3859ab"
      }
     },
     "13165c92f0244565b079a64d461d3216": {
      "model_module": "jupyter-js-widgets",
      "model_module_version": "~2.1.4",
      "model_name": "LayoutModel",
      "state": {
       "_model_module_version": "~2.1.4",
       "_view_module_version": "~2.1.4"
      }
     },
     "1371332ef51b410990f08dff158c01c2": {
      "model_module": "jupyter-js-widgets",
      "model_module_version": "~2.1.4",
      "model_name": "ProgressStyleModel",
      "state": {
       "_model_module_version": "~2.1.4",
       "_view_module_version": "~2.1.4"
      }
     },
     "1473a308320d4fbeae87c3f119b373ab": {
      "model_module": "jupyter-js-widgets",
      "model_module_version": "~2.1.4",
      "model_name": "ProgressStyleModel",
      "state": {
       "_model_module_version": "~2.1.4",
       "_view_module_version": "~2.1.4"
      }
     },
     "14772fef66ed49e0a6c3bf7feb183354": {
      "model_module": "jupyter-js-widgets",
      "model_module_version": "~2.1.4",
      "model_name": "LayoutModel",
      "state": {
       "_model_module_version": "~2.1.4",
       "_view_module_version": "~2.1.4"
      }
     },
     "165a196e3d9f42ecacff06d35fa1443e": {
      "model_module": "jupyter-js-widgets",
      "model_module_version": "~2.1.4",
      "model_name": "HBoxModel",
      "state": {
       "_model_module_version": "~2.1.4",
       "_view_module_version": "~2.1.4",
       "children": [
        "IPY_MODEL_08aa7d70ff7341da93b9e99319d1ec2f",
        "IPY_MODEL_cfb593b959a948699cad68339953663b"
       ],
       "layout": "IPY_MODEL_92695b6d36ff411cad8dfe02a10c77f0"
      }
     },
     "17974c815d914d058ae6efd8ca1926c6": {
      "model_module": "jupyter-js-widgets",
      "model_module_version": "~2.1.4",
      "model_name": "HBoxModel",
      "state": {
       "_model_module_version": "~2.1.4",
       "_view_module_version": "~2.1.4",
       "children": [
        "IPY_MODEL_6a1c62cfbdf4458bb071fe1d574efbd9",
        "IPY_MODEL_5746fff2d1894067b1a926dc10f07ba1"
       ],
       "layout": "IPY_MODEL_a3c39ca926f543c9903cf56cfdec267c"
      }
     },
     "17f0c5218415430aa2e8cefb2087cd1e": {
      "model_module": "jupyter-js-widgets",
      "model_module_version": "~2.1.4",
      "model_name": "ProgressStyleModel",
      "state": {
       "_model_module_version": "~2.1.4",
       "_view_module_version": "~2.1.4"
      }
     },
     "182806ee1e6f488295f1a85a2dea740a": {
      "model_module": "jupyter-js-widgets",
      "model_module_version": "~2.1.4",
      "model_name": "LayoutModel",
      "state": {
       "_model_module_version": "~2.1.4",
       "_view_module_version": "~2.1.4"
      }
     },
     "188f89264e04423297a43e1b7b372d39": {
      "model_module": "jupyter-js-widgets",
      "model_module_version": "~2.1.4",
      "model_name": "ProgressModel",
      "state": {
       "_model_module_version": "~2.1.4",
       "_view_module_version": "~2.1.4",
       "layout": "IPY_MODEL_a078f9d66959491eaa1a12c5cef384b0",
       "max": 2,
       "style": "IPY_MODEL_bb3174dcec22478b9996772ff80d3bad"
      }
     },
     "19a721dd88ed4b788bff0892c6aa7404": {
      "model_module": "jupyter-js-widgets",
      "model_module_version": "~2.1.4",
      "model_name": "LayoutModel",
      "state": {
       "_model_module_version": "~2.1.4",
       "_view_module_version": "~2.1.4"
      }
     },
     "1b9b65b1faa245e8baf3e5f076ea1648": {
      "model_module": "jupyter-js-widgets",
      "model_module_version": "~2.1.4",
      "model_name": "LayoutModel",
      "state": {
       "_model_module_version": "~2.1.4",
       "_view_module_version": "~2.1.4"
      }
     },
     "1bd51dca96b14e28bc1ab9fa837d216d": {
      "model_module": "jupyter-js-widgets",
      "model_module_version": "~2.1.4",
      "model_name": "HBoxModel",
      "state": {
       "_model_module_version": "~2.1.4",
       "_view_module_version": "~2.1.4",
       "children": [
        "IPY_MODEL_063ab8e4ea174e60967e5b3d67cf7e9a",
        "IPY_MODEL_aaeb7116aaf94f6f87931059d803cdf7"
       ],
       "layout": "IPY_MODEL_929277e0d51c499fa22ba4063644684b"
      }
     },
     "1cf4c9ac6cd440a08087dec6039936cb": {
      "model_module": "jupyter-js-widgets",
      "model_module_version": "~2.1.4",
      "model_name": "HTMLModel",
      "state": {
       "_model_module_version": "~2.1.4",
       "_view_module_version": "~2.1.4",
       "layout": "IPY_MODEL_8270159c6b87424bb5e166131ca911ca",
       "value": "100% 2/2 [00:03&lt;00:00,  1.20s/it]"
      }
     },
     "1d48bdacb1cc4ec0867b842028a0ab47": {
      "model_module": "jupyter-js-widgets",
      "model_module_version": "~2.1.4",
      "model_name": "LayoutModel",
      "state": {
       "_model_module_version": "~2.1.4",
       "_view_module_version": "~2.1.4"
      }
     },
     "1d7bb1402e7c4ff1a9d5412b97cd900e": {
      "model_module": "jupyter-js-widgets",
      "model_module_version": "~2.1.4",
      "model_name": "HTMLModel",
      "state": {
       "_model_module_version": "~2.1.4",
       "_view_module_version": "~2.1.4",
       "layout": "IPY_MODEL_de8f58fb90ee4f05bb0da0e41aa0487d",
       "value": "  0% 0/2 [00:00&lt;?, ?it/s]"
      }
     },
     "1deafd946d7a4cd99c47218c92602f9c": {
      "model_module": "jupyter-js-widgets",
      "model_module_version": "~2.1.4",
      "model_name": "HBoxModel",
      "state": {
       "_model_module_version": "~2.1.4",
       "_view_module_version": "~2.1.4",
       "children": [
        "IPY_MODEL_22ffe24cabc745aca4f556b4fb51688c",
        "IPY_MODEL_3fa1e3ebc51b4a74864a8dccf3194a97"
       ],
       "layout": "IPY_MODEL_4857bafab1974a998125616ea27bd070"
      }
     },
     "1eeccaa189294845957ae6894a8f9feb": {
      "model_module": "jupyter-js-widgets",
      "model_module_version": "~2.1.4",
      "model_name": "LayoutModel",
      "state": {
       "_model_module_version": "~2.1.4",
       "_view_module_version": "~2.1.4"
      }
     },
     "1f3505678798438a8050eeec15cf3d03": {
      "model_module": "jupyter-js-widgets",
      "model_module_version": "~2.1.4",
      "model_name": "ProgressStyleModel",
      "state": {
       "_model_module_version": "~2.1.4",
       "_view_module_version": "~2.1.4"
      }
     },
     "1f573a17eba24834bf351f9cba782e47": {
      "model_module": "jupyter-js-widgets",
      "model_module_version": "~2.1.4",
      "model_name": "LayoutModel",
      "state": {
       "_model_module_version": "~2.1.4",
       "_view_module_version": "~2.1.4"
      }
     },
     "1f68a4732b70442abaf72fb924165744": {
      "model_module": "jupyter-js-widgets",
      "model_module_version": "~2.1.4",
      "model_name": "LayoutModel",
      "state": {
       "_model_module_version": "~2.1.4",
       "_view_module_version": "~2.1.4"
      }
     },
     "2017876e5b4248c8898884349c089315": {
      "model_module": "jupyter-js-widgets",
      "model_module_version": "~2.1.4",
      "model_name": "LayoutModel",
      "state": {
       "_model_module_version": "~2.1.4",
       "_view_module_version": "~2.1.4"
      }
     },
     "202c4e5143bf4b2fadfa285aaf9aa85c": {
      "model_module": "jupyter-js-widgets",
      "model_module_version": "~2.1.4",
      "model_name": "LayoutModel",
      "state": {
       "_model_module_version": "~2.1.4",
       "_view_module_version": "~2.1.4"
      }
     },
     "2048a8af1c114540a180b3871a71237d": {
      "model_module": "jupyter-js-widgets",
      "model_module_version": "~2.1.4",
      "model_name": "ProgressModel",
      "state": {
       "_model_module_version": "~2.1.4",
       "_view_module_version": "~2.1.4",
       "bar_style": "success",
       "description": "2nd loop",
       "layout": "IPY_MODEL_8a0ab55ffca640929bf95c4ae9062dd7",
       "style": "IPY_MODEL_17f0c5218415430aa2e8cefb2087cd1e",
       "value": 100
      }
     },
     "21e511d2f09f449f84f6240a036d084a": {
      "model_module": "jupyter-js-widgets",
      "model_module_version": "~2.1.4",
      "model_name": "LayoutModel",
      "state": {
       "_model_module_version": "~2.1.4",
       "_view_module_version": "~2.1.4"
      }
     },
     "22ffe24cabc745aca4f556b4fb51688c": {
      "model_module": "jupyter-js-widgets",
      "model_module_version": "~2.1.4",
      "model_name": "ProgressModel",
      "state": {
       "_model_module_version": "~2.1.4",
       "_view_module_version": "~2.1.4",
       "bar_style": "danger",
       "layout": "IPY_MODEL_7a087d5dbd7048ec9c09ce4903293fc2",
       "max": 161,
       "style": "IPY_MODEL_815f3eded47444759f96891e3a7e9fdb"
      }
     },
     "23516878eb9243369cbb03a661f8ec73": {
      "model_module": "jupyter-js-widgets",
      "model_module_version": "~2.1.4",
      "model_name": "ProgressModel",
      "state": {
       "_model_module_version": "~2.1.4",
       "_view_module_version": "~2.1.4",
       "bar_style": "success",
       "layout": "IPY_MODEL_f8a40139a27c4179aba89bd7ea3b7b2f",
       "max": 56,
       "style": "IPY_MODEL_b4bafd4528bf4f1490893e761629e985",
       "value": 56
      }
     },
     "2488f723c53f4ec58b6c85c933c9a357": {
      "model_module": "jupyter-js-widgets",
      "model_module_version": "~2.1.4",
      "model_name": "LayoutModel",
      "state": {
       "_model_module_version": "~2.1.4",
       "_view_module_version": "~2.1.4"
      }
     },
     "24d116c0283645dea76fa12589009412": {
      "model_module": "jupyter-js-widgets",
      "model_module_version": "~2.1.4",
      "model_name": "ProgressStyleModel",
      "state": {
       "_model_module_version": "~2.1.4",
       "_view_module_version": "~2.1.4"
      }
     },
     "263cb7686d964ef9a8556668944d21a0": {
      "model_module": "jupyter-js-widgets",
      "model_module_version": "~2.1.4",
      "model_name": "HBoxModel",
      "state": {
       "_model_module_version": "~2.1.4",
       "_view_module_version": "~2.1.4",
       "children": [
        "IPY_MODEL_2048a8af1c114540a180b3871a71237d",
        "IPY_MODEL_ec3ee10d426a4ebe9215c62237f3887a"
       ],
       "layout": "IPY_MODEL_fd3c4974ebfa499d8512922c01a14e36"
      }
     },
     "26a8952b2ae74da2b8ebf9fcf4ad59f2": {
      "model_module": "jupyter-js-widgets",
      "model_module_version": "~2.1.4",
      "model_name": "ProgressStyleModel",
      "state": {
       "_model_module_version": "~2.1.4",
       "_view_module_version": "~2.1.4"
      }
     },
     "2742c1156c4a47bfac8d50e1e2166ad1": {
      "model_module": "jupyter-js-widgets",
      "model_module_version": "~2.1.4",
      "model_name": "HBoxModel",
      "state": {
       "_model_module_version": "~2.1.4",
       "_view_module_version": "~2.1.4",
       "children": [
        "IPY_MODEL_b12d0289259e4ab58aa7201088e78b1b",
        "IPY_MODEL_e2c76649c7ce43e29df27076cce77842"
       ],
       "layout": "IPY_MODEL_13165c92f0244565b079a64d461d3216"
      }
     },
     "2762637219c843c78b2822d1084e2cc6": {
      "model_module": "jupyter-js-widgets",
      "model_module_version": "~2.1.4",
      "model_name": "HBoxModel",
      "state": {
       "_model_module_version": "~2.1.4",
       "_view_module_version": "~2.1.4",
       "children": [
        "IPY_MODEL_f975d254acc341df8854da57e432494a",
        "IPY_MODEL_3b61e6dda2d647c0930d18d4d67a60bf"
       ],
       "layout": "IPY_MODEL_5ec1dc86840d4a33a30c7061c83e91cc"
      }
     },
     "2b6d7a5ce62d4ee4a2c28a41f33c38c7": {
      "model_module": "jupyter-js-widgets",
      "model_module_version": "~2.1.4",
      "model_name": "LayoutModel",
      "state": {
       "_model_module_version": "~2.1.4",
       "_view_module_version": "~2.1.4"
      }
     },
     "2d04f02e89e3488eb919bffa00321bc5": {
      "model_module": "jupyter-js-widgets",
      "model_module_version": "~2.1.4",
      "model_name": "LayoutModel",
      "state": {
       "_model_module_version": "~2.1.4",
       "_view_module_version": "~2.1.4"
      }
     },
     "2d511383dd6a49af8def6f169701f3af": {
      "model_module": "jupyter-js-widgets",
      "model_module_version": "~2.1.4",
      "model_name": "LayoutModel",
      "state": {
       "_model_module_version": "~2.1.4",
       "_view_module_version": "~2.1.4"
      }
     },
     "2db62b134f6f47ac8835caf45ac1b5f2": {
      "model_module": "jupyter-js-widgets",
      "model_module_version": "~2.1.4",
      "model_name": "LayoutModel",
      "state": {
       "_model_module_version": "~2.1.4",
       "_view_module_version": "~2.1.4"
      }
     },
     "2de026fafd5b43b78ac9c6e97d0a67a3": {
      "model_module": "jupyter-js-widgets",
      "model_module_version": "~2.1.4",
      "model_name": "HTMLModel",
      "state": {
       "_model_module_version": "~2.1.4",
       "_view_module_version": "~2.1.4",
       "layout": "IPY_MODEL_1b9b65b1faa245e8baf3e5f076ea1648",
       "value": "0it [00:00, ?it/s]"
      }
     },
     "2fcd3f791a7e463faabd495aae70297a": {
      "model_module": "jupyter-js-widgets",
      "model_module_version": "~2.1.4",
      "model_name": "LayoutModel",
      "state": {
       "_model_module_version": "~2.1.4",
       "_view_module_version": "~2.1.4"
      }
     },
     "300e9e1c5fa948d89d1c1ad689e54585": {
      "model_module": "jupyter-js-widgets",
      "model_module_version": "~2.1.4",
      "model_name": "LayoutModel",
      "state": {
       "_model_module_version": "~2.1.4",
       "_view_module_version": "~2.1.4"
      }
     },
     "30ff0ca51ff04a7a927474d9cc0057b5": {
      "model_module": "jupyter-js-widgets",
      "model_module_version": "~2.1.4",
      "model_name": "HBoxModel",
      "state": {
       "_model_module_version": "~2.1.4",
       "_view_module_version": "~2.1.4",
       "children": [
        "IPY_MODEL_8f89ac66d4df490485c96a0f7c09cbc1",
        "IPY_MODEL_68bcc831bf3a4348b0bfe32ee5201bf9"
       ],
       "layout": "IPY_MODEL_94ecfb39544949da8776e326cf6eb82b"
      }
     },
     "3126402e77034dc78c41457d457b3ee8": {
      "model_module": "jupyter-js-widgets",
      "model_module_version": "~2.1.4",
      "model_name": "ProgressModel",
      "state": {
       "_model_module_version": "~2.1.4",
       "_view_module_version": "~2.1.4",
       "bar_style": "danger",
       "layout": "IPY_MODEL_885b320c9f994999b216a0c6d5e6baac",
       "max": 2,
       "style": "IPY_MODEL_51c3b7b356cf440f9972cdf3b8d50955"
      }
     },
     "31cf4ec77d964fcfb9b5e00686738fc6": {
      "model_module": "jupyter-js-widgets",
      "model_module_version": "~2.1.4",
      "model_name": "ProgressModel",
      "state": {
       "_model_module_version": "~2.1.4",
       "_view_module_version": "~2.1.4",
       "bar_style": "info",
       "layout": "IPY_MODEL_b5d32eefbf2b44289aa963e62f02607d",
       "max": 1,
       "style": "IPY_MODEL_26a8952b2ae74da2b8ebf9fcf4ad59f2",
       "value": 1
      }
     },
     "31fa8952fd8f47f1b4fd8d345f99c3fa": {
      "model_module": "jupyter-js-widgets",
      "model_module_version": "~2.1.4",
      "model_name": "ProgressStyleModel",
      "state": {
       "_model_module_version": "~2.1.4",
       "_view_module_version": "~2.1.4"
      }
     },
     "335cf9be90c5451ba3c982090e1f45a8": {
      "model_module": "jupyter-js-widgets",
      "model_module_version": "~2.1.4",
      "model_name": "LayoutModel",
      "state": {
       "_model_module_version": "~2.1.4",
       "_view_module_version": "~2.1.4"
      }
     },
     "3510c980fe40488b8db2ff4f3afa4a26": {
      "model_module": "jupyter-js-widgets",
      "model_module_version": "~2.1.4",
      "model_name": "ProgressModel",
      "state": {
       "_model_module_version": "~2.1.4",
       "_view_module_version": "~2.1.4",
       "bar_style": "danger",
       "layout": "IPY_MODEL_53da6065cc0346e0a5df61e689d9546c",
       "max": 161,
       "style": "IPY_MODEL_435bbfbf11354e908b30496b7d3aab48",
       "value": 105
      }
     },
     "359f833201724c21b20ab05d81b887df": {
      "model_module": "jupyter-js-widgets",
      "model_module_version": "~2.1.4",
      "model_name": "ProgressModel",
      "state": {
       "_model_module_version": "~2.1.4",
       "_view_module_version": "~2.1.4",
       "bar_style": "success",
       "layout": "IPY_MODEL_2488f723c53f4ec58b6c85c933c9a357",
       "max": 1,
       "style": "IPY_MODEL_47853c9a04ef4719a40f0c4b69464ebc",
       "value": 1
      }
     },
     "37e3dad295554a6b9a5d140dcb96b041": {
      "model_module": "jupyter-js-widgets",
      "model_module_version": "~2.1.4",
      "model_name": "HBoxModel",
      "state": {
       "_model_module_version": "~2.1.4",
       "_view_module_version": "~2.1.4",
       "children": [
        "IPY_MODEL_9763d301743b4f4c816df8e0ee106762",
        "IPY_MODEL_6bd98c7de5d44f3f9c05c6adbf4eefbf"
       ],
       "layout": "IPY_MODEL_7d6ce39dc11c48929da46a2d279eff5a"
      }
     },
     "387131de4b0342d3b2b488463143ef30": {
      "model_module": "jupyter-js-widgets",
      "model_module_version": "~2.1.4",
      "model_name": "HTMLModel",
      "state": {
       "_model_module_version": "~2.1.4",
       "_view_module_version": "~2.1.4",
       "layout": "IPY_MODEL_84da76936a944407ae069e0b5696d73b",
       "value": "100% 100/100 [00:01&lt;00:00, 94.46it/s]"
      }
     },
     "3a11671f3bec4d7a813b605dc927be94": {
      "model_module": "jupyter-js-widgets",
      "model_module_version": "~2.1.4",
      "model_name": "LayoutModel",
      "state": {
       "_model_module_version": "~2.1.4",
       "_view_module_version": "~2.1.4"
      }
     },
     "3b383b88af7c44649d1365b2793bf030": {
      "model_module": "jupyter-js-widgets",
      "model_module_version": "~2.1.4",
      "model_name": "LayoutModel",
      "state": {
       "_model_module_version": "~2.1.4",
       "_view_module_version": "~2.1.4"
      }
     },
     "3b61e6dda2d647c0930d18d4d67a60bf": {
      "model_module": "jupyter-js-widgets",
      "model_module_version": "~2.1.4",
      "model_name": "HTMLModel",
      "state": {
       "_model_module_version": "~2.1.4",
       "_view_module_version": "~2.1.4",
       "layout": "IPY_MODEL_5269b292507640438e0bd1851d5578ce",
       "value": "100% 10/10 [00:10&lt;00:00,  1.06s/it]"
      }
     },
     "3bb5706c81204567832e293828d60787": {
      "model_module": "jupyter-js-widgets",
      "model_module_version": "~2.1.4",
      "model_name": "LayoutModel",
      "state": {
       "_model_module_version": "~2.1.4",
       "_view_module_version": "~2.1.4"
      }
     },
     "3fa1e3ebc51b4a74864a8dccf3194a97": {
      "model_module": "jupyter-js-widgets",
      "model_module_version": "~2.1.4",
      "model_name": "HTMLModel",
      "state": {
       "_model_module_version": "~2.1.4",
       "_view_module_version": "~2.1.4",
       "layout": "IPY_MODEL_542f3f2d461345e595bd050a651f7fbf",
       "value": "  0% 0/161 [00:00&lt;?, ?it/s]"
      }
     },
     "4072b146afb74d37842b7a8e212e5e9e": {
      "model_module": "jupyter-js-widgets",
      "model_module_version": "~2.1.4",
      "model_name": "HBoxModel",
      "state": {
       "_model_module_version": "~2.1.4",
       "_view_module_version": "~2.1.4",
       "children": [
        "IPY_MODEL_7a1a5e9c9f1b4ff9918bfaa7181e0697",
        "IPY_MODEL_b54645bfffda4ff68ac7ecf5f0e5c60d"
       ],
       "layout": "IPY_MODEL_5bb9d9ab2071400f8d4ac3e0ab80427f"
      }
     },
     "435bbfbf11354e908b30496b7d3aab48": {
      "model_module": "jupyter-js-widgets",
      "model_module_version": "~2.1.4",
      "model_name": "ProgressStyleModel",
      "state": {
       "_model_module_version": "~2.1.4",
       "_view_module_version": "~2.1.4"
      }
     },
     "44cfc9ed7db74a9292066d4f82f84f94": {
      "model_module": "jupyter-js-widgets",
      "model_module_version": "~2.1.4",
      "model_name": "ProgressStyleModel",
      "state": {
       "_model_module_version": "~2.1.4",
       "_view_module_version": "~2.1.4"
      }
     },
     "46de2705bb51421cb588af573a105c24": {
      "model_module": "jupyter-js-widgets",
      "model_module_version": "~2.1.4",
      "model_name": "LayoutModel",
      "state": {
       "_model_module_version": "~2.1.4",
       "_view_module_version": "~2.1.4"
      }
     },
     "47853c9a04ef4719a40f0c4b69464ebc": {
      "model_module": "jupyter-js-widgets",
      "model_module_version": "~2.1.4",
      "model_name": "ProgressStyleModel",
      "state": {
       "_model_module_version": "~2.1.4",
       "_view_module_version": "~2.1.4"
      }
     },
     "4857bafab1974a998125616ea27bd070": {
      "model_module": "jupyter-js-widgets",
      "model_module_version": "~2.1.4",
      "model_name": "LayoutModel",
      "state": {
       "_model_module_version": "~2.1.4",
       "_view_module_version": "~2.1.4"
      }
     },
     "492eadc06fab4487acdeb9cf96c540f7": {
      "model_module": "jupyter-js-widgets",
      "model_module_version": "~2.1.4",
      "model_name": "HBoxModel",
      "state": {
       "_model_module_version": "~2.1.4",
       "_view_module_version": "~2.1.4",
       "children": [
        "IPY_MODEL_81b7dab4a9dd4198b8d2411d4735903f",
        "IPY_MODEL_1cf4c9ac6cd440a08087dec6039936cb"
       ],
       "layout": "IPY_MODEL_4ea163775acd4fdd835a3c850cf7bbf5"
      }
     },
     "4ba94cf28ae747fbb8201b7bca31a648": {
      "model_module": "jupyter-js-widgets",
      "model_module_version": "~2.1.4",
      "model_name": "LayoutModel",
      "state": {
       "_model_module_version": "~2.1.4",
       "_view_module_version": "~2.1.4"
      }
     },
     "4bfaa98c898e41eb9370a71e8915eaf6": {
      "model_module": "jupyter-js-widgets",
      "model_module_version": "~2.1.4",
      "model_name": "LayoutModel",
      "state": {
       "_model_module_version": "~2.1.4",
       "_view_module_version": "~2.1.4"
      }
     },
     "4c26b6855196449180c85ccaf931dfa2": {
      "model_module": "jupyter-js-widgets",
      "model_module_version": "~2.1.4",
      "model_name": "LayoutModel",
      "state": {
       "_model_module_version": "~2.1.4",
       "_view_module_version": "~2.1.4"
      }
     },
     "4ca4d018994747bba1ed301e08d6bf4d": {
      "model_module": "jupyter-js-widgets",
      "model_module_version": "~2.1.4",
      "model_name": "ProgressModel",
      "state": {
       "_model_module_version": "~2.1.4",
       "_view_module_version": "~2.1.4",
       "bar_style": "danger",
       "layout": "IPY_MODEL_182806ee1e6f488295f1a85a2dea740a",
       "max": 161,
       "style": "IPY_MODEL_7e285eb4805649a18d55aa5b37958d57"
      }
     },
     "4ea163775acd4fdd835a3c850cf7bbf5": {
      "model_module": "jupyter-js-widgets",
      "model_module_version": "~2.1.4",
      "model_name": "LayoutModel",
      "state": {
       "_model_module_version": "~2.1.4",
       "_view_module_version": "~2.1.4"
      }
     },
     "4eba32fe280847c38c0fc955a6124e54": {
      "model_module": "jupyter-js-widgets",
      "model_module_version": "~2.1.4",
      "model_name": "ProgressModel",
      "state": {
       "_model_module_version": "~2.1.4",
       "_view_module_version": "~2.1.4",
       "bar_style": "danger",
       "layout": "IPY_MODEL_f87c4f78fdee44dbb6d8abc5994da94e",
       "max": 161,
       "style": "IPY_MODEL_e27dd54d5ede4d38bd1fdbe7de8edea7",
       "value": 21
      }
     },
     "4fa84d0b4c9a44c8bc8e309ac0bbe65a": {
      "model_module": "jupyter-js-widgets",
      "model_module_version": "~2.1.4",
      "model_name": "HBoxModel",
      "state": {
       "_model_module_version": "~2.1.4",
       "_view_module_version": "~2.1.4",
       "children": [
        "IPY_MODEL_e39fe25a78ed4e708df21602789ac517",
        "IPY_MODEL_8bba81a620f445a59fb62b712e38a18e"
       ],
       "layout": "IPY_MODEL_9a16861284064ebcbb258bec01785a91"
      }
     },
     "4fe5af207d57437db23edecd43fcf109": {
      "model_module": "jupyter-js-widgets",
      "model_module_version": "~2.1.4",
      "model_name": "HBoxModel",
      "state": {
       "_model_module_version": "~2.1.4",
       "_view_module_version": "~2.1.4",
       "children": [
        "IPY_MODEL_188f89264e04423297a43e1b7b372d39",
        "IPY_MODEL_54cf3791040f4c6e9355667a6716ec1b"
       ],
       "layout": "IPY_MODEL_3a11671f3bec4d7a813b605dc927be94"
      }
     },
     "50d092269af6403fa731cd2b3f43effa": {
      "model_module": "jupyter-js-widgets",
      "model_module_version": "~2.1.4",
      "model_name": "LayoutModel",
      "state": {
       "_model_module_version": "~2.1.4",
       "_view_module_version": "~2.1.4"
      }
     },
     "5103b56cf0404c77b10a0c844f6eb98d": {
      "model_module": "jupyter-js-widgets",
      "model_module_version": "~2.1.4",
      "model_name": "ProgressModel",
      "state": {
       "_model_module_version": "~2.1.4",
       "_view_module_version": "~2.1.4",
       "bar_style": "danger",
       "layout": "IPY_MODEL_f9ffddcf4a4844229ace84cf0c1f0221",
       "max": 161,
       "style": "IPY_MODEL_89bff8d861554090ad28419bb4964202",
       "value": 109
      }
     },
     "513485e759f54c57bbe48952272fcb31": {
      "model_module": "jupyter-js-widgets",
      "model_module_version": "~2.1.4",
      "model_name": "ProgressStyleModel",
      "state": {
       "_model_module_version": "~2.1.4",
       "_view_module_version": "~2.1.4"
      }
     },
     "514925b3bc4048fa80539e3d458f2ae7": {
      "model_module": "jupyter-js-widgets",
      "model_module_version": "~2.1.4",
      "model_name": "LayoutModel",
      "state": {
       "_model_module_version": "~2.1.4",
       "_view_module_version": "~2.1.4"
      }
     },
     "51c3b7b356cf440f9972cdf3b8d50955": {
      "model_module": "jupyter-js-widgets",
      "model_module_version": "~2.1.4",
      "model_name": "ProgressStyleModel",
      "state": {
       "_model_module_version": "~2.1.4",
       "_view_module_version": "~2.1.4"
      }
     },
     "51cc8d317d02412aaca8f18326238b8b": {
      "model_module": "jupyter-js-widgets",
      "model_module_version": "~2.1.4",
      "model_name": "LayoutModel",
      "state": {
       "_model_module_version": "~2.1.4",
       "_view_module_version": "~2.1.4"
      }
     },
     "5269b292507640438e0bd1851d5578ce": {
      "model_module": "jupyter-js-widgets",
      "model_module_version": "~2.1.4",
      "model_name": "LayoutModel",
      "state": {
       "_model_module_version": "~2.1.4",
       "_view_module_version": "~2.1.4"
      }
     },
     "53da6065cc0346e0a5df61e689d9546c": {
      "model_module": "jupyter-js-widgets",
      "model_module_version": "~2.1.4",
      "model_name": "LayoutModel",
      "state": {
       "_model_module_version": "~2.1.4",
       "_view_module_version": "~2.1.4"
      }
     },
     "542f3f2d461345e595bd050a651f7fbf": {
      "model_module": "jupyter-js-widgets",
      "model_module_version": "~2.1.4",
      "model_name": "LayoutModel",
      "state": {
       "_model_module_version": "~2.1.4",
       "_view_module_version": "~2.1.4"
      }
     },
     "546121d5250b419d83118d175fcb11c3": {
      "model_module": "jupyter-js-widgets",
      "model_module_version": "~2.1.4",
      "model_name": "LayoutModel",
      "state": {
       "_model_module_version": "~2.1.4",
       "_view_module_version": "~2.1.4"
      }
     },
     "54a39b0ab06d4f4c99791dc581495dd3": {
      "model_module": "jupyter-js-widgets",
      "model_module_version": "~2.1.4",
      "model_name": "ProgressModel",
      "state": {
       "_model_module_version": "~2.1.4",
       "_view_module_version": "~2.1.4",
       "bar_style": "success",
       "description": "2nd loop",
       "layout": "IPY_MODEL_335cf9be90c5451ba3c982090e1f45a8",
       "style": "IPY_MODEL_9c5a458733544e51a01331872ec4a4a6",
       "value": 100
      }
     },
     "54cf3791040f4c6e9355667a6716ec1b": {
      "model_module": "jupyter-js-widgets",
      "model_module_version": "~2.1.4",
      "model_name": "HTMLModel",
      "state": {
       "_model_module_version": "~2.1.4",
       "_view_module_version": "~2.1.4",
       "layout": "IPY_MODEL_1f573a17eba24834bf351f9cba782e47",
       "value": "  0% 0/2 [00:00&lt;?, ?it/s]"
      }
     },
     "5746fff2d1894067b1a926dc10f07ba1": {
      "model_module": "jupyter-js-widgets",
      "model_module_version": "~2.1.4",
      "model_name": "HTMLModel",
      "state": {
       "_model_module_version": "~2.1.4",
       "_view_module_version": "~2.1.4",
       "layout": "IPY_MODEL_eff51d8c8f5a4840b5d838265c694893",
       "value": "  0% 0/2 [00:00&lt;?, ?it/s]"
      }
     },
     "575dc7b8a0de4afeaa7bf85d0f22c475": {
      "model_module": "jupyter-js-widgets",
      "model_module_version": "~2.1.4",
      "model_name": "LayoutModel",
      "state": {
       "_model_module_version": "~2.1.4",
       "_view_module_version": "~2.1.4"
      }
     },
     "581bf4485d384185a1332cf3fd9575da": {
      "model_module": "jupyter-js-widgets",
      "model_module_version": "~2.1.4",
      "model_name": "LayoutModel",
      "state": {
       "_model_module_version": "~2.1.4",
       "_view_module_version": "~2.1.4"
      }
     },
     "58479806f8d04b0887ae9f538e7687e3": {
      "model_module": "jupyter-js-widgets",
      "model_module_version": "~2.1.4",
      "model_name": "HTMLModel",
      "state": {
       "_model_module_version": "~2.1.4",
       "_view_module_version": "~2.1.4",
       "layout": "IPY_MODEL_ffa1169604724b939069ffc142d06d18",
       "value": "100% 100/100 [00:01&lt;00:00, 94.42it/s]"
      }
     },
     "5861d0115bfa4af7817c1262bb116c3a": {
      "model_module": "jupyter-js-widgets",
      "model_module_version": "~2.1.4",
      "model_name": "ProgressStyleModel",
      "state": {
       "_model_module_version": "~2.1.4",
       "_view_module_version": "~2.1.4"
      }
     },
     "59b008cb5647464f8b5b8e68be8c60e6": {
      "model_module": "jupyter-js-widgets",
      "model_module_version": "~2.1.4",
      "model_name": "LayoutModel",
      "state": {
       "_model_module_version": "~2.1.4",
       "_view_module_version": "~2.1.4"
      }
     },
     "5aba5ab0e716492398763e56ecbfd397": {
      "model_module": "jupyter-js-widgets",
      "model_module_version": "~2.1.4",
      "model_name": "LayoutModel",
      "state": {
       "_model_module_version": "~2.1.4",
       "_view_module_version": "~2.1.4"
      }
     },
     "5ac58debe5f24194b710de5d3fe9221b": {
      "model_module": "jupyter-js-widgets",
      "model_module_version": "~2.1.4",
      "model_name": "LayoutModel",
      "state": {
       "_model_module_version": "~2.1.4",
       "_view_module_version": "~2.1.4"
      }
     },
     "5b81c4503d444437be8e65c979f667ef": {
      "model_module": "jupyter-js-widgets",
      "model_module_version": "~2.1.4",
      "model_name": "LayoutModel",
      "state": {
       "_model_module_version": "~2.1.4",
       "_view_module_version": "~2.1.4"
      }
     },
     "5bb9d9ab2071400f8d4ac3e0ab80427f": {
      "model_module": "jupyter-js-widgets",
      "model_module_version": "~2.1.4",
      "model_name": "LayoutModel",
      "state": {
       "_model_module_version": "~2.1.4",
       "_view_module_version": "~2.1.4"
      }
     },
     "5bfaa38d7f1a4ef7959f300af314b92d": {
      "model_module": "jupyter-js-widgets",
      "model_module_version": "~2.1.4",
      "model_name": "HBoxModel",
      "state": {
       "_model_module_version": "~2.1.4",
       "_view_module_version": "~2.1.4",
       "children": [
        "IPY_MODEL_72c13295c8294420b1aac3dad0785dd9",
        "IPY_MODEL_d10941a4c8d748eaad01cd8afb83f0ac"
       ],
       "layout": "IPY_MODEL_79486bb0ea304c8a899041320d1f0dc9"
      }
     },
     "5dc16a77647244d698e03825fefe3550": {
      "model_module": "jupyter-js-widgets",
      "model_module_version": "~2.1.4",
      "model_name": "LayoutModel",
      "state": {
       "_model_module_version": "~2.1.4",
       "_view_module_version": "~2.1.4"
      }
     },
     "5e618860fd794f878fcdde8832a66783": {
      "model_module": "jupyter-js-widgets",
      "model_module_version": "~2.1.4",
      "model_name": "ProgressModel",
      "state": {
       "_model_module_version": "~2.1.4",
       "_view_module_version": "~2.1.4",
       "bar_style": "success",
       "description": "2nd loop",
       "layout": "IPY_MODEL_575dc7b8a0de4afeaa7bf85d0f22c475",
       "style": "IPY_MODEL_31fa8952fd8f47f1b4fd8d345f99c3fa",
       "value": 100
      }
     },
     "5ebe0f2e81c14b83a681ebd3e60ab438": {
      "model_module": "jupyter-js-widgets",
      "model_module_version": "~2.1.4",
      "model_name": "LayoutModel",
      "state": {
       "_model_module_version": "~2.1.4",
       "_view_module_version": "~2.1.4"
      }
     },
     "5ec1dc86840d4a33a30c7061c83e91cc": {
      "model_module": "jupyter-js-widgets",
      "model_module_version": "~2.1.4",
      "model_name": "LayoutModel",
      "state": {
       "_model_module_version": "~2.1.4",
       "_view_module_version": "~2.1.4"
      }
     },
     "602affd1b0d544409582b9a5af001004": {
      "model_module": "jupyter-js-widgets",
      "model_module_version": "~2.1.4",
      "model_name": "HBoxModel",
      "state": {
       "_model_module_version": "~2.1.4",
       "_view_module_version": "~2.1.4",
       "children": [
        "IPY_MODEL_ce800f1f3062435094df39902e998690",
        "IPY_MODEL_e87f838f47ec4a7cb2aab3c6ba28c10b"
       ],
       "layout": "IPY_MODEL_514925b3bc4048fa80539e3d458f2ae7"
      }
     },
     "602d9618434749bea2bcd0d1b2c34659": {
      "model_module": "jupyter-js-widgets",
      "model_module_version": "~2.1.4",
      "model_name": "LayoutModel",
      "state": {
       "_model_module_version": "~2.1.4",
       "_view_module_version": "~2.1.4"
      }
     },
     "6269848580f94ee28525ea56db908d43": {
      "model_module": "jupyter-js-widgets",
      "model_module_version": "~2.1.4",
      "model_name": "LayoutModel",
      "state": {
       "_model_module_version": "~2.1.4",
       "_view_module_version": "~2.1.4"
      }
     },
     "62ec84711caa407799dbc79ff64cb502": {
      "model_module": "jupyter-js-widgets",
      "model_module_version": "~2.1.4",
      "model_name": "LayoutModel",
      "state": {
       "_model_module_version": "~2.1.4",
       "_view_module_version": "~2.1.4"
      }
     },
     "644443362daa4ae981c4748659ca5c39": {
      "model_module": "jupyter-js-widgets",
      "model_module_version": "~2.1.4",
      "model_name": "LayoutModel",
      "state": {
       "_model_module_version": "~2.1.4",
       "_view_module_version": "~2.1.4"
      }
     },
     "644ba85005ad41af860272daf842edd1": {
      "model_module": "jupyter-js-widgets",
      "model_module_version": "~2.1.4",
      "model_name": "HTMLModel",
      "state": {
       "_model_module_version": "~2.1.4",
       "_view_module_version": "~2.1.4",
       "layout": "IPY_MODEL_3b383b88af7c44649d1365b2793bf030",
       "value": "0it [00:00, ?it/s]"
      }
     },
     "644cc94d9f384245bd8dc56f6f5ce599": {
      "model_module": "jupyter-js-widgets",
      "model_module_version": "~2.1.4",
      "model_name": "HBoxModel",
      "state": {
       "_model_module_version": "~2.1.4",
       "_view_module_version": "~2.1.4",
       "children": [
        "IPY_MODEL_1217a1e7a4ec4d81bc6a0e00caa39e61",
        "IPY_MODEL_6b7836e100924ece82fbb5f7349b779c"
       ],
       "layout": "IPY_MODEL_3bb5706c81204567832e293828d60787"
      }
     },
     "65bd0fa5d4064830910278641fe28af9": {
      "model_module": "jupyter-js-widgets",
      "model_module_version": "~2.1.4",
      "model_name": "HBoxModel",
      "state": {
       "_model_module_version": "~2.1.4",
       "_view_module_version": "~2.1.4",
       "children": [
        "IPY_MODEL_4ca4d018994747bba1ed301e08d6bf4d",
        "IPY_MODEL_f4074f089ff944e4bc06c38124ba5c86"
       ],
       "layout": "IPY_MODEL_b7aeae8ec7034057bd09e0e095804721"
      }
     },
     "66132784a9354942a01057b2518e06d5": {
      "model_module": "jupyter-js-widgets",
      "model_module_version": "~2.1.4",
      "model_name": "LayoutModel",
      "state": {
       "_model_module_version": "~2.1.4",
       "_view_module_version": "~2.1.4"
      }
     },
     "68bcc831bf3a4348b0bfe32ee5201bf9": {
      "model_module": "jupyter-js-widgets",
      "model_module_version": "~2.1.4",
      "model_name": "HTMLModel",
      "state": {
       "_model_module_version": "~2.1.4",
       "_view_module_version": "~2.1.4",
       "layout": "IPY_MODEL_735635df86f940f98605a8e6d8e2425f",
       "value": "  2% 3/161 [08:29&lt;6:42:53, 152.99s/it]"
      }
     },
     "69227cf702a74090b667cfa16011976a": {
      "model_module": "jupyter-js-widgets",
      "model_module_version": "~2.1.4",
      "model_name": "LayoutModel",
      "state": {
       "_model_module_version": "~2.1.4",
       "_view_module_version": "~2.1.4"
      }
     },
     "6a1c62cfbdf4458bb071fe1d574efbd9": {
      "model_module": "jupyter-js-widgets",
      "model_module_version": "~2.1.4",
      "model_name": "ProgressModel",
      "state": {
       "_model_module_version": "~2.1.4",
       "_view_module_version": "~2.1.4",
       "layout": "IPY_MODEL_19a721dd88ed4b788bff0892c6aa7404",
       "max": 2,
       "style": "IPY_MODEL_a556e64c5f9a466f81c972e572624dbd"
      }
     },
     "6b7836e100924ece82fbb5f7349b779c": {
      "model_module": "jupyter-js-widgets",
      "model_module_version": "~2.1.4",
      "model_name": "HTMLModel",
      "state": {
       "_model_module_version": "~2.1.4",
       "_view_module_version": "~2.1.4",
       "layout": "IPY_MODEL_85ca9cffa819419092dbd45966e1d183",
       "value": "100% 100/100 [00:01&lt;00:00, 94.47it/s]"
      }
     },
     "6bd98c7de5d44f3f9c05c6adbf4eefbf": {
      "model_module": "jupyter-js-widgets",
      "model_module_version": "~2.1.4",
      "model_name": "HTMLModel",
      "state": {
       "_model_module_version": "~2.1.4",
       "_view_module_version": "~2.1.4",
       "layout": "IPY_MODEL_dca9b8e7cc964289b7f7e76b220f8dbc",
       "value": "  1% 1/161 [00:00&lt;00:39,  4.08it/s]"
      }
     },
     "6c48b50459464cd0b7bdf3c35d39db17": {
      "model_module": "jupyter-js-widgets",
      "model_module_version": "~2.1.4",
      "model_name": "HBoxModel",
      "state": {
       "_model_module_version": "~2.1.4",
       "_view_module_version": "~2.1.4",
       "children": [
        "IPY_MODEL_54a39b0ab06d4f4c99791dc581495dd3",
        "IPY_MODEL_387131de4b0342d3b2b488463143ef30"
       ],
       "layout": "IPY_MODEL_50d092269af6403fa731cd2b3f43effa"
      }
     },
     "6c6242e369984366898fe59f96b9b2a9": {
      "model_module": "jupyter-js-widgets",
      "model_module_version": "~2.1.4",
      "model_name": "LayoutModel",
      "state": {
       "_model_module_version": "~2.1.4",
       "_view_module_version": "~2.1.4"
      }
     },
     "6df223e4c04b45b68327e2ca98db6e43": {
      "model_module": "jupyter-js-widgets",
      "model_module_version": "~2.1.4",
      "model_name": "LayoutModel",
      "state": {
       "_model_module_version": "~2.1.4",
       "_view_module_version": "~2.1.4"
      }
     },
     "6e897874dad24dd68592f3d45b48cb7f": {
      "model_module": "jupyter-js-widgets",
      "model_module_version": "~2.1.4",
      "model_name": "ProgressModel",
      "state": {
       "_model_module_version": "~2.1.4",
       "_view_module_version": "~2.1.4",
       "bar_style": "success",
       "layout": "IPY_MODEL_9f3b8f623eb642c0bf8efea41f2d0d73",
       "max": 161,
       "style": "IPY_MODEL_796a6e4dca4047bf851ac2cfad541f52",
       "value": 161
      }
     },
     "6eac70151317499aae66c6cc00591cf4": {
      "model_module": "jupyter-js-widgets",
      "model_module_version": "~2.1.4",
      "model_name": "ProgressStyleModel",
      "state": {
       "_model_module_version": "~2.1.4",
       "_view_module_version": "~2.1.4"
      }
     },
     "70b83cc5ab974df0a3097a29cec1a921": {
      "model_module": "jupyter-js-widgets",
      "model_module_version": "~2.1.4",
      "model_name": "ProgressModel",
      "state": {
       "_model_module_version": "~2.1.4",
       "_view_module_version": "~2.1.4",
       "bar_style": "success",
       "description": "2nd loop",
       "layout": "IPY_MODEL_5aba5ab0e716492398763e56ecbfd397",
       "style": "IPY_MODEL_a571942b8c0a4ae6be38c37b71ac982c",
       "value": 100
      }
     },
     "715f13fb83f944ed8cacad4494e634a9": {
      "model_module": "jupyter-js-widgets",
      "model_module_version": "~2.1.4",
      "model_name": "LayoutModel",
      "state": {
       "_model_module_version": "~2.1.4",
       "_view_module_version": "~2.1.4"
      }
     },
     "71990aff88bc4a1698dd1fee17f2d080": {
      "model_module": "jupyter-js-widgets",
      "model_module_version": "~2.1.4",
      "model_name": "HTMLModel",
      "state": {
       "_model_module_version": "~2.1.4",
       "_view_module_version": "~2.1.4",
       "layout": "IPY_MODEL_5b81c4503d444437be8e65c979f667ef",
       "value": " 67% 108/161 [51:43&lt;29:17, 33.16s/it]"
      }
     },
     "71d515ed977d49bb9807f5a2fe5cbc3b": {
      "model_module": "jupyter-js-widgets",
      "model_module_version": "~2.1.4",
      "model_name": "HTMLModel",
      "state": {
       "_model_module_version": "~2.1.4",
       "_view_module_version": "~2.1.4",
       "layout": "IPY_MODEL_aa4585c4211d443b9880ef505d8ac9f0",
       "value": " 68% 109/161 [43:47&lt;19:03, 21.98s/it]"
      }
     },
     "71f2a15df53b4226840d6a93329414ef": {
      "model_module": "jupyter-js-widgets",
      "model_module_version": "~2.1.4",
      "model_name": "HTMLModel",
      "state": {
       "_model_module_version": "~2.1.4",
       "_view_module_version": "~2.1.4",
       "layout": "IPY_MODEL_c11890e6027a46f59a65dbd66fe27e35",
       "value": "0it [00:00, ?it/s]"
      }
     },
     "72126437922743d1bf8722329ffc2f8c": {
      "model_module": "jupyter-js-widgets",
      "model_module_version": "~2.1.4",
      "model_name": "LayoutModel",
      "state": {
       "_model_module_version": "~2.1.4",
       "_view_module_version": "~2.1.4"
      }
     },
     "72c13295c8294420b1aac3dad0785dd9": {
      "model_module": "jupyter-js-widgets",
      "model_module_version": "~2.1.4",
      "model_name": "ProgressModel",
      "state": {
       "_model_module_version": "~2.1.4",
       "_view_module_version": "~2.1.4",
       "layout": "IPY_MODEL_602d9618434749bea2bcd0d1b2c34659",
       "max": 2,
       "style": "IPY_MODEL_bd90ec7a87364ddb9e16579707c00817"
      }
     },
     "73513a58866145f8afadd394798c50a3": {
      "model_module": "jupyter-js-widgets",
      "model_module_version": "~2.1.4",
      "model_name": "LayoutModel",
      "state": {
       "_model_module_version": "~2.1.4",
       "_view_module_version": "~2.1.4"
      }
     },
     "735635df86f940f98605a8e6d8e2425f": {
      "model_module": "jupyter-js-widgets",
      "model_module_version": "~2.1.4",
      "model_name": "LayoutModel",
      "state": {
       "_model_module_version": "~2.1.4",
       "_view_module_version": "~2.1.4"
      }
     },
     "7526964aecb64bd9b135de256e46610b": {
      "model_module": "jupyter-js-widgets",
      "model_module_version": "~2.1.4",
      "model_name": "HBoxModel",
      "state": {
       "_model_module_version": "~2.1.4",
       "_view_module_version": "~2.1.4",
       "children": [
        "IPY_MODEL_eb84e72cc88b4487810b9b2a93397be7",
        "IPY_MODEL_03489e3b6d63492cb1fd4ab6cee854cc"
       ],
       "layout": "IPY_MODEL_0e957a49f41b447790877e54340e15b1"
      }
     },
     "75d7889a52b549d2baefcc03e48cb475": {
      "model_module": "jupyter-js-widgets",
      "model_module_version": "~2.1.4",
      "model_name": "ProgressStyleModel",
      "state": {
       "_model_module_version": "~2.1.4",
       "_view_module_version": "~2.1.4"
      }
     },
     "79486bb0ea304c8a899041320d1f0dc9": {
      "model_module": "jupyter-js-widgets",
      "model_module_version": "~2.1.4",
      "model_name": "LayoutModel",
      "state": {
       "_model_module_version": "~2.1.4",
       "_view_module_version": "~2.1.4"
      }
     },
     "795f8328c80e425bb72d9df575611d24": {
      "model_module": "jupyter-js-widgets",
      "model_module_version": "~2.1.4",
      "model_name": "HBoxModel",
      "state": {
       "_model_module_version": "~2.1.4",
       "_view_module_version": "~2.1.4",
       "children": [
        "IPY_MODEL_70b83cc5ab974df0a3097a29cec1a921",
        "IPY_MODEL_58479806f8d04b0887ae9f538e7687e3"
       ],
       "layout": "IPY_MODEL_a0dcd19d89eb4a9c8e28d1ce3e8785e1"
      }
     },
     "796a6e4dca4047bf851ac2cfad541f52": {
      "model_module": "jupyter-js-widgets",
      "model_module_version": "~2.1.4",
      "model_name": "ProgressStyleModel",
      "state": {
       "_model_module_version": "~2.1.4",
       "_view_module_version": "~2.1.4"
      }
     },
     "79df327bac1841daa6ec0c1958c8d836": {
      "model_module": "jupyter-js-widgets",
      "model_module_version": "~2.1.4",
      "model_name": "LayoutModel",
      "state": {
       "_model_module_version": "~2.1.4",
       "_view_module_version": "~2.1.4"
      }
     },
     "7a087d5dbd7048ec9c09ce4903293fc2": {
      "model_module": "jupyter-js-widgets",
      "model_module_version": "~2.1.4",
      "model_name": "LayoutModel",
      "state": {
       "_model_module_version": "~2.1.4",
       "_view_module_version": "~2.1.4"
      }
     },
     "7a1a5e9c9f1b4ff9918bfaa7181e0697": {
      "model_module": "jupyter-js-widgets",
      "model_module_version": "~2.1.4",
      "model_name": "ProgressModel",
      "state": {
       "_model_module_version": "~2.1.4",
       "_view_module_version": "~2.1.4",
       "bar_style": "danger",
       "description": "1st loop",
       "layout": "IPY_MODEL_e1a8bd727274400ba96c6973d8441136",
       "max": 10,
       "style": "IPY_MODEL_aebd49051c724783819231f1c5691aab"
      }
     },
     "7a465adaf956423f84b1d20c67b252c5": {
      "model_module": "jupyter-js-widgets",
      "model_module_version": "~2.1.4",
      "model_name": "LayoutModel",
      "state": {
       "_model_module_version": "~2.1.4",
       "_view_module_version": "~2.1.4"
      }
     },
     "7ab148f11e3a46e6b542cf429568a1c5": {
      "model_module": "jupyter-js-widgets",
      "model_module_version": "~2.1.4",
      "model_name": "HBoxModel",
      "state": {
       "_model_module_version": "~2.1.4",
       "_view_module_version": "~2.1.4",
       "children": [
        "IPY_MODEL_8c5b0fa0e60949d0a8060e396f49931d",
        "IPY_MODEL_2de026fafd5b43b78ac9c6e97d0a67a3"
       ],
       "layout": "IPY_MODEL_baa7de604fd84f75844de638e9fe9fff"
      }
     },
     "7b3fa7c789724a66bd3e6e04847c22b6": {
      "model_module": "jupyter-js-widgets",
      "model_module_version": "~2.1.4",
      "model_name": "HBoxModel",
      "state": {
       "_model_module_version": "~2.1.4",
       "_view_module_version": "~2.1.4",
       "children": [
        "IPY_MODEL_f9a2efe002c54b8096f18b96a5ead608",
        "IPY_MODEL_b9f31069ec66484393156b821ab76b61"
       ],
       "layout": "IPY_MODEL_f52b8c8c34154c8dbadb871b86ee1bc4"
      }
     },
     "7c0655b972834adaae2425717f2486fa": {
      "model_module": "jupyter-js-widgets",
      "model_module_version": "~2.1.4",
      "model_name": "ProgressModel",
      "state": {
       "_model_module_version": "~2.1.4",
       "_view_module_version": "~2.1.4",
       "layout": "IPY_MODEL_8c98c417e92b4cb48a83e840bced7c3a",
       "max": 20,
       "style": "IPY_MODEL_90298b306c6a41beb87dafd804393b7b"
      }
     },
     "7c133e32c38e40899ab5e0b556bff42b": {
      "model_module": "jupyter-js-widgets",
      "model_module_version": "~2.1.4",
      "model_name": "ProgressStyleModel",
      "state": {
       "_model_module_version": "~2.1.4",
       "_view_module_version": "~2.1.4"
      }
     },
     "7d6ce39dc11c48929da46a2d279eff5a": {
      "model_module": "jupyter-js-widgets",
      "model_module_version": "~2.1.4",
      "model_name": "LayoutModel",
      "state": {
       "_model_module_version": "~2.1.4",
       "_view_module_version": "~2.1.4"
      }
     },
     "7d949968ab1846ec9f494f16eb489f25": {
      "model_module": "jupyter-js-widgets",
      "model_module_version": "~2.1.4",
      "model_name": "ProgressModel",
      "state": {
       "_model_module_version": "~2.1.4",
       "_view_module_version": "~2.1.4",
       "bar_style": "danger",
       "layout": "IPY_MODEL_10a72e2134f146ccb814d72840141de1",
       "max": 56,
       "style": "IPY_MODEL_1473a308320d4fbeae87c3f119b373ab",
       "value": 1
      }
     },
     "7e285eb4805649a18d55aa5b37958d57": {
      "model_module": "jupyter-js-widgets",
      "model_module_version": "~2.1.4",
      "model_name": "ProgressStyleModel",
      "state": {
       "_model_module_version": "~2.1.4",
       "_view_module_version": "~2.1.4"
      }
     },
     "7eea1263f1c849319d56087fcb22533b": {
      "model_module": "jupyter-js-widgets",
      "model_module_version": "~2.1.4",
      "model_name": "LayoutModel",
      "state": {
       "_model_module_version": "~2.1.4",
       "_view_module_version": "~2.1.4"
      }
     },
     "7f1e0430ffec4ae89b1daab42d6949fb": {
      "model_module": "jupyter-js-widgets",
      "model_module_version": "~2.1.4",
      "model_name": "LayoutModel",
      "state": {
       "_model_module_version": "~2.1.4",
       "_view_module_version": "~2.1.4"
      }
     },
     "8015ca87d8af4761890ed5aa5d8014a3": {
      "model_module": "jupyter-js-widgets",
      "model_module_version": "~2.1.4",
      "model_name": "HTMLModel",
      "state": {
       "_model_module_version": "~2.1.4",
       "_view_module_version": "~2.1.4",
       "layout": "IPY_MODEL_dcc098a033c54996b5435794128a5c14",
       "value": " 65% 105/161 [41:20&lt;1:51:04, 119.02s/it]"
      }
     },
     "807d506d8ec8486b9182fd2b923a74fd": {
      "model_module": "jupyter-js-widgets",
      "model_module_version": "~2.1.4",
      "model_name": "LayoutModel",
      "state": {
       "_model_module_version": "~2.1.4",
       "_view_module_version": "~2.1.4"
      }
     },
     "80b6bb7af684417a841e77fa7acbdcca": {
      "model_module": "jupyter-js-widgets",
      "model_module_version": "~2.1.4",
      "model_name": "ProgressStyleModel",
      "state": {
       "_model_module_version": "~2.1.4",
       "_view_module_version": "~2.1.4"
      }
     },
     "81375218a4f84198a3b188a569d729e0": {
      "model_module": "jupyter-js-widgets",
      "model_module_version": "~2.1.4",
      "model_name": "LayoutModel",
      "state": {
       "_model_module_version": "~2.1.4",
       "_view_module_version": "~2.1.4"
      }
     },
     "815f3eded47444759f96891e3a7e9fdb": {
      "model_module": "jupyter-js-widgets",
      "model_module_version": "~2.1.4",
      "model_name": "ProgressStyleModel",
      "state": {
       "_model_module_version": "~2.1.4",
       "_view_module_version": "~2.1.4"
      }
     },
     "81b7dab4a9dd4198b8d2411d4735903f": {
      "model_module": "jupyter-js-widgets",
      "model_module_version": "~2.1.4",
      "model_name": "ProgressModel",
      "state": {
       "_model_module_version": "~2.1.4",
       "_view_module_version": "~2.1.4",
       "bar_style": "success",
       "layout": "IPY_MODEL_66132784a9354942a01057b2518e06d5",
       "max": 2,
       "style": "IPY_MODEL_d03f1130293a42408336e80cf400ed69",
       "value": 2
      }
     },
     "8270159c6b87424bb5e166131ca911ca": {
      "model_module": "jupyter-js-widgets",
      "model_module_version": "~2.1.4",
      "model_name": "LayoutModel",
      "state": {
       "_model_module_version": "~2.1.4",
       "_view_module_version": "~2.1.4"
      }
     },
     "82c586e7a4ee44c6bed0ec6495a0bd02": {
      "model_module": "jupyter-js-widgets",
      "model_module_version": "~2.1.4",
      "model_name": "LayoutModel",
      "state": {
       "_model_module_version": "~2.1.4",
       "_view_module_version": "~2.1.4"
      }
     },
     "82ff57c5cc4241dc98700c8c1e658500": {
      "model_module": "jupyter-js-widgets",
      "model_module_version": "~2.1.4",
      "model_name": "HTMLModel",
      "state": {
       "_model_module_version": "~2.1.4",
       "_view_module_version": "~2.1.4",
       "layout": "IPY_MODEL_a90928538e1f4d4d98783de12433f164",
       "value": " 55% 11/20 [00:16&lt;00:30,  3.37s/it]"
      }
     },
     "830773ebef5d40389449b5c1441e59af": {
      "model_module": "jupyter-js-widgets",
      "model_module_version": "~2.1.4",
      "model_name": "LayoutModel",
      "state": {
       "_model_module_version": "~2.1.4",
       "_view_module_version": "~2.1.4"
      }
     },
     "83cd1260666a484481b90d4a76753411": {
      "model_module": "jupyter-js-widgets",
      "model_module_version": "~2.1.4",
      "model_name": "HTMLModel",
      "state": {
       "_model_module_version": "~2.1.4",
       "_view_module_version": "~2.1.4",
       "layout": "IPY_MODEL_f795a87163b54ed79e289f23f3dce8c9",
       "value": "100% 161/161 [01:19&lt;00:00,  2.04it/s]"
      }
     },
     "83de187568b54f43ba2ba37e0ab58263": {
      "model_module": "jupyter-js-widgets",
      "model_module_version": "~2.1.4",
      "model_name": "LayoutModel",
      "state": {
       "_model_module_version": "~2.1.4",
       "_view_module_version": "~2.1.4"
      }
     },
     "845b7badeaeb45898466de78a791a1a6": {
      "model_module": "jupyter-js-widgets",
      "model_module_version": "~2.1.4",
      "model_name": "LayoutModel",
      "state": {
       "_model_module_version": "~2.1.4",
       "_view_module_version": "~2.1.4"
      }
     },
     "84da76936a944407ae069e0b5696d73b": {
      "model_module": "jupyter-js-widgets",
      "model_module_version": "~2.1.4",
      "model_name": "LayoutModel",
      "state": {
       "_model_module_version": "~2.1.4",
       "_view_module_version": "~2.1.4"
      }
     },
     "85ca9cffa819419092dbd45966e1d183": {
      "model_module": "jupyter-js-widgets",
      "model_module_version": "~2.1.4",
      "model_name": "LayoutModel",
      "state": {
       "_model_module_version": "~2.1.4",
       "_view_module_version": "~2.1.4"
      }
     },
     "882be01ed7fb4895982bf3688df74a65": {
      "model_module": "jupyter-js-widgets",
      "model_module_version": "~2.1.4",
      "model_name": "LayoutModel",
      "state": {
       "_model_module_version": "~2.1.4",
       "_view_module_version": "~2.1.4"
      }
     },
     "8836a962cabd47b2a9cbdad5711ec3e7": {
      "model_module": "jupyter-js-widgets",
      "model_module_version": "~2.1.4",
      "model_name": "HBoxModel",
      "state": {
       "_model_module_version": "~2.1.4",
       "_view_module_version": "~2.1.4",
       "children": [
        "IPY_MODEL_02339eabe13443519e80bf665baec671",
        "IPY_MODEL_83cd1260666a484481b90d4a76753411"
       ],
       "layout": "IPY_MODEL_830773ebef5d40389449b5c1441e59af"
      }
     },
     "885b320c9f994999b216a0c6d5e6baac": {
      "model_module": "jupyter-js-widgets",
      "model_module_version": "~2.1.4",
      "model_name": "LayoutModel",
      "state": {
       "_model_module_version": "~2.1.4",
       "_view_module_version": "~2.1.4"
      }
     },
     "89bff8d861554090ad28419bb4964202": {
      "model_module": "jupyter-js-widgets",
      "model_module_version": "~2.1.4",
      "model_name": "ProgressStyleModel",
      "state": {
       "_model_module_version": "~2.1.4",
       "_view_module_version": "~2.1.4"
      }
     },
     "8a0ab55ffca640929bf95c4ae9062dd7": {
      "model_module": "jupyter-js-widgets",
      "model_module_version": "~2.1.4",
      "model_name": "LayoutModel",
      "state": {
       "_model_module_version": "~2.1.4",
       "_view_module_version": "~2.1.4"
      }
     },
     "8af441fb58f24dff87b110f527c6dce1": {
      "model_module": "jupyter-js-widgets",
      "model_module_version": "~2.1.4",
      "model_name": "HTMLModel",
      "state": {
       "_model_module_version": "~2.1.4",
       "_view_module_version": "~2.1.4",
       "layout": "IPY_MODEL_1f68a4732b70442abaf72fb924165744",
       "value": "100% 161/161 [02:03&lt;00:00,  1.30it/s]"
      }
     },
     "8bba81a620f445a59fb62b712e38a18e": {
      "model_module": "jupyter-js-widgets",
      "model_module_version": "~2.1.4",
      "model_name": "HTMLModel",
      "state": {
       "_model_module_version": "~2.1.4",
       "_view_module_version": "~2.1.4",
       "layout": "IPY_MODEL_dad93a2d2101414eaed7972e3e275862",
       "value": "  1% 1/161 [00:51&lt;2:17:03, 51.40s/it]"
      }
     },
     "8c5b0fa0e60949d0a8060e396f49931d": {
      "model_module": "jupyter-js-widgets",
      "model_module_version": "~2.1.4",
      "model_name": "ProgressModel",
      "state": {
       "_model_module_version": "~2.1.4",
       "_view_module_version": "~2.1.4",
       "bar_style": "success",
       "layout": "IPY_MODEL_bdfa9d05cacc4cbbbed5a822896be6b6",
       "max": 1,
       "style": "IPY_MODEL_95db317ead094eb2966b5889b0144d43",
       "value": 1
      }
     },
     "8c5ef62b8a394a95beaa66f6884b6dd6": {
      "model_module": "jupyter-js-widgets",
      "model_module_version": "~2.1.4",
      "model_name": "HTMLModel",
      "state": {
       "_model_module_version": "~2.1.4",
       "_view_module_version": "~2.1.4",
       "layout": "IPY_MODEL_5ebe0f2e81c14b83a681ebd3e60ab438",
       "value": "0it [00:00, ?it/s]"
      }
     },
     "8c98c417e92b4cb48a83e840bced7c3a": {
      "model_module": "jupyter-js-widgets",
      "model_module_version": "~2.1.4",
      "model_name": "LayoutModel",
      "state": {
       "_model_module_version": "~2.1.4",
       "_view_module_version": "~2.1.4"
      }
     },
     "8f3e75751f2c4814bd7e44247e7dc256": {
      "model_module": "jupyter-js-widgets",
      "model_module_version": "~2.1.4",
      "model_name": "HBoxModel",
      "state": {
       "_model_module_version": "~2.1.4",
       "_view_module_version": "~2.1.4",
       "children": [
        "IPY_MODEL_6e897874dad24dd68592f3d45b48cb7f",
        "IPY_MODEL_8af441fb58f24dff87b110f527c6dce1"
       ],
       "layout": "IPY_MODEL_6269848580f94ee28525ea56db908d43"
      }
     },
     "8f89ac66d4df490485c96a0f7c09cbc1": {
      "model_module": "jupyter-js-widgets",
      "model_module_version": "~2.1.4",
      "model_name": "ProgressModel",
      "state": {
       "_model_module_version": "~2.1.4",
       "_view_module_version": "~2.1.4",
       "bar_style": "danger",
       "layout": "IPY_MODEL_ba6e71699bde40eb9c81a83e2e36e77b",
       "max": 161,
       "style": "IPY_MODEL_f62db955f9f84be987f8035126fb2c83",
       "value": 3
      }
     },
     "90298b306c6a41beb87dafd804393b7b": {
      "model_module": "jupyter-js-widgets",
      "model_module_version": "~2.1.4",
      "model_name": "ProgressStyleModel",
      "state": {
       "_model_module_version": "~2.1.4",
       "_view_module_version": "~2.1.4"
      }
     },
     "92695b6d36ff411cad8dfe02a10c77f0": {
      "model_module": "jupyter-js-widgets",
      "model_module_version": "~2.1.4",
      "model_name": "LayoutModel",
      "state": {
       "_model_module_version": "~2.1.4",
       "_view_module_version": "~2.1.4"
      }
     },
     "929277e0d51c499fa22ba4063644684b": {
      "model_module": "jupyter-js-widgets",
      "model_module_version": "~2.1.4",
      "model_name": "LayoutModel",
      "state": {
       "_model_module_version": "~2.1.4",
       "_view_module_version": "~2.1.4"
      }
     },
     "92da3f1466b646119b8a34989711c1aa": {
      "model_module": "jupyter-js-widgets",
      "model_module_version": "~2.1.4",
      "model_name": "HBoxModel",
      "state": {
       "_model_module_version": "~2.1.4",
       "_view_module_version": "~2.1.4",
       "children": [
        "IPY_MODEL_7d949968ab1846ec9f494f16eb489f25",
        "IPY_MODEL_e814f79ea5604486848cde688f0c6f5b"
       ],
       "layout": "IPY_MODEL_46de2705bb51421cb588af573a105c24"
      }
     },
     "93a7ad417b664416985c6e44ae189559": {
      "model_module": "jupyter-js-widgets",
      "model_module_version": "~2.1.4",
      "model_name": "LayoutModel",
      "state": {
       "_model_module_version": "~2.1.4",
       "_view_module_version": "~2.1.4"
      }
     },
     "94ecfb39544949da8776e326cf6eb82b": {
      "model_module": "jupyter-js-widgets",
      "model_module_version": "~2.1.4",
      "model_name": "LayoutModel",
      "state": {
       "_model_module_version": "~2.1.4",
       "_view_module_version": "~2.1.4"
      }
     },
     "95b721171bb9402e93d841b62caf2f7b": {
      "model_module": "jupyter-js-widgets",
      "model_module_version": "~2.1.4",
      "model_name": "HBoxModel",
      "state": {
       "_model_module_version": "~2.1.4",
       "_view_module_version": "~2.1.4",
       "children": [
        "IPY_MODEL_e770baa57bf34a53be908747d4b0204c",
        "IPY_MODEL_644ba85005ad41af860272daf842edd1"
       ],
       "layout": "IPY_MODEL_5ac58debe5f24194b710de5d3fe9221b"
      }
     },
     "95db317ead094eb2966b5889b0144d43": {
      "model_module": "jupyter-js-widgets",
      "model_module_version": "~2.1.4",
      "model_name": "ProgressStyleModel",
      "state": {
       "_model_module_version": "~2.1.4",
       "_view_module_version": "~2.1.4"
      }
     },
     "9763d301743b4f4c816df8e0ee106762": {
      "model_module": "jupyter-js-widgets",
      "model_module_version": "~2.1.4",
      "model_name": "ProgressModel",
      "state": {
       "_model_module_version": "~2.1.4",
       "_view_module_version": "~2.1.4",
       "bar_style": "danger",
       "layout": "IPY_MODEL_79df327bac1841daa6ec0c1958c8d836",
       "max": 161,
       "style": "IPY_MODEL_0bac1dd8bea74362b4f159b0ce53ec00",
       "value": 1
      }
     },
     "98dff502465247ab9690bd0da2ed12cb": {
      "model_module": "jupyter-js-widgets",
      "model_module_version": "~2.1.4",
      "model_name": "ProgressModel",
      "state": {
       "_model_module_version": "~2.1.4",
       "_view_module_version": "~2.1.4",
       "bar_style": "danger",
       "layout": "IPY_MODEL_581bf4485d384185a1332cf3fd9575da",
       "max": 161,
       "style": "IPY_MODEL_d2866f0dcc3b41068c8487f430463a6f",
       "value": 111
      }
     },
     "9a0bafc7b70c4bf29d5f75410b3413ca": {
      "model_module": "jupyter-js-widgets",
      "model_module_version": "~2.1.4",
      "model_name": "LayoutModel",
      "state": {
       "_model_module_version": "~2.1.4",
       "_view_module_version": "~2.1.4"
      }
     },
     "9a16861284064ebcbb258bec01785a91": {
      "model_module": "jupyter-js-widgets",
      "model_module_version": "~2.1.4",
      "model_name": "LayoutModel",
      "state": {
       "_model_module_version": "~2.1.4",
       "_view_module_version": "~2.1.4"
      }
     },
     "9c5a458733544e51a01331872ec4a4a6": {
      "model_module": "jupyter-js-widgets",
      "model_module_version": "~2.1.4",
      "model_name": "ProgressStyleModel",
      "state": {
       "_model_module_version": "~2.1.4",
       "_view_module_version": "~2.1.4"
      }
     },
     "9f3b8f623eb642c0bf8efea41f2d0d73": {
      "model_module": "jupyter-js-widgets",
      "model_module_version": "~2.1.4",
      "model_name": "LayoutModel",
      "state": {
       "_model_module_version": "~2.1.4",
       "_view_module_version": "~2.1.4"
      }
     },
     "9ff8a36efe924ae787488162b0b57f89": {
      "model_module": "jupyter-js-widgets",
      "model_module_version": "~2.1.4",
      "model_name": "ProgressModel",
      "state": {
       "_model_module_version": "~2.1.4",
       "_view_module_version": "~2.1.4",
       "bar_style": "danger",
       "layout": "IPY_MODEL_83de187568b54f43ba2ba37e0ab58263",
       "max": 161,
       "style": "IPY_MODEL_10ac932a83b24477adcd66a467c32646",
       "value": 13
      }
     },
     "a078f9d66959491eaa1a12c5cef384b0": {
      "model_module": "jupyter-js-widgets",
      "model_module_version": "~2.1.4",
      "model_name": "LayoutModel",
      "state": {
       "_model_module_version": "~2.1.4",
       "_view_module_version": "~2.1.4"
      }
     },
     "a0dcd19d89eb4a9c8e28d1ce3e8785e1": {
      "model_module": "jupyter-js-widgets",
      "model_module_version": "~2.1.4",
      "model_name": "LayoutModel",
      "state": {
       "_model_module_version": "~2.1.4",
       "_view_module_version": "~2.1.4"
      }
     },
     "a11aeca88eea41d797a396988eb0675b": {
      "model_module": "jupyter-js-widgets",
      "model_module_version": "~2.1.4",
      "model_name": "HBoxModel",
      "state": {
       "_model_module_version": "~2.1.4",
       "_view_module_version": "~2.1.4",
       "children": [
        "IPY_MODEL_3126402e77034dc78c41457d457b3ee8",
        "IPY_MODEL_1d7bb1402e7c4ff1a9d5412b97cd900e"
       ],
       "layout": "IPY_MODEL_d4964b6ebe9b4b7f9224075ef3cafc2a"
      }
     },
     "a1b49c6275d64467b0532192aecdc6f5": {
      "model_module": "jupyter-js-widgets",
      "model_module_version": "~2.1.4",
      "model_name": "LayoutModel",
      "state": {
       "_model_module_version": "~2.1.4",
       "_view_module_version": "~2.1.4"
      }
     },
     "a27acfa73fa3499fb9a5b11c0f3127e5": {
      "model_module": "jupyter-js-widgets",
      "model_module_version": "~2.1.4",
      "model_name": "ProgressStyleModel",
      "state": {
       "_model_module_version": "~2.1.4",
       "_view_module_version": "~2.1.4"
      }
     },
     "a345257c208a43c2947ea6a5739789a9": {
      "model_module": "jupyter-js-widgets",
      "model_module_version": "~2.1.4",
      "model_name": "LayoutModel",
      "state": {
       "_model_module_version": "~2.1.4",
       "_view_module_version": "~2.1.4"
      }
     },
     "a356e824720f4ed3bb5b37def07ed1b2": {
      "model_module": "jupyter-js-widgets",
      "model_module_version": "~2.1.4",
      "model_name": "LayoutModel",
      "state": {
       "_model_module_version": "~2.1.4",
       "_view_module_version": "~2.1.4"
      }
     },
     "a3c39ca926f543c9903cf56cfdec267c": {
      "model_module": "jupyter-js-widgets",
      "model_module_version": "~2.1.4",
      "model_name": "LayoutModel",
      "state": {
       "_model_module_version": "~2.1.4",
       "_view_module_version": "~2.1.4"
      }
     },
     "a556e64c5f9a466f81c972e572624dbd": {
      "model_module": "jupyter-js-widgets",
      "model_module_version": "~2.1.4",
      "model_name": "ProgressStyleModel",
      "state": {
       "_model_module_version": "~2.1.4",
       "_view_module_version": "~2.1.4"
      }
     },
     "a571942b8c0a4ae6be38c37b71ac982c": {
      "model_module": "jupyter-js-widgets",
      "model_module_version": "~2.1.4",
      "model_name": "ProgressStyleModel",
      "state": {
       "_model_module_version": "~2.1.4",
       "_view_module_version": "~2.1.4"
      }
     },
     "a57b4cad9170441b83269cba22da53d6": {
      "model_module": "jupyter-js-widgets",
      "model_module_version": "~2.1.4",
      "model_name": "ProgressStyleModel",
      "state": {
       "_model_module_version": "~2.1.4",
       "_view_module_version": "~2.1.4"
      }
     },
     "a63dd7f729ea44fba43fd2221f254d7a": {
      "model_module": "jupyter-js-widgets",
      "model_module_version": "~2.1.4",
      "model_name": "HTMLModel",
      "state": {
       "_model_module_version": "~2.1.4",
       "_view_module_version": "~2.1.4",
       "layout": "IPY_MODEL_10f2150467324daa9227bd8510fa11ac",
       "value": "100% 56/56 [1:03:17&lt;00:00, 131.37s/it]"
      }
     },
     "a8434027d2ef4216958f5426faa418c3": {
      "model_module": "jupyter-js-widgets",
      "model_module_version": "~2.1.4",
      "model_name": "LayoutModel",
      "state": {
       "_model_module_version": "~2.1.4",
       "_view_module_version": "~2.1.4"
      }
     },
     "a90928538e1f4d4d98783de12433f164": {
      "model_module": "jupyter-js-widgets",
      "model_module_version": "~2.1.4",
      "model_name": "LayoutModel",
      "state": {
       "_model_module_version": "~2.1.4",
       "_view_module_version": "~2.1.4"
      }
     },
     "aa4585c4211d443b9880ef505d8ac9f0": {
      "model_module": "jupyter-js-widgets",
      "model_module_version": "~2.1.4",
      "model_name": "LayoutModel",
      "state": {
       "_model_module_version": "~2.1.4",
       "_view_module_version": "~2.1.4"
      }
     },
     "aaeb7116aaf94f6f87931059d803cdf7": {
      "model_module": "jupyter-js-widgets",
      "model_module_version": "~2.1.4",
      "model_name": "HTMLModel",
      "state": {
       "_model_module_version": "~2.1.4",
       "_view_module_version": "~2.1.4",
       "layout": "IPY_MODEL_7f1e0430ffec4ae89b1daab42d6949fb",
       "value": "100% 161/161 [01:11&lt;00:00,  2.25it/s]"
      }
     },
     "aba91847ec3948a38ecdaf82e156ba0d": {
      "model_module": "jupyter-js-widgets",
      "model_module_version": "~2.1.4",
      "model_name": "HBoxModel",
      "state": {
       "_model_module_version": "~2.1.4",
       "_view_module_version": "~2.1.4",
       "children": [
        "IPY_MODEL_102cb848cb524c379d7bfdd915e3cd2f",
        "IPY_MODEL_71f2a15df53b4226840d6a93329414ef"
       ],
       "layout": "IPY_MODEL_69227cf702a74090b667cfa16011976a"
      }
     },
     "ac1fa6cf51b94a5e8ca9dc8e2f19fb87": {
      "model_module": "jupyter-js-widgets",
      "model_module_version": "~2.1.4",
      "model_name": "HBoxModel",
      "state": {
       "_model_module_version": "~2.1.4",
       "_view_module_version": "~2.1.4",
       "children": [
        "IPY_MODEL_d046e900fde142d6962c4830e72e76c4",
        "IPY_MODEL_82ff57c5cc4241dc98700c8c1e658500"
       ],
       "layout": "IPY_MODEL_0c0d49523d52435e9992b3a813d8be87"
      }
     },
     "acc6e5b0f49d4234b5efd9ff9c228188": {
      "model_module": "jupyter-js-widgets",
      "model_module_version": "~2.1.4",
      "model_name": "ProgressStyleModel",
      "state": {
       "_model_module_version": "~2.1.4",
       "_view_module_version": "~2.1.4"
      }
     },
     "adbf47a0e78e4f409bed27f081fcdcdd": {
      "model_module": "jupyter-js-widgets",
      "model_module_version": "~2.1.4",
      "model_name": "HTMLModel",
      "state": {
       "_model_module_version": "~2.1.4",
       "_view_module_version": "~2.1.4",
       "layout": "IPY_MODEL_a8434027d2ef4216958f5426faa418c3",
       "value": "  0% 0/20 [00:00&lt;?, ?it/s]"
      }
     },
     "aebd49051c724783819231f1c5691aab": {
      "model_module": "jupyter-js-widgets",
      "model_module_version": "~2.1.4",
      "model_name": "ProgressStyleModel",
      "state": {
       "_model_module_version": "~2.1.4",
       "_view_module_version": "~2.1.4"
      }
     },
     "af826fe5e55243d1ab09b0db8da86559": {
      "model_module": "jupyter-js-widgets",
      "model_module_version": "~2.1.4",
      "model_name": "HBoxModel",
      "state": {
       "_model_module_version": "~2.1.4",
       "_view_module_version": "~2.1.4",
       "children": [
        "IPY_MODEL_7c0655b972834adaae2425717f2486fa",
        "IPY_MODEL_adbf47a0e78e4f409bed27f081fcdcdd"
       ],
       "layout": "IPY_MODEL_1eeccaa189294845957ae6894a8f9feb"
      }
     },
     "b12d0289259e4ab58aa7201088e78b1b": {
      "model_module": "jupyter-js-widgets",
      "model_module_version": "~2.1.4",
      "model_name": "ProgressModel",
      "state": {
       "_model_module_version": "~2.1.4",
       "_view_module_version": "~2.1.4",
       "bar_style": "success",
       "description": "2nd loop",
       "layout": "IPY_MODEL_7a465adaf956423f84b1d20c67b252c5",
       "style": "IPY_MODEL_5861d0115bfa4af7817c1262bb116c3a",
       "value": 100
      }
     },
     "b176d17452494e23970ce3554dfb8bb2": {
      "model_module": "jupyter-js-widgets",
      "model_module_version": "~2.1.4",
      "model_name": "HBoxModel",
      "state": {
       "_model_module_version": "~2.1.4",
       "_view_module_version": "~2.1.4",
       "children": [
        "IPY_MODEL_98dff502465247ab9690bd0da2ed12cb",
        "IPY_MODEL_f44af4d11e4b419fbcdaf2dd273ff0e1"
       ],
       "layout": "IPY_MODEL_a1b49c6275d64467b0532192aecdc6f5"
      }
     },
     "b1a33c8858284f06a9600eccaa1e212d": {
      "model_module": "jupyter-js-widgets",
      "model_module_version": "~2.1.4",
      "model_name": "ProgressModel",
      "state": {
       "_model_module_version": "~2.1.4",
       "_view_module_version": "~2.1.4",
       "bar_style": "success",
       "description": "2nd loop",
       "layout": "IPY_MODEL_2d511383dd6a49af8def6f169701f3af",
       "style": "IPY_MODEL_05e721d215bd47e5bd9d960b0195712f",
       "value": 100
      }
     },
     "b4bafd4528bf4f1490893e761629e985": {
      "model_module": "jupyter-js-widgets",
      "model_module_version": "~2.1.4",
      "model_name": "ProgressStyleModel",
      "state": {
       "_model_module_version": "~2.1.4",
       "_view_module_version": "~2.1.4"
      }
     },
     "b54645bfffda4ff68ac7ecf5f0e5c60d": {
      "model_module": "jupyter-js-widgets",
      "model_module_version": "~2.1.4",
      "model_name": "HTMLModel",
      "state": {
       "_model_module_version": "~2.1.4",
       "_view_module_version": "~2.1.4",
       "layout": "IPY_MODEL_644443362daa4ae981c4748659ca5c39",
       "value": "  0% 0/10 [00:00&lt;?, ?it/s]"
      }
     },
     "b5d32eefbf2b44289aa963e62f02607d": {
      "model_module": "jupyter-js-widgets",
      "model_module_version": "~2.1.4",
      "model_name": "LayoutModel",
      "state": {
       "_model_module_version": "~2.1.4",
       "_view_module_version": "~2.1.4"
      }
     },
     "b75a2d7efe3048c6903571327c295b62": {
      "model_module": "jupyter-js-widgets",
      "model_module_version": "~2.1.4",
      "model_name": "LayoutModel",
      "state": {
       "_model_module_version": "~2.1.4",
       "_view_module_version": "~2.1.4"
      }
     },
     "b7aeae8ec7034057bd09e0e095804721": {
      "model_module": "jupyter-js-widgets",
      "model_module_version": "~2.1.4",
      "model_name": "LayoutModel",
      "state": {
       "_model_module_version": "~2.1.4",
       "_view_module_version": "~2.1.4"
      }
     },
     "b9f31069ec66484393156b821ab76b61": {
      "model_module": "jupyter-js-widgets",
      "model_module_version": "~2.1.4",
      "model_name": "HTMLModel",
      "state": {
       "_model_module_version": "~2.1.4",
       "_view_module_version": "~2.1.4",
       "layout": "IPY_MODEL_2b6d7a5ce62d4ee4a2c28a41f33c38c7",
       "value": "100% 100/100 [00:01&lt;00:00, 94.47it/s]"
      }
     },
     "ba6e71699bde40eb9c81a83e2e36e77b": {
      "model_module": "jupyter-js-widgets",
      "model_module_version": "~2.1.4",
      "model_name": "LayoutModel",
      "state": {
       "_model_module_version": "~2.1.4",
       "_view_module_version": "~2.1.4"
      }
     },
     "baa7de604fd84f75844de638e9fe9fff": {
      "model_module": "jupyter-js-widgets",
      "model_module_version": "~2.1.4",
      "model_name": "LayoutModel",
      "state": {
       "_model_module_version": "~2.1.4",
       "_view_module_version": "~2.1.4"
      }
     },
     "bb3174dcec22478b9996772ff80d3bad": {
      "model_module": "jupyter-js-widgets",
      "model_module_version": "~2.1.4",
      "model_name": "ProgressStyleModel",
      "state": {
       "_model_module_version": "~2.1.4",
       "_view_module_version": "~2.1.4"
      }
     },
     "bcb025c08a8248fca42c9645ba0042c6": {
      "model_module": "jupyter-js-widgets",
      "model_module_version": "~2.1.4",
      "model_name": "ProgressStyleModel",
      "state": {
       "_model_module_version": "~2.1.4",
       "_view_module_version": "~2.1.4"
      }
     },
     "bd90ec7a87364ddb9e16579707c00817": {
      "model_module": "jupyter-js-widgets",
      "model_module_version": "~2.1.4",
      "model_name": "ProgressStyleModel",
      "state": {
       "_model_module_version": "~2.1.4",
       "_view_module_version": "~2.1.4"
      }
     },
     "bdfa9d05cacc4cbbbed5a822896be6b6": {
      "model_module": "jupyter-js-widgets",
      "model_module_version": "~2.1.4",
      "model_name": "LayoutModel",
      "state": {
       "_model_module_version": "~2.1.4",
       "_view_module_version": "~2.1.4"
      }
     },
     "c06bde5eab624e2c8344bea9bf735129": {
      "model_module": "jupyter-js-widgets",
      "model_module_version": "~2.1.4",
      "model_name": "HBoxModel",
      "state": {
       "_model_module_version": "~2.1.4",
       "_view_module_version": "~2.1.4",
       "children": [
        "IPY_MODEL_5e618860fd794f878fcdde8832a66783",
        "IPY_MODEL_f9da69ae1e954079a680c3b4c5efbcbf"
       ],
       "layout": "IPY_MODEL_03effa88246c4d62a5726ee6b23a9985"
      }
     },
     "c11890e6027a46f59a65dbd66fe27e35": {
      "model_module": "jupyter-js-widgets",
      "model_module_version": "~2.1.4",
      "model_name": "LayoutModel",
      "state": {
       "_model_module_version": "~2.1.4",
       "_view_module_version": "~2.1.4"
      }
     },
     "c179671e123f4f95b3bb3f6610904644": {
      "model_module": "jupyter-js-widgets",
      "model_module_version": "~2.1.4",
      "model_name": "LayoutModel",
      "state": {
       "_model_module_version": "~2.1.4",
       "_view_module_version": "~2.1.4"
      }
     },
     "c2cce128cebb4de99f34133341b367bb": {
      "model_module": "jupyter-js-widgets",
      "model_module_version": "~2.1.4",
      "model_name": "HBoxModel",
      "state": {
       "_model_module_version": "~2.1.4",
       "_view_module_version": "~2.1.4",
       "children": [
        "IPY_MODEL_0624ab48d5da4a4187722579a587f338",
        "IPY_MODEL_ddab8069a5d04f939e8cc5b349bd857a"
       ],
       "layout": "IPY_MODEL_9a0bafc7b70c4bf29d5f75410b3413ca"
      }
     },
     "c2dc34d57d3b46e38d414b8529db7e8f": {
      "model_module": "jupyter-js-widgets",
      "model_module_version": "~2.1.4",
      "model_name": "HTMLModel",
      "state": {
       "_model_module_version": "~2.1.4",
       "_view_module_version": "~2.1.4",
       "layout": "IPY_MODEL_e7c462127f3b4749ba9de17338fcfded",
       "value": "100% 100/100 [00:01&lt;00:00, 94.48it/s]"
      }
     },
     "c36e6cc0579145a1944d43cba9a10ce2": {
      "model_module": "jupyter-js-widgets",
      "model_module_version": "~2.1.4",
      "model_name": "HBoxModel",
      "state": {
       "_model_module_version": "~2.1.4",
       "_view_module_version": "~2.1.4",
       "children": [
        "IPY_MODEL_3510c980fe40488b8db2ff4f3afa4a26",
        "IPY_MODEL_8015ca87d8af4761890ed5aa5d8014a3"
       ],
       "layout": "IPY_MODEL_715f13fb83f944ed8cacad4494e634a9"
      }
     },
     "c5fc2b2c3afc4909ae83bfc2ae221319": {
      "model_module": "jupyter-js-widgets",
      "model_module_version": "~2.1.4",
      "model_name": "ProgressStyleModel",
      "state": {
       "_model_module_version": "~2.1.4",
       "_view_module_version": "~2.1.4"
      }
     },
     "c9f2655d362a4c7b8b62931bbee7ba46": {
      "model_module": "jupyter-js-widgets",
      "model_module_version": "~2.1.4",
      "model_name": "ProgressStyleModel",
      "state": {
       "_model_module_version": "~2.1.4",
       "_view_module_version": "~2.1.4"
      }
     },
     "cb268e5793b04cb0a2f94148cd9e7641": {
      "model_module": "jupyter-js-widgets",
      "model_module_version": "~2.1.4",
      "model_name": "HTMLModel",
      "state": {
       "_model_module_version": "~2.1.4",
       "_view_module_version": "~2.1.4",
       "layout": "IPY_MODEL_300e9e1c5fa948d89d1c1ad689e54585",
       "value": "20it [01:04,  3.24s/it]"
      }
     },
     "ce800f1f3062435094df39902e998690": {
      "model_module": "jupyter-js-widgets",
      "model_module_version": "~2.1.4",
      "model_name": "ProgressModel",
      "state": {
       "_model_module_version": "~2.1.4",
       "_view_module_version": "~2.1.4",
       "layout": "IPY_MODEL_51cc8d317d02412aaca8f18326238b8b",
       "max": 20,
       "style": "IPY_MODEL_c9f2655d362a4c7b8b62931bbee7ba46"
      }
     },
     "cfb593b959a948699cad68339953663b": {
      "model_module": "jupyter-js-widgets",
      "model_module_version": "~2.1.4",
      "model_name": "HTMLModel",
      "state": {
       "_model_module_version": "~2.1.4",
       "_view_module_version": "~2.1.4",
       "layout": "IPY_MODEL_6c6242e369984366898fe59f96b9b2a9",
       "value": "100% 161/161 [01:41&lt;00:00,  1.59it/s]"
      }
     },
     "d03f1130293a42408336e80cf400ed69": {
      "model_module": "jupyter-js-widgets",
      "model_module_version": "~2.1.4",
      "model_name": "ProgressStyleModel",
      "state": {
       "_model_module_version": "~2.1.4",
       "_view_module_version": "~2.1.4"
      }
     },
     "d046e900fde142d6962c4830e72e76c4": {
      "model_module": "jupyter-js-widgets",
      "model_module_version": "~2.1.4",
      "model_name": "ProgressModel",
      "state": {
       "_model_module_version": "~2.1.4",
       "_view_module_version": "~2.1.4",
       "bar_style": "danger",
       "layout": "IPY_MODEL_dda9e0997a034d9e91c6659c9cb7fe9b",
       "max": 20,
       "style": "IPY_MODEL_7c133e32c38e40899ab5e0b556bff42b",
       "value": 11
      }
     },
     "d10941a4c8d748eaad01cd8afb83f0ac": {
      "model_module": "jupyter-js-widgets",
      "model_module_version": "~2.1.4",
      "model_name": "HTMLModel",
      "state": {
       "_model_module_version": "~2.1.4",
       "_view_module_version": "~2.1.4",
       "layout": "IPY_MODEL_1274f9fb416f4425bc180eb0c1efcfad",
       "value": "  0% 0/2 [00:00&lt;?, ?it/s]"
      }
     },
     "d2866f0dcc3b41068c8487f430463a6f": {
      "model_module": "jupyter-js-widgets",
      "model_module_version": "~2.1.4",
      "model_name": "ProgressStyleModel",
      "state": {
       "_model_module_version": "~2.1.4",
       "_view_module_version": "~2.1.4"
      }
     },
     "d30220777e314835bb2d63317c7b414c": {
      "model_module": "jupyter-js-widgets",
      "model_module_version": "~2.1.4",
      "model_name": "HBoxModel",
      "state": {
       "_model_module_version": "~2.1.4",
       "_view_module_version": "~2.1.4",
       "children": [
        "IPY_MODEL_23516878eb9243369cbb03a661f8ec73",
        "IPY_MODEL_a63dd7f729ea44fba43fd2221f254d7a"
       ],
       "layout": "IPY_MODEL_2fcd3f791a7e463faabd495aae70297a"
      }
     },
     "d4964b6ebe9b4b7f9224075ef3cafc2a": {
      "model_module": "jupyter-js-widgets",
      "model_module_version": "~2.1.4",
      "model_name": "LayoutModel",
      "state": {
       "_model_module_version": "~2.1.4",
       "_view_module_version": "~2.1.4"
      }
     },
     "d5f0aefc0eb34bb8a0a5e61ad97e62d6": {
      "model_module": "jupyter-js-widgets",
      "model_module_version": "~2.1.4",
      "model_name": "LayoutModel",
      "state": {
       "_model_module_version": "~2.1.4",
       "_view_module_version": "~2.1.4"
      }
     },
     "da5d0a4088e14d75bbea991cab3859ab": {
      "model_module": "jupyter-js-widgets",
      "model_module_version": "~2.1.4",
      "model_name": "LayoutModel",
      "state": {
       "_model_module_version": "~2.1.4",
       "_view_module_version": "~2.1.4"
      }
     },
     "dad93a2d2101414eaed7972e3e275862": {
      "model_module": "jupyter-js-widgets",
      "model_module_version": "~2.1.4",
      "model_name": "LayoutModel",
      "state": {
       "_model_module_version": "~2.1.4",
       "_view_module_version": "~2.1.4"
      }
     },
     "dae51081908c48388fe2dde729efd999": {
      "model_module": "jupyter-js-widgets",
      "model_module_version": "~2.1.4",
      "model_name": "HTMLModel",
      "state": {
       "_model_module_version": "~2.1.4",
       "_view_module_version": "~2.1.4",
       "layout": "IPY_MODEL_81375218a4f84198a3b188a569d729e0",
       "value": " 60% 97/161 [27:14&lt;1:53:56, 106.82s/it]"
      }
     },
     "dca9b8e7cc964289b7f7e76b220f8dbc": {
      "model_module": "jupyter-js-widgets",
      "model_module_version": "~2.1.4",
      "model_name": "LayoutModel",
      "state": {
       "_model_module_version": "~2.1.4",
       "_view_module_version": "~2.1.4"
      }
     },
     "dcb81e5ca7af4fbcaad35d7bb6bcea8a": {
      "model_module": "jupyter-js-widgets",
      "model_module_version": "~2.1.4",
      "model_name": "HBoxModel",
      "state": {
       "_model_module_version": "~2.1.4",
       "_view_module_version": "~2.1.4",
       "children": [
        "IPY_MODEL_ea1a153dead244e79fdcce86c61dda9b",
        "IPY_MODEL_f0e4b345921e481a834f1cef8ed88163"
       ],
       "layout": "IPY_MODEL_73513a58866145f8afadd394798c50a3"
      }
     },
     "dcc098a033c54996b5435794128a5c14": {
      "model_module": "jupyter-js-widgets",
      "model_module_version": "~2.1.4",
      "model_name": "LayoutModel",
      "state": {
       "_model_module_version": "~2.1.4",
       "_view_module_version": "~2.1.4"
      }
     },
     "dda9e0997a034d9e91c6659c9cb7fe9b": {
      "model_module": "jupyter-js-widgets",
      "model_module_version": "~2.1.4",
      "model_name": "LayoutModel",
      "state": {
       "_model_module_version": "~2.1.4",
       "_view_module_version": "~2.1.4"
      }
     },
     "ddab8069a5d04f939e8cc5b349bd857a": {
      "model_module": "jupyter-js-widgets",
      "model_module_version": "~2.1.4",
      "model_name": "HTMLModel",
      "state": {
       "_model_module_version": "~2.1.4",
       "_view_module_version": "~2.1.4",
       "layout": "IPY_MODEL_1d48bdacb1cc4ec0867b842028a0ab47",
       "value": "100% 100/100 [00:01&lt;00:00, 94.45it/s]"
      }
     },
     "de3cd3c6c8894e5b8065de1605e94c7a": {
      "model_module": "jupyter-js-widgets",
      "model_module_version": "~2.1.4",
      "model_name": "HBoxModel",
      "state": {
       "_model_module_version": "~2.1.4",
       "_view_module_version": "~2.1.4",
       "children": [
        "IPY_MODEL_b1a33c8858284f06a9600eccaa1e212d",
        "IPY_MODEL_c2dc34d57d3b46e38d414b8529db7e8f"
       ],
       "layout": "IPY_MODEL_2db62b134f6f47ac8835caf45ac1b5f2"
      }
     },
     "de8f58fb90ee4f05bb0da0e41aa0487d": {
      "model_module": "jupyter-js-widgets",
      "model_module_version": "~2.1.4",
      "model_name": "LayoutModel",
      "state": {
       "_model_module_version": "~2.1.4",
       "_view_module_version": "~2.1.4"
      }
     },
     "e09d450a31654ff8b46b0f9ce4d0a909": {
      "model_module": "jupyter-js-widgets",
      "model_module_version": "~2.1.4",
      "model_name": "LayoutModel",
      "state": {
       "_model_module_version": "~2.1.4",
       "_view_module_version": "~2.1.4"
      }
     },
     "e1a8bd727274400ba96c6973d8441136": {
      "model_module": "jupyter-js-widgets",
      "model_module_version": "~2.1.4",
      "model_name": "LayoutModel",
      "state": {
       "_model_module_version": "~2.1.4",
       "_view_module_version": "~2.1.4"
      }
     },
     "e1b3461c9cf54d6d8e00cdbdfbf5d69a": {
      "model_module": "jupyter-js-widgets",
      "model_module_version": "~2.1.4",
      "model_name": "LayoutModel",
      "state": {
       "_model_module_version": "~2.1.4",
       "_view_module_version": "~2.1.4"
      }
     },
     "e27dd54d5ede4d38bd1fdbe7de8edea7": {
      "model_module": "jupyter-js-widgets",
      "model_module_version": "~2.1.4",
      "model_name": "ProgressStyleModel",
      "state": {
       "_model_module_version": "~2.1.4",
       "_view_module_version": "~2.1.4"
      }
     },
     "e2c76649c7ce43e29df27076cce77842": {
      "model_module": "jupyter-js-widgets",
      "model_module_version": "~2.1.4",
      "model_name": "HTMLModel",
      "state": {
       "_model_module_version": "~2.1.4",
       "_view_module_version": "~2.1.4",
       "layout": "IPY_MODEL_4ba94cf28ae747fbb8201b7bca31a648",
       "value": "100% 100/100 [00:01&lt;00:00, 94.44it/s]"
      }
     },
     "e2d5dc2cd48e4018a457cd357dc869a4": {
      "model_module": "jupyter-js-widgets",
      "model_module_version": "~2.1.4",
      "model_name": "LayoutModel",
      "state": {
       "_model_module_version": "~2.1.4",
       "_view_module_version": "~2.1.4"
      }
     },
     "e39fe25a78ed4e708df21602789ac517": {
      "model_module": "jupyter-js-widgets",
      "model_module_version": "~2.1.4",
      "model_name": "ProgressModel",
      "state": {
       "_model_module_version": "~2.1.4",
       "_view_module_version": "~2.1.4",
       "bar_style": "danger",
       "layout": "IPY_MODEL_546121d5250b419d83118d175fcb11c3",
       "max": 161,
       "style": "IPY_MODEL_75d7889a52b549d2baefcc03e48cb475",
       "value": 1
      }
     },
     "e4950867d850445490c5f9f10d15b827": {
      "model_module": "jupyter-js-widgets",
      "model_module_version": "~2.1.4",
      "model_name": "HBoxModel",
      "state": {
       "_model_module_version": "~2.1.4",
       "_view_module_version": "~2.1.4",
       "children": [
        "IPY_MODEL_01a1aefabcec43f2bdb1ebf802228eb5",
        "IPY_MODEL_dae51081908c48388fe2dde729efd999"
       ],
       "layout": "IPY_MODEL_202c4e5143bf4b2fadfa285aaf9aa85c"
      }
     },
     "e770baa57bf34a53be908747d4b0204c": {
      "model_module": "jupyter-js-widgets",
      "model_module_version": "~2.1.4",
      "model_name": "ProgressModel",
      "state": {
       "_model_module_version": "~2.1.4",
       "_view_module_version": "~2.1.4",
       "bar_style": "info",
       "layout": "IPY_MODEL_e2d5dc2cd48e4018a457cd357dc869a4",
       "max": 1,
       "style": "IPY_MODEL_a27acfa73fa3499fb9a5b11c0f3127e5",
       "value": 1
      }
     },
     "e7c462127f3b4749ba9de17338fcfded": {
      "model_module": "jupyter-js-widgets",
      "model_module_version": "~2.1.4",
      "model_name": "LayoutModel",
      "state": {
       "_model_module_version": "~2.1.4",
       "_view_module_version": "~2.1.4"
      }
     },
     "e814f79ea5604486848cde688f0c6f5b": {
      "model_module": "jupyter-js-widgets",
      "model_module_version": "~2.1.4",
      "model_name": "HTMLModel",
      "state": {
       "_model_module_version": "~2.1.4",
       "_view_module_version": "~2.1.4",
       "layout": "IPY_MODEL_ea5e349fc0ff42648b139a692c11c0be",
       "value": "  2% 1/56 [21:53&lt;20:03:44, 1313.17s/it]"
      }
     },
     "e84ed1cd09db4b7a83b62e0d035cb193": {
      "model_module": "jupyter-js-widgets",
      "model_module_version": "~2.1.4",
      "model_name": "HTMLModel",
      "state": {
       "_model_module_version": "~2.1.4",
       "_view_module_version": "~2.1.4",
       "layout": "IPY_MODEL_c179671e123f4f95b3bb3f6610904644",
       "value": "  8% 13/161 [00:29&lt;05:30,  2.24s/it]"
      }
     },
     "e87f838f47ec4a7cb2aab3c6ba28c10b": {
      "model_module": "jupyter-js-widgets",
      "model_module_version": "~2.1.4",
      "model_name": "HTMLModel",
      "state": {
       "_model_module_version": "~2.1.4",
       "_view_module_version": "~2.1.4",
       "layout": "IPY_MODEL_882be01ed7fb4895982bf3688df74a65",
       "value": "  0% 0/20 [00:00&lt;?, ?it/s]"
      }
     },
     "ea1a153dead244e79fdcce86c61dda9b": {
      "model_module": "jupyter-js-widgets",
      "model_module_version": "~2.1.4",
      "model_name": "ProgressModel",
      "state": {
       "_model_module_version": "~2.1.4",
       "_view_module_version": "~2.1.4",
       "bar_style": "danger",
       "layout": "IPY_MODEL_14772fef66ed49e0a6c3bf7feb183354",
       "max": 161,
       "style": "IPY_MODEL_80b6bb7af684417a841e77fa7acbdcca",
       "value": 27
      }
     },
     "ea5e349fc0ff42648b139a692c11c0be": {
      "model_module": "jupyter-js-widgets",
      "model_module_version": "~2.1.4",
      "model_name": "LayoutModel",
      "state": {
       "_model_module_version": "~2.1.4",
       "_view_module_version": "~2.1.4"
      }
     },
     "eae63fd3fe6e4fe2b76deba06fb6ee90": {
      "model_module": "jupyter-js-widgets",
      "model_module_version": "~2.1.4",
      "model_name": "HBoxModel",
      "state": {
       "_model_module_version": "~2.1.4",
       "_view_module_version": "~2.1.4",
       "children": [
        "IPY_MODEL_359f833201724c21b20ab05d81b887df",
        "IPY_MODEL_8c5ef62b8a394a95beaa66f6884b6dd6"
       ],
       "layout": "IPY_MODEL_124b046365814bb9b7e62978a7d705c8"
      }
     },
     "eb84e72cc88b4487810b9b2a93397be7": {
      "model_module": "jupyter-js-widgets",
      "model_module_version": "~2.1.4",
      "model_name": "ProgressModel",
      "state": {
       "_model_module_version": "~2.1.4",
       "_view_module_version": "~2.1.4",
       "bar_style": "success",
       "description": "2nd loop",
       "layout": "IPY_MODEL_21e511d2f09f449f84f6240a036d084a",
       "style": "IPY_MODEL_bcb025c08a8248fca42c9645ba0042c6",
       "value": 100
      }
     },
     "ec3ee10d426a4ebe9215c62237f3887a": {
      "model_module": "jupyter-js-widgets",
      "model_module_version": "~2.1.4",
      "model_name": "HTMLModel",
      "state": {
       "_model_module_version": "~2.1.4",
       "_view_module_version": "~2.1.4",
       "layout": "IPY_MODEL_6df223e4c04b45b68327e2ca98db6e43",
       "value": "100% 100/100 [00:01&lt;00:00, 94.42it/s]"
      }
     },
     "eff51d8c8f5a4840b5d838265c694893": {
      "model_module": "jupyter-js-widgets",
      "model_module_version": "~2.1.4",
      "model_name": "LayoutModel",
      "state": {
       "_model_module_version": "~2.1.4",
       "_view_module_version": "~2.1.4"
      }
     },
     "f0089af563434290b7fcafe1f899e276": {
      "model_module": "jupyter-js-widgets",
      "model_module_version": "~2.1.4",
      "model_name": "LayoutModel",
      "state": {
       "_model_module_version": "~2.1.4",
       "_view_module_version": "~2.1.4"
      }
     },
     "f0e4b345921e481a834f1cef8ed88163": {
      "model_module": "jupyter-js-widgets",
      "model_module_version": "~2.1.4",
      "model_name": "HTMLModel",
      "state": {
       "_model_module_version": "~2.1.4",
       "_view_module_version": "~2.1.4",
       "layout": "IPY_MODEL_4c26b6855196449180c85ccaf931dfa2",
       "value": " 17% 27/161 [03:19&lt;1:29:03, 39.87s/it]"
      }
     },
     "f301d9815b284c7b8a4a7424a67b2b5c": {
      "model_module": "jupyter-js-widgets",
      "model_module_version": "~2.1.4",
      "model_name": "LayoutModel",
      "state": {
       "_model_module_version": "~2.1.4",
       "_view_module_version": "~2.1.4"
      }
     },
     "f4074f089ff944e4bc06c38124ba5c86": {
      "model_module": "jupyter-js-widgets",
      "model_module_version": "~2.1.4",
      "model_name": "HTMLModel",
      "state": {
       "_model_module_version": "~2.1.4",
       "_view_module_version": "~2.1.4",
       "layout": "IPY_MODEL_a356e824720f4ed3bb5b37def07ed1b2",
       "value": "  0% 0/161 [00:00&lt;?, ?it/s]"
      }
     },
     "f44af4d11e4b419fbcdaf2dd273ff0e1": {
      "model_module": "jupyter-js-widgets",
      "model_module_version": "~2.1.4",
      "model_name": "HTMLModel",
      "state": {
       "_model_module_version": "~2.1.4",
       "_view_module_version": "~2.1.4",
       "layout": "IPY_MODEL_5dc16a77647244d698e03825fefe3550",
       "value": " 69% 111/161 [32:37&lt;17:45, 21.32s/it]"
      }
     },
     "f52b8c8c34154c8dbadb871b86ee1bc4": {
      "model_module": "jupyter-js-widgets",
      "model_module_version": "~2.1.4",
      "model_name": "LayoutModel",
      "state": {
       "_model_module_version": "~2.1.4",
       "_view_module_version": "~2.1.4"
      }
     },
     "f62db955f9f84be987f8035126fb2c83": {
      "model_module": "jupyter-js-widgets",
      "model_module_version": "~2.1.4",
      "model_name": "ProgressStyleModel",
      "state": {
       "_model_module_version": "~2.1.4",
       "_view_module_version": "~2.1.4"
      }
     },
     "f795a87163b54ed79e289f23f3dce8c9": {
      "model_module": "jupyter-js-widgets",
      "model_module_version": "~2.1.4",
      "model_name": "LayoutModel",
      "state": {
       "_model_module_version": "~2.1.4",
       "_view_module_version": "~2.1.4"
      }
     },
     "f87c4f78fdee44dbb6d8abc5994da94e": {
      "model_module": "jupyter-js-widgets",
      "model_module_version": "~2.1.4",
      "model_name": "LayoutModel",
      "state": {
       "_model_module_version": "~2.1.4",
       "_view_module_version": "~2.1.4"
      }
     },
     "f8a40139a27c4179aba89bd7ea3b7b2f": {
      "model_module": "jupyter-js-widgets",
      "model_module_version": "~2.1.4",
      "model_name": "LayoutModel",
      "state": {
       "_model_module_version": "~2.1.4",
       "_view_module_version": "~2.1.4"
      }
     },
     "f975d254acc341df8854da57e432494a": {
      "model_module": "jupyter-js-widgets",
      "model_module_version": "~2.1.4",
      "model_name": "ProgressModel",
      "state": {
       "_model_module_version": "~2.1.4",
       "_view_module_version": "~2.1.4",
       "bar_style": "success",
       "description": "1st loop",
       "layout": "IPY_MODEL_82c586e7a4ee44c6bed0ec6495a0bd02",
       "max": 10,
       "style": "IPY_MODEL_1371332ef51b410990f08dff158c01c2",
       "value": 10
      }
     },
     "f9a2efe002c54b8096f18b96a5ead608": {
      "model_module": "jupyter-js-widgets",
      "model_module_version": "~2.1.4",
      "model_name": "ProgressModel",
      "state": {
       "_model_module_version": "~2.1.4",
       "_view_module_version": "~2.1.4",
       "bar_style": "success",
       "description": "2nd loop",
       "layout": "IPY_MODEL_59b008cb5647464f8b5b8e68be8c60e6",
       "style": "IPY_MODEL_6eac70151317499aae66c6cc00591cf4",
       "value": 100
      }
     },
     "f9da69ae1e954079a680c3b4c5efbcbf": {
      "model_module": "jupyter-js-widgets",
      "model_module_version": "~2.1.4",
      "model_name": "HTMLModel",
      "state": {
       "_model_module_version": "~2.1.4",
       "_view_module_version": "~2.1.4",
       "layout": "IPY_MODEL_a345257c208a43c2947ea6a5739789a9",
       "value": "100% 100/100 [00:01&lt;00:00, 94.50it/s]"
      }
     },
     "f9ffddcf4a4844229ace84cf0c1f0221": {
      "model_module": "jupyter-js-widgets",
      "model_module_version": "~2.1.4",
      "model_name": "LayoutModel",
      "state": {
       "_model_module_version": "~2.1.4",
       "_view_module_version": "~2.1.4"
      }
     },
     "fd3c4974ebfa499d8512922c01a14e36": {
      "model_module": "jupyter-js-widgets",
      "model_module_version": "~2.1.4",
      "model_name": "LayoutModel",
      "state": {
       "_model_module_version": "~2.1.4",
       "_view_module_version": "~2.1.4"
      }
     },
     "fdb5a38d26d34ca7a39457e2e9e98f09": {
      "model_module": "jupyter-js-widgets",
      "model_module_version": "~2.1.4",
      "model_name": "HBoxModel",
      "state": {
       "_model_module_version": "~2.1.4",
       "_view_module_version": "~2.1.4",
       "children": [
        "IPY_MODEL_5103b56cf0404c77b10a0c844f6eb98d",
        "IPY_MODEL_71d515ed977d49bb9807f5a2fe5cbc3b"
       ],
       "layout": "IPY_MODEL_7eea1263f1c849319d56087fcb22533b"
      }
     },
     "ff8263960bc34aff8b5642d98fe82b32": {
      "model_module": "jupyter-js-widgets",
      "model_module_version": "~2.1.4",
      "model_name": "ProgressModel",
      "state": {
       "_model_module_version": "~2.1.4",
       "_view_module_version": "~2.1.4",
       "bar_style": "success",
       "layout": "IPY_MODEL_2017876e5b4248c8898884349c089315",
       "max": 1,
       "style": "IPY_MODEL_1f3505678798438a8050eeec15cf3d03",
       "value": 1
      }
     },
     "ffa1169604724b939069ffc142d06d18": {
      "model_module": "jupyter-js-widgets",
      "model_module_version": "~2.1.4",
      "model_name": "LayoutModel",
      "state": {
       "_model_module_version": "~2.1.4",
       "_view_module_version": "~2.1.4"
      }
     }
    },
    "version_major": 1,
    "version_minor": 0
   }
  }
 },
 "nbformat": 4,
 "nbformat_minor": 2
}
